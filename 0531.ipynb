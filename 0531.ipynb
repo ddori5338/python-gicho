{
 "cells": [
  {
   "cell_type": "code",
   "execution_count": 1,
   "metadata": {},
   "outputs": [],
   "source": [
    "import numpy as np"
   ]
  },
  {
   "cell_type": "markdown",
   "metadata": {},
   "source": [
    "### 여러 행렬"
   ]
  },
  {
   "cell_type": "code",
   "execution_count": 10,
   "metadata": {},
   "outputs": [
    {
     "data": {
      "text/plain": [
       "array([0., 0., 0., 0., 0., 0., 0., 0., 0.])"
      ]
     },
     "execution_count": 10,
     "metadata": {},
     "output_type": "execute_result"
    }
   ],
   "source": [
    "np.zeros(9)"
   ]
  },
  {
   "cell_type": "code",
   "execution_count": 11,
   "metadata": {},
   "outputs": [
    {
     "data": {
      "text/plain": [
       "array([[0., 0., 0.],\n",
       "       [0., 0., 0.],\n",
       "       [0., 0., 0.]])"
      ]
     },
     "execution_count": 11,
     "metadata": {},
     "output_type": "execute_result"
    }
   ],
   "source": [
    "np.zeros((3,3))"
   ]
  },
  {
   "cell_type": "code",
   "execution_count": 12,
   "metadata": {},
   "outputs": [
    {
     "data": {
      "text/plain": [
       "array([1., 1., 1., 1., 1., 1., 1., 1., 1.])"
      ]
     },
     "execution_count": 12,
     "metadata": {},
     "output_type": "execute_result"
    }
   ],
   "source": [
    "np.ones(9)"
   ]
  },
  {
   "cell_type": "code",
   "execution_count": 13,
   "metadata": {},
   "outputs": [
    {
     "data": {
      "text/plain": [
       "array([[1., 1., 1.],\n",
       "       [1., 1., 1.],\n",
       "       [1., 1., 1.]])"
      ]
     },
     "execution_count": 13,
     "metadata": {},
     "output_type": "execute_result"
    }
   ],
   "source": [
    "np.ones((3,3))"
   ]
  },
  {
   "cell_type": "code",
   "execution_count": 14,
   "metadata": {},
   "outputs": [
    {
     "data": {
      "text/plain": [
       "array([[1., 0., 0., 0., 0.],\n",
       "       [0., 1., 0., 0., 0.],\n",
       "       [0., 0., 1., 0., 0.],\n",
       "       [0., 0., 0., 1., 0.],\n",
       "       [0., 0., 0., 0., 1.]])"
      ]
     },
     "execution_count": 14,
     "metadata": {},
     "output_type": "execute_result"
    }
   ],
   "source": [
    "np.eye(5)"
   ]
  },
  {
   "cell_type": "code",
   "execution_count": 15,
   "metadata": {},
   "outputs": [
    {
     "data": {
      "text/plain": [
       "array([[1., 0., 0., 0., 0.],\n",
       "       [0., 1., 0., 0., 0.],\n",
       "       [0., 0., 1., 0., 0.],\n",
       "       [0., 0., 0., 1., 0.],\n",
       "       [0., 0., 0., 0., 1.]])"
      ]
     },
     "execution_count": 15,
     "metadata": {},
     "output_type": "execute_result"
    }
   ],
   "source": [
    "np.identity(5)"
   ]
  },
  {
   "cell_type": "markdown",
   "metadata": {},
   "source": [
    "### 배열의 연산"
   ]
  },
  {
   "cell_type": "code",
   "execution_count": 16,
   "metadata": {},
   "outputs": [
    {
     "name": "stdout",
     "output_type": "stream",
     "text": [
      "a:array([1., 2., 3., 4., 5., 6.]) \t shape:(6,)\n",
      "b:array([10., 20., 30., 40., 50., 60.]) \t shape:(6,)\n"
     ]
    }
   ],
   "source": [
    "a = np.arange(1.0, 7)\n",
    "b = np.arange(10.0, 70, 10)\n",
    "\n",
    "#repr은 클래스에서 __repr__을 호출하는 함수\n",
    "print('a:%s \\t shape:%s' %(repr(a), a.shape))\n",
    "print('b:%s \\t shape:%s' %(repr(b), b.shape))"
   ]
  },
  {
   "cell_type": "code",
   "execution_count": 17,
   "metadata": {},
   "outputs": [
    {
     "data": {
      "text/plain": [
       "array([101., 102., 103., 104., 105., 106.])"
      ]
     },
     "execution_count": 17,
     "metadata": {},
     "output_type": "execute_result"
    }
   ],
   "source": [
    "a+100"
   ]
  },
  {
   "cell_type": "code",
   "execution_count": 18,
   "metadata": {},
   "outputs": [
    {
     "data": {
      "text/plain": [
       "array([11., 22., 33., 44., 55., 66.])"
      ]
     },
     "execution_count": 18,
     "metadata": {},
     "output_type": "execute_result"
    }
   ],
   "source": [
    "a+b"
   ]
  },
  {
   "cell_type": "code",
   "execution_count": 19,
   "metadata": {},
   "outputs": [
    {
     "data": {
      "text/plain": [
       "array([ 9., 18., 27., 36., 45., 54.])"
      ]
     },
     "execution_count": 19,
     "metadata": {},
     "output_type": "execute_result"
    }
   ],
   "source": [
    "b-a"
   ]
  },
  {
   "cell_type": "code",
   "execution_count": 20,
   "metadata": {},
   "outputs": [
    {
     "data": {
      "text/plain": [
       "array([ 10.,  40.,  90., 160., 250., 360.])"
      ]
     },
     "execution_count": 20,
     "metadata": {},
     "output_type": "execute_result"
    }
   ],
   "source": [
    "a*b"
   ]
  },
  {
   "cell_type": "code",
   "execution_count": 21,
   "metadata": {},
   "outputs": [
    {
     "data": {
      "text/plain": [
       "array([0.1, 0.1, 0.1, 0.1, 0.1, 0.1])"
      ]
     },
     "execution_count": 21,
     "metadata": {},
     "output_type": "execute_result"
    }
   ],
   "source": [
    "a/b"
   ]
  },
  {
   "cell_type": "code",
   "execution_count": 22,
   "metadata": {},
   "outputs": [
    {
     "data": {
      "text/plain": [
       "array([1.00000000e+00, 1.04857600e+06, 2.05891132e+14, 1.20892582e+24,\n",
       "       8.88178420e+34, 4.88736780e+46])"
      ]
     },
     "execution_count": 22,
     "metadata": {},
     "output_type": "execute_result"
    }
   ],
   "source": [
    "a**b"
   ]
  },
  {
   "cell_type": "code",
   "execution_count": 23,
   "metadata": {},
   "outputs": [
    {
     "data": {
      "text/plain": [
       "array([False, False,  True,  True,  True,  True])"
      ]
     },
     "execution_count": 23,
     "metadata": {},
     "output_type": "execute_result"
    }
   ],
   "source": [
    "b>20"
   ]
  },
  {
   "cell_type": "code",
   "execution_count": 25,
   "metadata": {},
   "outputs": [
    {
     "data": {
      "text/plain": [
       "array([30., 40., 50., 60.])"
      ]
     },
     "execution_count": 25,
     "metadata": {},
     "output_type": "execute_result"
    }
   ],
   "source": [
    "b[[False, False,  True,  True,  True,  True]]"
   ]
  },
  {
   "cell_type": "code",
   "execution_count": 28,
   "metadata": {},
   "outputs": [
    {
     "name": "stdout",
     "output_type": "stream",
     "text": [
      "a: array([[1, 2, 3, 4],\n",
      "       [5, 6, 7, 8]]) \t\t shape:(2, 4)\n",
      "b: array([[10, 20, 30, 40],\n",
      "       [50, 60, 70, 80]]) \t shape:(2, 4)\n"
     ]
    }
   ],
   "source": [
    "a=np.arange(1,9).reshape(2,4)\n",
    "b=np.arange(10,90,10).reshape(2,4)\n",
    "\n",
    "print('a: %s \\t\\t shape:%s' % (repr(a), a.shape))\n",
    "print('b: %s \\t shape:%s' % (repr(b), b.shape))"
   ]
  },
  {
   "cell_type": "code",
   "execution_count": 29,
   "metadata": {},
   "outputs": [
    {
     "data": {
      "text/plain": [
       "array([[ 10,  40,  90, 160],\n",
       "       [250, 360, 490, 640]])"
      ]
     },
     "execution_count": 29,
     "metadata": {},
     "output_type": "execute_result"
    }
   ],
   "source": [
    "a*b"
   ]
  },
  {
   "cell_type": "code",
   "execution_count": 30,
   "metadata": {},
   "outputs": [
    {
     "data": {
      "text/plain": [
       "36"
      ]
     },
     "execution_count": 30,
     "metadata": {},
     "output_type": "execute_result"
    }
   ],
   "source": [
    "a.sum()"
   ]
  },
  {
   "cell_type": "code",
   "execution_count": 31,
   "metadata": {},
   "outputs": [
    {
     "data": {
      "text/plain": [
       "4.5"
      ]
     },
     "execution_count": 31,
     "metadata": {},
     "output_type": "execute_result"
    }
   ],
   "source": [
    "a.mean()"
   ]
  },
  {
   "cell_type": "code",
   "execution_count": 32,
   "metadata": {},
   "outputs": [
    {
     "data": {
      "text/plain": [
       "2.29128784747792"
      ]
     },
     "execution_count": 32,
     "metadata": {},
     "output_type": "execute_result"
    }
   ],
   "source": [
    "a.std()"
   ]
  },
  {
   "cell_type": "code",
   "execution_count": 33,
   "metadata": {},
   "outputs": [
    {
     "data": {
      "text/plain": [
       "5.25"
      ]
     },
     "execution_count": 33,
     "metadata": {},
     "output_type": "execute_result"
    }
   ],
   "source": [
    "a.var()"
   ]
  },
  {
   "cell_type": "code",
   "execution_count": 34,
   "metadata": {},
   "outputs": [
    {
     "data": {
      "text/plain": [
       "1"
      ]
     },
     "execution_count": 34,
     "metadata": {},
     "output_type": "execute_result"
    }
   ],
   "source": [
    "a.min()"
   ]
  },
  {
   "cell_type": "code",
   "execution_count": 35,
   "metadata": {},
   "outputs": [
    {
     "data": {
      "text/plain": [
       "8"
      ]
     },
     "execution_count": 35,
     "metadata": {},
     "output_type": "execute_result"
    }
   ],
   "source": [
    "a.max()"
   ]
  },
  {
   "cell_type": "code",
   "execution_count": 36,
   "metadata": {},
   "outputs": [
    {
     "data": {
      "text/plain": [
       "array([ 1,  3,  6, 10, 15, 21, 28, 36], dtype=int32)"
      ]
     },
     "execution_count": 36,
     "metadata": {},
     "output_type": "execute_result"
    }
   ],
   "source": [
    "a.cumsum()"
   ]
  },
  {
   "cell_type": "code",
   "execution_count": 37,
   "metadata": {},
   "outputs": [
    {
     "data": {
      "text/plain": [
       "array([    1,     2,     6,    24,   120,   720,  5040, 40320],\n",
       "      dtype=int32)"
      ]
     },
     "execution_count": 37,
     "metadata": {},
     "output_type": "execute_result"
    }
   ],
   "source": [
    "a.cumprod()"
   ]
  },
  {
   "cell_type": "code",
   "execution_count": 38,
   "metadata": {
    "scrolled": true
   },
   "outputs": [
    {
     "name": "stdout",
     "output_type": "stream",
     "text": [
      "a: array([[1, 2, 3],\n",
      "       [4, 5, 6]])\n",
      "b: array([[6, 5],\n",
      "       [4, 3],\n",
      "       [2, 1]])\n"
     ]
    }
   ],
   "source": [
    "a=np.arange(1,7).reshape(2,3)\n",
    "b=np.arange(6,0,-1).reshape(3,2)\n",
    "\n",
    "print(\"a: %s\" % repr(a))\n",
    "print(\"b: %s\" % repr(b))"
   ]
  },
  {
   "cell_type": "markdown",
   "metadata": {},
   "source": [
    "### 행렬곱"
   ]
  },
  {
   "cell_type": "code",
   "execution_count": 39,
   "metadata": {},
   "outputs": [
    {
     "data": {
      "text/plain": [
       "array([[20, 14],\n",
       "       [56, 41]])"
      ]
     },
     "execution_count": 39,
     "metadata": {},
     "output_type": "execute_result"
    }
   ],
   "source": [
    "a.dot(b)"
   ]
  },
  {
   "cell_type": "code",
   "execution_count": 41,
   "metadata": {},
   "outputs": [
    {
     "data": {
      "text/plain": [
       "array([[20, 14],\n",
       "       [56, 41]])"
      ]
     },
     "execution_count": 41,
     "metadata": {},
     "output_type": "execute_result"
    }
   ],
   "source": [
    "np.matmul(a,b)"
   ]
  },
  {
   "cell_type": "code",
   "execution_count": 40,
   "metadata": {},
   "outputs": [
    {
     "data": {
      "text/plain": [
       "array([[20, 14],\n",
       "       [56, 41]])"
      ]
     },
     "execution_count": 40,
     "metadata": {},
     "output_type": "execute_result"
    }
   ],
   "source": [
    "a@b"
   ]
  },
  {
   "cell_type": "markdown",
   "metadata": {},
   "source": [
    "### 전치행렬 "
   ]
  },
  {
   "cell_type": "code",
   "execution_count": 42,
   "metadata": {},
   "outputs": [
    {
     "data": {
      "text/plain": [
       "array([[1, 4],\n",
       "       [2, 5],\n",
       "       [3, 6]])"
      ]
     },
     "execution_count": 42,
     "metadata": {},
     "output_type": "execute_result"
    }
   ],
   "source": [
    "a.transpose()"
   ]
  },
  {
   "cell_type": "code",
   "execution_count": 43,
   "metadata": {},
   "outputs": [
    {
     "data": {
      "text/plain": [
       "array([[1, 4],\n",
       "       [2, 5],\n",
       "       [3, 6]])"
      ]
     },
     "execution_count": 43,
     "metadata": {},
     "output_type": "execute_result"
    }
   ],
   "source": [
    "np.transpose(a)"
   ]
  },
  {
   "cell_type": "code",
   "execution_count": 44,
   "metadata": {},
   "outputs": [
    {
     "data": {
      "text/plain": [
       "array([[1, 4],\n",
       "       [2, 5],\n",
       "       [3, 6]])"
      ]
     },
     "execution_count": 44,
     "metadata": {},
     "output_type": "execute_result"
    }
   ],
   "source": [
    "a.T"
   ]
  },
  {
   "cell_type": "code",
   "execution_count": 45,
   "metadata": {},
   "outputs": [
    {
     "name": "stdout",
     "output_type": "stream",
     "text": [
      "a: array([[1, 2],\n",
      "       [3, 4]])\n",
      "b: array([[4, 3],\n",
      "       [2, 1]])\n"
     ]
    }
   ],
   "source": [
    "a=np.arange(1,5).reshape(2,2)\n",
    "b=np.arange(4,0,-1).reshape(2,2)\n",
    "\n",
    "print(\"a: %s\" % repr(a))\n",
    "print(\"b: %s\" % repr(b))"
   ]
  },
  {
   "cell_type": "markdown",
   "metadata": {},
   "source": [
    "### 단위행렬"
   ]
  },
  {
   "cell_type": "code",
   "execution_count": 46,
   "metadata": {},
   "outputs": [],
   "source": [
    "i = np.eye(2)"
   ]
  },
  {
   "cell_type": "code",
   "execution_count": 49,
   "metadata": {},
   "outputs": [
    {
     "data": {
      "text/plain": [
       "array([[1., 2.],\n",
       "       [3., 4.]])"
      ]
     },
     "execution_count": 49,
     "metadata": {},
     "output_type": "execute_result"
    }
   ],
   "source": [
    "a@i"
   ]
  },
  {
   "cell_type": "code",
   "execution_count": 50,
   "metadata": {},
   "outputs": [
    {
     "data": {
      "text/plain": [
       "array([[4., 3.],\n",
       "       [2., 1.]])"
      ]
     },
     "execution_count": 50,
     "metadata": {},
     "output_type": "execute_result"
    }
   ],
   "source": [
    "b@i"
   ]
  },
  {
   "cell_type": "code",
   "execution_count": 52,
   "metadata": {},
   "outputs": [
    {
     "data": {
      "text/plain": [
       "array([[-2. ,  1. ],\n",
       "       [ 1.5, -0.5]])"
      ]
     },
     "execution_count": 52,
     "metadata": {},
     "output_type": "execute_result"
    }
   ],
   "source": [
    "ai=np.linalg.inv(a)\n",
    "ai"
   ]
  },
  {
   "cell_type": "code",
   "execution_count": 53,
   "metadata": {},
   "outputs": [
    {
     "data": {
      "text/plain": [
       "array([[1.00000000e+00, 1.11022302e-16],\n",
       "       [0.00000000e+00, 1.00000000e+00]])"
      ]
     },
     "execution_count": 53,
     "metadata": {},
     "output_type": "execute_result"
    }
   ],
   "source": [
    "a@ai"
   ]
  },
  {
   "cell_type": "markdown",
   "metadata": {},
   "source": [
    "### 역행렬"
   ]
  },
  {
   "cell_type": "code",
   "execution_count": 55,
   "metadata": {},
   "outputs": [
    {
     "data": {
      "text/plain": [
       "array([[-0.5,  1.5],\n",
       "       [ 1. , -2. ]])"
      ]
     },
     "execution_count": 55,
     "metadata": {},
     "output_type": "execute_result"
    }
   ],
   "source": [
    "bi=np.linalg.inv(b)\n",
    "bi"
   ]
  },
  {
   "cell_type": "code",
   "execution_count": 56,
   "metadata": {},
   "outputs": [
    {
     "data": {
      "text/plain": [
       "array([[1., 0.],\n",
       "       [0., 1.]])"
      ]
     },
     "execution_count": 56,
     "metadata": {},
     "output_type": "execute_result"
    }
   ],
   "source": [
    "bi@b"
   ]
  },
  {
   "cell_type": "markdown",
   "metadata": {},
   "source": [
    "### 행렬식"
   ]
  },
  {
   "cell_type": "code",
   "execution_count": 57,
   "metadata": {},
   "outputs": [
    {
     "data": {
      "text/plain": [
       "-2.0000000000000004"
      ]
     },
     "execution_count": 57,
     "metadata": {},
     "output_type": "execute_result"
    }
   ],
   "source": [
    "np.linalg.det(a)"
   ]
  },
  {
   "cell_type": "code",
   "execution_count": 58,
   "metadata": {},
   "outputs": [
    {
     "data": {
      "text/plain": [
       "-2.0"
      ]
     },
     "execution_count": 58,
     "metadata": {},
     "output_type": "execute_result"
    }
   ],
   "source": [
    "np.linalg.det(b)"
   ]
  },
  {
   "cell_type": "code",
   "execution_count": 60,
   "metadata": {},
   "outputs": [
    {
     "data": {
      "text/plain": [
       "array([[ 0,  1,  2,  3,  4,  5],\n",
       "       [ 6,  7,  8,  9, 10, 11],\n",
       "       [12, 13, 14, 15, 16, 17],\n",
       "       [18, 19, 20, 21, 22, 23]])"
      ]
     },
     "execution_count": 60,
     "metadata": {},
     "output_type": "execute_result"
    }
   ],
   "source": [
    "a=np.arange(24).reshape(4,6)\n",
    "a"
   ]
  },
  {
   "cell_type": "code",
   "execution_count": 64,
   "metadata": {},
   "outputs": [
    {
     "data": {
      "text/plain": [
       "array([[1., 0., 0., 0., 0., 0.],\n",
       "       [0., 1., 0., 0., 0., 0.],\n",
       "       [0., 0., 1., 0., 0., 0.],\n",
       "       [0., 0., 0., 1., 0., 0.],\n",
       "       [0., 0., 0., 0., 1., 0.],\n",
       "       [0., 0., 0., 0., 0., 1.]])"
      ]
     },
     "execution_count": 64,
     "metadata": {},
     "output_type": "execute_result"
    }
   ],
   "source": [
    "i=np.eye(6)\n",
    "i"
   ]
  },
  {
   "cell_type": "code",
   "execution_count": 65,
   "metadata": {},
   "outputs": [
    {
     "data": {
      "text/plain": [
       "array([[ 0.,  1.,  2.,  3.,  4.,  5.],\n",
       "       [ 6.,  7.,  8.,  9., 10., 11.],\n",
       "       [12., 13., 14., 15., 16., 17.],\n",
       "       [18., 19., 20., 21., 22., 23.]])"
      ]
     },
     "execution_count": 65,
     "metadata": {},
     "output_type": "execute_result"
    }
   ],
   "source": [
    "a@i"
   ]
  },
  {
   "cell_type": "markdown",
   "metadata": {},
   "source": [
    "# 모듈"
   ]
  },
  {
   "cell_type": "code",
   "execution_count": 1,
   "metadata": {},
   "outputs": [
    {
     "data": {
      "text/plain": [
       "7"
      ]
     },
     "execution_count": 1,
     "metadata": {},
     "output_type": "execute_result"
    }
   ],
   "source": [
    "import random #random은 모듈 #그냥 이렇게 import모듈만 하면 [모듈이름].[함수이름](인자) 형태로 작성해야한다.\n",
    "random.randint(5,10)"
   ]
  },
  {
   "cell_type": "code",
   "execution_count": 2,
   "metadata": {
    "scrolled": true
   },
   "outputs": [
    {
     "data": {
      "text/plain": [
       "['BPF',\n",
       " 'LOG4',\n",
       " 'NV_MAGICCONST',\n",
       " 'RECIP_BPF',\n",
       " 'Random',\n",
       " 'SG_MAGICCONST',\n",
       " 'SystemRandom',\n",
       " 'TWOPI',\n",
       " '_BuiltinMethodType',\n",
       " '_MethodType',\n",
       " '_Sequence',\n",
       " '_Set',\n",
       " '__all__',\n",
       " '__builtins__',\n",
       " '__cached__',\n",
       " '__doc__',\n",
       " '__file__',\n",
       " '__loader__',\n",
       " '__name__',\n",
       " '__package__',\n",
       " '__spec__',\n",
       " '_acos',\n",
       " '_bisect',\n",
       " '_ceil',\n",
       " '_cos',\n",
       " '_e',\n",
       " '_exp',\n",
       " '_inst',\n",
       " '_itertools',\n",
       " '_log',\n",
       " '_os',\n",
       " '_pi',\n",
       " '_random',\n",
       " '_sha512',\n",
       " '_sin',\n",
       " '_sqrt',\n",
       " '_test',\n",
       " '_test_generator',\n",
       " '_urandom',\n",
       " '_warn',\n",
       " 'betavariate',\n",
       " 'choice',\n",
       " 'choices',\n",
       " 'expovariate',\n",
       " 'gammavariate',\n",
       " 'gauss',\n",
       " 'getrandbits',\n",
       " 'getstate',\n",
       " 'lognormvariate',\n",
       " 'normalvariate',\n",
       " 'paretovariate',\n",
       " 'randint',\n",
       " 'random',\n",
       " 'randrange',\n",
       " 'sample',\n",
       " 'seed',\n",
       " 'setstate',\n",
       " 'shuffle',\n",
       " 'triangular',\n",
       " 'uniform',\n",
       " 'vonmisesvariate',\n",
       " 'weibullvariate']"
      ]
     },
     "execution_count": 2,
     "metadata": {},
     "output_type": "execute_result"
    }
   ],
   "source": [
    "dir(random)"
   ]
  },
  {
   "cell_type": "code",
   "execution_count": 69,
   "metadata": {},
   "outputs": [
    {
     "data": {
      "text/plain": [
       "10"
      ]
     },
     "execution_count": 69,
     "metadata": {},
     "output_type": "execute_result"
    }
   ],
   "source": [
    "from random import randint\n",
    "randint(10,15)"
   ]
  },
  {
   "cell_type": "code",
   "execution_count": 8,
   "metadata": {},
   "outputs": [
    {
     "data": {
      "text/plain": [
       "0.03193061324846447"
      ]
     },
     "execution_count": 8,
     "metadata": {},
     "output_type": "execute_result"
    }
   ],
   "source": [
    "from random import * # *은 와일드 카드. 다 가져오겠다는 뜻 # 이러면 [함수이름](인자)만으로도 실행가능. 가져올수 있는 함수 리스트는 C:\\Users\\Funzo\\Anaconda3\\envs\\study\\Lib 안에 들어있는 모듈 파일들어가서 __all__을 보면 된다.\n",
    "random()"
   ]
  },
  {
   "cell_type": "code",
   "execution_count": 9,
   "metadata": {},
   "outputs": [
    {
     "data": {
      "text/plain": [
       "['__call__',\n",
       " '__class__',\n",
       " '__delattr__',\n",
       " '__dir__',\n",
       " '__doc__',\n",
       " '__eq__',\n",
       " '__format__',\n",
       " '__ge__',\n",
       " '__getattribute__',\n",
       " '__gt__',\n",
       " '__hash__',\n",
       " '__init__',\n",
       " '__init_subclass__',\n",
       " '__le__',\n",
       " '__lt__',\n",
       " '__module__',\n",
       " '__name__',\n",
       " '__ne__',\n",
       " '__new__',\n",
       " '__qualname__',\n",
       " '__reduce__',\n",
       " '__reduce_ex__',\n",
       " '__repr__',\n",
       " '__self__',\n",
       " '__setattr__',\n",
       " '__sizeof__',\n",
       " '__str__',\n",
       " '__subclasshook__',\n",
       " '__text_signature__']"
      ]
     },
     "execution_count": 9,
     "metadata": {},
     "output_type": "execute_result"
    }
   ],
   "source": [
    "dir(random) #위에서 한거랑 조금다름"
   ]
  },
  {
   "cell_type": "code",
   "execution_count": 5,
   "metadata": {},
   "outputs": [
    {
     "data": {
      "text/plain": [
       "1.1099915413942836"
      ]
     },
     "execution_count": 5,
     "metadata": {},
     "output_type": "execute_result"
    }
   ],
   "source": [
    "uniform(1,2)"
   ]
  },
  {
   "cell_type": "code",
   "execution_count": 72,
   "metadata": {},
   "outputs": [],
   "source": [
    "import json #json은 패키지"
   ]
  },
  {
   "cell_type": "code",
   "execution_count": 73,
   "metadata": {},
   "outputs": [],
   "source": [
    "from json import encoder #encoder는 모듈"
   ]
  },
  {
   "cell_type": "code",
   "execution_count": 74,
   "metadata": {},
   "outputs": [
    {
     "data": {
      "text/plain": [
       "json.encoder.JSONEncoder"
      ]
     },
     "execution_count": 74,
     "metadata": {},
     "output_type": "execute_result"
    }
   ],
   "source": [
    "encoder.JSONEncoder #JSONEncoder는 함수"
   ]
  },
  {
   "cell_type": "code",
   "execution_count": 75,
   "metadata": {},
   "outputs": [
    {
     "data": {
      "text/plain": [
       "json.encoder.JSONEncoder"
      ]
     },
     "execution_count": 75,
     "metadata": {},
     "output_type": "execute_result"
    }
   ],
   "source": [
    "from json.encoder import JSONEncoder #(패키지.모듈) 에서  JSONEncoder라는 함수를 가져온다.\n",
    "JSONEncoder"
   ]
  },
  {
   "cell_type": "code",
   "execution_count": 76,
   "metadata": {},
   "outputs": [],
   "source": [
    "import json.encoder"
   ]
  },
  {
   "cell_type": "code",
   "execution_count": 77,
   "metadata": {},
   "outputs": [
    {
     "data": {
      "text/plain": [
       "<module 'json.encoder' from 'C:\\\\Users\\\\Funzo\\\\Anaconda3\\\\lib\\\\json\\\\encoder.py'>"
      ]
     },
     "execution_count": 77,
     "metadata": {},
     "output_type": "execute_result"
    }
   ],
   "source": [
    "encoder"
   ]
  },
  {
   "cell_type": "code",
   "execution_count": 78,
   "metadata": {},
   "outputs": [
    {
     "data": {
      "text/plain": [
       "json.encoder.JSONEncoder"
      ]
     },
     "execution_count": 78,
     "metadata": {},
     "output_type": "execute_result"
    }
   ],
   "source": [
    "encoder.JSONEncoder"
   ]
  },
  {
   "cell_type": "code",
   "execution_count": 79,
   "metadata": {},
   "outputs": [],
   "source": [
    "import sys"
   ]
  },
  {
   "cell_type": "code",
   "execution_count": 80,
   "metadata": {},
   "outputs": [
    {
     "data": {
      "text/plain": [
       "['C:\\\\Users\\\\Funzo\\\\python gicho',\n",
       " 'C:\\\\Users\\\\Funzo\\\\Anaconda3\\\\python37.zip',\n",
       " 'C:\\\\Users\\\\Funzo\\\\Anaconda3\\\\DLLs',\n",
       " 'C:\\\\Users\\\\Funzo\\\\Anaconda3\\\\lib',\n",
       " 'C:\\\\Users\\\\Funzo\\\\Anaconda3',\n",
       " '',\n",
       " 'C:\\\\Users\\\\Funzo\\\\Anaconda3\\\\lib\\\\site-packages',\n",
       " 'C:\\\\Users\\\\Funzo\\\\Anaconda3\\\\lib\\\\site-packages\\\\win32',\n",
       " 'C:\\\\Users\\\\Funzo\\\\Anaconda3\\\\lib\\\\site-packages\\\\win32\\\\lib',\n",
       " 'C:\\\\Users\\\\Funzo\\\\Anaconda3\\\\lib\\\\site-packages\\\\Pythonwin',\n",
       " 'C:\\\\Users\\\\Funzo\\\\Anaconda3\\\\lib\\\\site-packages\\\\IPython\\\\extensions',\n",
       " 'C:\\\\Users\\\\Funzo\\\\.ipython']"
      ]
     },
     "execution_count": 80,
     "metadata": {},
     "output_type": "execute_result"
    }
   ],
   "source": [
    "sys.path"
   ]
  },
  {
   "cell_type": "code",
   "execution_count": 81,
   "metadata": {},
   "outputs": [],
   "source": [
    "from mypackage import calc_modules"
   ]
  },
  {
   "cell_type": "code",
   "execution_count": 83,
   "metadata": {},
   "outputs": [
    {
     "data": {
      "text/plain": [
       "8"
      ]
     },
     "execution_count": 83,
     "metadata": {},
     "output_type": "execute_result"
    }
   ],
   "source": [
    "calc_modules.sum_calc(5,3)"
   ]
  },
  {
   "cell_type": "code",
   "execution_count": 11,
   "metadata": {},
   "outputs": [
    {
     "data": {
      "text/plain": [
       "<mypackage.calc_modules.Calculator at 0x238b07fc7f0>"
      ]
     },
     "execution_count": 11,
     "metadata": {},
     "output_type": "execute_result"
    }
   ],
   "source": [
    "from mypackage.calc_modules import Calculator\n",
    "a=Calculator()\n",
    "a"
   ]
  },
  {
   "cell_type": "code",
   "execution_count": null,
   "metadata": {},
   "outputs": [],
   "source": [
    "# anaconda3.Lib안에다가 생성해서 쓰는방법이 1\n",
    "# python gicho안에 넣어서 쓰는방법이 2\n",
    "# init.py가 꼭 있어야 한다."
   ]
  },
  {
   "cell_type": "markdown",
   "metadata": {},
   "source": [
    "# 판다스"
   ]
  },
  {
   "cell_type": "markdown",
   "metadata": {},
   "source": [
    "## Series"
   ]
  },
  {
   "cell_type": "code",
   "execution_count": 19,
   "metadata": {},
   "outputs": [],
   "source": [
    "#아나콘다 네비게이터 - environment - all - pandas검색 후 체크, apply로 설치\n",
    "import pandas as pd\n",
    "import numpy as np"
   ]
  },
  {
   "cell_type": "code",
   "execution_count": 20,
   "metadata": {},
   "outputs": [
    {
     "data": {
      "text/plain": [
       "0    1.0\n",
       "1    3.0\n",
       "2    4.0\n",
       "3    NaN\n",
       "4    6.0\n",
       "5    8.0\n",
       "dtype: float64"
      ]
     },
     "execution_count": 20,
     "metadata": {},
     "output_type": "execute_result"
    }
   ],
   "source": [
    "s=pd.Series([1,3,4,np.nan,6,8])\n",
    "s"
   ]
  },
  {
   "cell_type": "code",
   "execution_count": 22,
   "metadata": {},
   "outputs": [
    {
     "data": {
      "text/plain": [
       "RangeIndex(start=0, stop=6, step=1)"
      ]
     },
     "execution_count": 22,
     "metadata": {},
     "output_type": "execute_result"
    }
   ],
   "source": [
    "s.index"
   ]
  },
  {
   "cell_type": "code",
   "execution_count": 23,
   "metadata": {},
   "outputs": [
    {
     "data": {
      "text/plain": [
       "array([ 1.,  3.,  4., nan,  6.,  8.])"
      ]
     },
     "execution_count": 23,
     "metadata": {},
     "output_type": "execute_result"
    }
   ],
   "source": [
    "s.values"
   ]
  },
  {
   "cell_type": "code",
   "execution_count": 24,
   "metadata": {},
   "outputs": [
    {
     "data": {
      "text/plain": [
       "0      1\n",
       "1      2\n",
       "2      3\n",
       "3      4\n",
       "4    NaN\n",
       "5    inf\n",
       "6      a\n",
       "7      b\n",
       "8      c\n",
       "dtype: object"
      ]
     },
     "execution_count": 24,
     "metadata": {},
     "output_type": "execute_result"
    }
   ],
   "source": [
    "s1 = pd.Series([1,2,3,4,np.nan,np.inf, 'a','b','c'])\n",
    "s1\n",
    "#object타입"
   ]
  },
  {
   "cell_type": "code",
   "execution_count": 25,
   "metadata": {},
   "outputs": [
    {
     "data": {
      "text/plain": [
       "array([1, 2, 3, 4, nan, inf, 'a', 'b', 'c'], dtype=object)"
      ]
     },
     "execution_count": 25,
     "metadata": {},
     "output_type": "execute_result"
    }
   ],
   "source": [
    "s1.values"
   ]
  },
  {
   "cell_type": "markdown",
   "metadata": {},
   "source": [
    "## index 설정하기"
   ]
  },
  {
   "cell_type": "code",
   "execution_count": 27,
   "metadata": {},
   "outputs": [
    {
     "data": {
      "text/plain": [
       "10    0\n",
       "11    1\n",
       "12    2\n",
       "13    3\n",
       "14    4\n",
       "15    5\n",
       "16    6\n",
       "17    7\n",
       "18    8\n",
       "19    9\n",
       "dtype: int64"
      ]
     },
     "execution_count": 27,
     "metadata": {},
     "output_type": "execute_result"
    }
   ],
   "source": [
    "index_seq = range(10,20)\n",
    "seq_data = range(10)\n",
    "s2 = pd.Series(data=seq_data, index=index_seq)\n",
    "s2"
   ]
  },
  {
   "cell_type": "code",
   "execution_count": 28,
   "metadata": {},
   "outputs": [
    {
     "data": {
      "text/plain": [
       "2018-10-17    200.0\n",
       "2018-10-18    195.0\n",
       "2018-10-19      NaN\n",
       "2018-10-20    205.0\n",
       "dtype: float64"
      ]
     },
     "execution_count": 28,
     "metadata": {},
     "output_type": "execute_result"
    }
   ],
   "source": [
    "index_date = ['2018-10-17', '2018-10-18', '2018-10-19', '2018-10-20']\n",
    "s3 = pd.Series([200, 195, np.nan, 205], index=index_date)\n",
    "s3"
   ]
  },
  {
   "cell_type": "markdown",
   "metadata": {},
   "source": [
    "## 딕셔너리로 시리즈입력"
   ]
  },
  {
   "cell_type": "code",
   "execution_count": 29,
   "metadata": {},
   "outputs": [
    {
     "name": "stdout",
     "output_type": "stream",
     "text": [
      "국어    100\n",
      "영어     95\n",
      "수학     80\n",
      "dtype: int64\n"
     ]
    }
   ],
   "source": [
    "#key->index, value->value\n",
    "dict_data = {\n",
    "    '국어': 100,\n",
    "    '영어': 95,\n",
    "    '수학': 80\n",
    "}\n",
    "s5 = pd.Series(dict_data)\n",
    "print(s5)"
   ]
  },
  {
   "cell_type": "code",
   "execution_count": 33,
   "metadata": {},
   "outputs": [
    {
     "name": "stdout",
     "output_type": "stream",
     "text": [
      "0    10\n",
      "1    20\n",
      "2    30\n",
      "3    40\n",
      "4    50\n",
      "5    60\n",
      "dtype: int64\n",
      "0    1\n",
      "1    2\n",
      "2    3\n",
      "3    4\n",
      "4    5\n",
      "dtype: int64\n"
     ]
    }
   ],
   "source": [
    "s1 = pd.Series((range(10, 70, 10)))\n",
    "s2 = pd.Series((range(1, 6)))\n",
    "\n",
    "print(repr(s1))\n",
    "print(repr(s2))"
   ]
  },
  {
   "cell_type": "code",
   "execution_count": 34,
   "metadata": {},
   "outputs": [
    {
     "data": {
      "text/plain": [
       "0    11.0\n",
       "1    22.0\n",
       "2    33.0\n",
       "3    44.0\n",
       "4    55.0\n",
       "5     NaN\n",
       "dtype: float64"
      ]
     },
     "execution_count": 34,
     "metadata": {},
     "output_type": "execute_result"
    }
   ],
   "source": [
    "s1+s2"
   ]
  },
  {
   "cell_type": "code",
   "execution_count": 35,
   "metadata": {},
   "outputs": [
    {
     "data": {
      "text/plain": [
       "0     9.0\n",
       "1    18.0\n",
       "2    27.0\n",
       "3    36.0\n",
       "4    45.0\n",
       "5     NaN\n",
       "dtype: float64"
      ]
     },
     "execution_count": 35,
     "metadata": {},
     "output_type": "execute_result"
    }
   ],
   "source": [
    "s1-s2"
   ]
  },
  {
   "cell_type": "code",
   "execution_count": 36,
   "metadata": {},
   "outputs": [
    {
     "data": {
      "text/plain": [
       "0     10.0\n",
       "1     40.0\n",
       "2     90.0\n",
       "3    160.0\n",
       "4    250.0\n",
       "5      NaN\n",
       "dtype: float64"
      ]
     },
     "execution_count": 36,
     "metadata": {},
     "output_type": "execute_result"
    }
   ],
   "source": [
    "s1*s2"
   ]
  },
  {
   "cell_type": "code",
   "execution_count": 37,
   "metadata": {},
   "outputs": [
    {
     "data": {
      "text/plain": [
       "0    10.0\n",
       "1    10.0\n",
       "2    10.0\n",
       "3    10.0\n",
       "4    10.0\n",
       "5     NaN\n",
       "dtype: float64"
      ]
     },
     "execution_count": 37,
     "metadata": {},
     "output_type": "execute_result"
    }
   ],
   "source": [
    "s1/s2"
   ]
  },
  {
   "cell_type": "code",
   "execution_count": 38,
   "metadata": {},
   "outputs": [
    {
     "data": {
      "text/plain": [
       "0    10.0\n",
       "1    10.0\n",
       "2    10.0\n",
       "3    10.0\n",
       "4    10.0\n",
       "5     NaN\n",
       "dtype: float64"
      ]
     },
     "execution_count": 38,
     "metadata": {},
     "output_type": "execute_result"
    }
   ],
   "source": [
    "s1//s2"
   ]
  },
  {
   "cell_type": "code",
   "execution_count": 39,
   "metadata": {},
   "outputs": [
    {
     "data": {
      "text/plain": [
       "0    0.0\n",
       "1    0.0\n",
       "2    0.0\n",
       "3    0.0\n",
       "4    0.0\n",
       "5    NaN\n",
       "dtype: float64"
      ]
     },
     "execution_count": 39,
     "metadata": {},
     "output_type": "execute_result"
    }
   ],
   "source": [
    "s1%s2"
   ]
  },
  {
   "cell_type": "code",
   "execution_count": 42,
   "metadata": {},
   "outputs": [
    {
     "data": {
      "text/plain": [
       "DatetimeIndex(['2019-05-31', '2019-06-30', '2019-07-31', '2019-08-31',\n",
       "               '2019-09-30', '2019-10-31', '2019-11-30', '2019-12-31',\n",
       "               '2020-01-31', '2020-02-29', '2020-03-31', '2020-04-30',\n",
       "               '2020-05-31'],\n",
       "              dtype='datetime64[ns]', freq='M')"
      ]
     },
     "execution_count": 42,
     "metadata": {},
     "output_type": "execute_result"
    }
   ],
   "source": [
    "pd.date_range('2019-05-25', '2020-06-01', freq='M')"
   ]
  },
  {
   "cell_type": "code",
   "execution_count": 43,
   "metadata": {},
   "outputs": [
    {
     "data": {
      "text/plain": [
       "DatetimeIndex(['2019-05-25', '2019-05-26', '2019-05-27', '2019-05-28'], dtype='datetime64[ns]', freq='D')"
      ]
     },
     "execution_count": 43,
     "metadata": {},
     "output_type": "execute_result"
    }
   ],
   "source": [
    "pd.date_range('2019-05-25', periods = 4)"
   ]
  },
  {
   "cell_type": "code",
   "execution_count": 44,
   "metadata": {},
   "outputs": [
    {
     "data": {
      "text/plain": [
       "DatetimeIndex(['2019-05-25 10:00:00', '2019-05-26 10:00:00',\n",
       "               '2019-05-27 10:00:00', '2019-05-28 10:00:00',\n",
       "               '2019-05-29 10:00:00'],\n",
       "              dtype='datetime64[ns]', freq='D')"
      ]
     },
     "execution_count": 44,
     "metadata": {},
     "output_type": "execute_result"
    }
   ],
   "source": [
    "pd.date_range(start='2019-05-25 10:00:00', periods = 5)"
   ]
  },
  {
   "cell_type": "code",
   "execution_count": 46,
   "metadata": {},
   "outputs": [
    {
     "name": "stdout",
     "output_type": "stream",
     "text": [
      "DatetimeIndex(['2019-05-25', '2019-05-26', '2019-05-27', '2019-05-28'], dtype='datetime64[ns]', freq='D')\n",
      "DatetimeIndex(['2019-05-25', '2019-05-26', '2019-05-27', '2019-05-28'], dtype='datetime64[ns]', freq='D')\n",
      "DatetimeIndex(['2019-05-25', '2019-05-26', '2019-05-27', '2019-05-28'], dtype='datetime64[ns]', freq='D')\n"
     ]
    }
   ],
   "source": [
    "date_index1= pd.date_range(start = '2019-05-25', periods = 4)\n",
    "date_index2= pd.date_range(start = '2019.05.25', periods = 4)\n",
    "date_index3= pd.date_range(start = '2019/05/25', periods = 4)\n",
    "print(repr(date_index1))\n",
    "print(repr(date_index2))\n",
    "print(repr(date_index3))"
   ]
  },
  {
   "cell_type": "code",
   "execution_count": 47,
   "metadata": {},
   "outputs": [
    {
     "name": "stdout",
     "output_type": "stream",
     "text": [
      "DatetimeIndex(['2019-05-25', '2019-05-26', '2019-05-27', '2019-05-28'], dtype='datetime64[ns]', freq='D')\n",
      "DatetimeIndex(['2019-05-25', '2019-05-26', '2019-05-27', '2019-05-28'], dtype='datetime64[ns]', freq='D')\n",
      "DatetimeIndex(['2019-05-25', '2019-05-26', '2019-05-27', '2019-05-28'], dtype='datetime64[ns]', freq='D')\n"
     ]
    }
   ],
   "source": [
    "date_index1= pd.date_range(start = '05-25-2019', periods = 4)\n",
    "date_index2= pd.date_range(start = '05.25.2019', periods = 4)\n",
    "date_index3= pd.date_range(start = '05/25/2019', periods = 4)\n",
    "print(repr(date_index1))\n",
    "print(repr(date_index2))\n",
    "print(repr(date_index3))"
   ]
  },
  {
   "cell_type": "code",
   "execution_count": 48,
   "metadata": {},
   "outputs": [
    {
     "data": {
      "text/plain": [
       "DatetimeIndex(['2019-05-25', '2019-05-27', '2019-05-29', '2019-05-31',\n",
       "               '2019-06-02', '2019-06-04', '2019-06-06', '2019-06-08'],\n",
       "              dtype='datetime64[ns]', freq='2D')"
      ]
     },
     "execution_count": 48,
     "metadata": {},
     "output_type": "execute_result"
    }
   ],
   "source": [
    "pd.date_range(start='2019-05-25', periods = 8, freq = '2D')"
   ]
  },
  {
   "cell_type": "code",
   "execution_count": 49,
   "metadata": {},
   "outputs": [
    {
     "data": {
      "text/plain": [
       "DatetimeIndex(['2019-05-27', '2019-05-28', '2019-05-29', '2019-05-30',\n",
       "               '2019-05-31', '2019-06-03', '2019-06-04', '2019-06-05'],\n",
       "              dtype='datetime64[ns]', freq='B')"
      ]
     },
     "execution_count": 49,
     "metadata": {},
     "output_type": "execute_result"
    }
   ],
   "source": [
    "pd.date_range(start='2019-05-25', periods = 8, freq = 'B')"
   ]
  },
  {
   "cell_type": "code",
   "execution_count": 50,
   "metadata": {},
   "outputs": [
    {
     "data": {
      "text/plain": [
       "DatetimeIndex(['2019-05-26', '2019-06-16', '2019-07-07', '2019-07-28',\n",
       "               '2019-08-18', '2019-09-08', '2019-09-29', '2019-10-20'],\n",
       "              dtype='datetime64[ns]', freq='3W-SUN')"
      ]
     },
     "execution_count": 50,
     "metadata": {},
     "output_type": "execute_result"
    }
   ],
   "source": [
    "pd.date_range(start='2019-05-25', periods = 8, freq = '3W')"
   ]
  },
  {
   "cell_type": "code",
   "execution_count": 51,
   "metadata": {},
   "outputs": [
    {
     "data": {
      "text/plain": [
       "DatetimeIndex(['2019-05-31', '2019-06-28', '2019-07-31', '2019-08-30',\n",
       "               '2019-09-30', '2019-10-31', '2019-11-29', '2019-12-31'],\n",
       "              dtype='datetime64[ns]', freq='BM')"
      ]
     },
     "execution_count": 51,
     "metadata": {},
     "output_type": "execute_result"
    }
   ],
   "source": [
    "pd.date_range(start='2019-05-25', periods = 8, freq = 'BM')"
   ]
  },
  {
   "cell_type": "code",
   "execution_count": 53,
   "metadata": {},
   "outputs": [
    {
     "data": {
      "text/plain": [
       "DatetimeIndex(['2019-06-03', '2019-07-01', '2019-08-01', '2019-09-02',\n",
       "               '2019-10-01', '2019-11-01', '2019-12-02', '2020-01-01'],\n",
       "              dtype='datetime64[ns]', freq='BMS')"
      ]
     },
     "execution_count": 53,
     "metadata": {},
     "output_type": "execute_result"
    }
   ],
   "source": [
    "pd.date_range(start='2019-05-25', periods = 8, freq = 'BMS')"
   ]
  },
  {
   "cell_type": "code",
   "execution_count": 54,
   "metadata": {},
   "outputs": [
    {
     "data": {
      "text/plain": [
       "DatetimeIndex(['2019-06-30', '2019-09-30', '2019-12-31', '2020-03-31',\n",
       "               '2020-06-30', '2020-09-30', '2020-12-31', '2021-03-31'],\n",
       "              dtype='datetime64[ns]', freq='Q-DEC')"
      ]
     },
     "execution_count": 54,
     "metadata": {},
     "output_type": "execute_result"
    }
   ],
   "source": [
    "pd.date_range(start='2019-05-25', periods = 8, freq = 'Q')"
   ]
  },
  {
   "cell_type": "code",
   "execution_count": 55,
   "metadata": {},
   "outputs": [
    {
     "data": {
      "text/plain": [
       "DatetimeIndex(['2019-12-31', '2020-12-31', '2021-12-31', '2022-12-31',\n",
       "               '2023-12-31', '2024-12-31', '2025-12-31', '2026-12-31'],\n",
       "              dtype='datetime64[ns]', freq='A-DEC')"
      ]
     },
     "execution_count": 55,
     "metadata": {},
     "output_type": "execute_result"
    }
   ],
   "source": [
    "pd.date_range(start='2019-05-25', periods = 8, freq = 'A')"
   ]
  },
  {
   "cell_type": "code",
   "execution_count": 56,
   "metadata": {},
   "outputs": [
    {
     "data": {
      "text/plain": [
       "DatetimeIndex(['2019-05-25 00:00:00', '2019-05-25 01:00:00',\n",
       "               '2019-05-25 02:00:00', '2019-05-25 03:00:00',\n",
       "               '2019-05-25 04:00:00', '2019-05-25 05:00:00',\n",
       "               '2019-05-25 06:00:00', '2019-05-25 07:00:00'],\n",
       "              dtype='datetime64[ns]', freq='H')"
      ]
     },
     "execution_count": 56,
     "metadata": {},
     "output_type": "execute_result"
    }
   ],
   "source": [
    "pd.date_range(start='2019-05-25', periods = 8, freq = 'H')"
   ]
  },
  {
   "cell_type": "code",
   "execution_count": 57,
   "metadata": {},
   "outputs": [
    {
     "data": {
      "text/plain": [
       "DatetimeIndex(['2019-05-25 00:00:00', '2019-05-25 00:01:00',\n",
       "               '2019-05-25 00:02:00', '2019-05-25 00:03:00',\n",
       "               '2019-05-25 00:04:00', '2019-05-25 00:05:00',\n",
       "               '2019-05-25 00:06:00', '2019-05-25 00:07:00'],\n",
       "              dtype='datetime64[ns]', freq='T')"
      ]
     },
     "execution_count": 57,
     "metadata": {},
     "output_type": "execute_result"
    }
   ],
   "source": [
    "pd.date_range(start='2019-05-25', periods = 8, freq = 'min')"
   ]
  },
  {
   "cell_type": "code",
   "execution_count": 58,
   "metadata": {},
   "outputs": [
    {
     "data": {
      "text/plain": [
       "DatetimeIndex(['2019-05-25 00:00:00', '2019-05-25 00:00:10',\n",
       "               '2019-05-25 00:00:20', '2019-05-25 00:00:30',\n",
       "               '2019-05-25 00:00:40', '2019-05-25 00:00:50',\n",
       "               '2019-05-25 00:01:00', '2019-05-25 00:01:10'],\n",
       "              dtype='datetime64[ns]', freq='10S')"
      ]
     },
     "execution_count": 58,
     "metadata": {},
     "output_type": "execute_result"
    }
   ],
   "source": [
    "pd.date_range(start='2019-05-25', periods = 8, freq = '10S')"
   ]
  },
  {
   "cell_type": "markdown",
   "metadata": {},
   "source": [
    "# DataFrame"
   ]
  },
  {
   "cell_type": "code",
   "execution_count": 61,
   "metadata": {},
   "outputs": [
    {
     "data": {
      "text/html": [
       "<div>\n",
       "<style scoped>\n",
       "    .dataframe tbody tr th:only-of-type {\n",
       "        vertical-align: middle;\n",
       "    }\n",
       "\n",
       "    .dataframe tbody tr th {\n",
       "        vertical-align: top;\n",
       "    }\n",
       "\n",
       "    .dataframe thead th {\n",
       "        text-align: right;\n",
       "    }\n",
       "</style>\n",
       "<table border=\"1\" class=\"dataframe\">\n",
       "  <thead>\n",
       "    <tr style=\"text-align: right;\">\n",
       "      <th></th>\n",
       "      <th>0</th>\n",
       "      <th>1</th>\n",
       "      <th>2</th>\n",
       "    </tr>\n",
       "  </thead>\n",
       "  <tbody>\n",
       "    <tr>\n",
       "      <th>0</th>\n",
       "      <td>10</td>\n",
       "      <td>20</td>\n",
       "      <td>30</td>\n",
       "    </tr>\n",
       "    <tr>\n",
       "      <th>1</th>\n",
       "      <td>4</td>\n",
       "      <td>5</td>\n",
       "      <td>6</td>\n",
       "    </tr>\n",
       "    <tr>\n",
       "      <th>2</th>\n",
       "      <td>7</td>\n",
       "      <td>8</td>\n",
       "      <td>9</td>\n",
       "    </tr>\n",
       "  </tbody>\n",
       "</table>\n",
       "</div>"
      ],
      "text/plain": [
       "    0   1   2\n",
       "0  10  20  30\n",
       "1   4   5   6\n",
       "2   7   8   9"
      ]
     },
     "execution_count": 61,
     "metadata": {},
     "output_type": "execute_result"
    }
   ],
   "source": [
    "df = pd.DataFrame([[10,20,30],[4,5,6],[7,8,9]])\n",
    "df"
   ]
  },
  {
   "cell_type": "code",
   "execution_count": 62,
   "metadata": {},
   "outputs": [
    {
     "data": {
      "text/plain": [
       "pandas.core.frame.DataFrame"
      ]
     },
     "execution_count": 62,
     "metadata": {},
     "output_type": "execute_result"
    }
   ],
   "source": [
    "type(df)"
   ]
  },
  {
   "cell_type": "code",
   "execution_count": 65,
   "metadata": {},
   "outputs": [
    {
     "data": {
      "text/html": [
       "<div>\n",
       "<style scoped>\n",
       "    .dataframe tbody tr th:only-of-type {\n",
       "        vertical-align: middle;\n",
       "    }\n",
       "\n",
       "    .dataframe tbody tr th {\n",
       "        vertical-align: top;\n",
       "    }\n",
       "\n",
       "    .dataframe thead th {\n",
       "        text-align: right;\n",
       "    }\n",
       "</style>\n",
       "<table border=\"1\" class=\"dataframe\">\n",
       "  <thead>\n",
       "    <tr style=\"text-align: right;\">\n",
       "      <th></th>\n",
       "      <th>0</th>\n",
       "      <th>1</th>\n",
       "      <th>2</th>\n",
       "    </tr>\n",
       "  </thead>\n",
       "  <tbody>\n",
       "    <tr>\n",
       "      <th>0</th>\n",
       "      <td>10</td>\n",
       "      <td>20</td>\n",
       "      <td>30</td>\n",
       "    </tr>\n",
       "    <tr>\n",
       "      <th>1</th>\n",
       "      <td>40</td>\n",
       "      <td>50</td>\n",
       "      <td>60</td>\n",
       "    </tr>\n",
       "    <tr>\n",
       "      <th>2</th>\n",
       "      <td>70</td>\n",
       "      <td>80</td>\n",
       "      <td>90</td>\n",
       "    </tr>\n",
       "  </tbody>\n",
       "</table>\n",
       "</div>"
      ],
      "text/plain": [
       "    0   1   2\n",
       "0  10  20  30\n",
       "1  40  50  60\n",
       "2  70  80  90"
      ]
     },
     "execution_count": 65,
     "metadata": {},
     "output_type": "execute_result"
    }
   ],
   "source": [
    "np_array = np.arange(10,100,10).reshape(3,3)\n",
    "df1 = pd.DataFrame(np_array)\n",
    "df1"
   ]
  },
  {
   "cell_type": "code",
   "execution_count": 66,
   "metadata": {},
   "outputs": [
    {
     "data": {
      "text/html": [
       "<div>\n",
       "<style scoped>\n",
       "    .dataframe tbody tr th:only-of-type {\n",
       "        vertical-align: middle;\n",
       "    }\n",
       "\n",
       "    .dataframe tbody tr th {\n",
       "        vertical-align: top;\n",
       "    }\n",
       "\n",
       "    .dataframe thead th {\n",
       "        text-align: right;\n",
       "    }\n",
       "</style>\n",
       "<table border=\"1\" class=\"dataframe\">\n",
       "  <thead>\n",
       "    <tr style=\"text-align: right;\">\n",
       "      <th></th>\n",
       "      <th>0</th>\n",
       "      <th>1</th>\n",
       "      <th>2</th>\n",
       "    </tr>\n",
       "  </thead>\n",
       "  <tbody>\n",
       "    <tr>\n",
       "      <th>2019-05-05</th>\n",
       "      <td>10</td>\n",
       "      <td>20</td>\n",
       "      <td>30</td>\n",
       "    </tr>\n",
       "    <tr>\n",
       "      <th>2019-05-06</th>\n",
       "      <td>40</td>\n",
       "      <td>50</td>\n",
       "      <td>60</td>\n",
       "    </tr>\n",
       "    <tr>\n",
       "      <th>2019-05-07</th>\n",
       "      <td>70</td>\n",
       "      <td>80</td>\n",
       "      <td>90</td>\n",
       "    </tr>\n",
       "  </tbody>\n",
       "</table>\n",
       "</div>"
      ],
      "text/plain": [
       "             0   1   2\n",
       "2019-05-05  10  20  30\n",
       "2019-05-06  40  50  60\n",
       "2019-05-07  70  80  90"
      ]
     },
     "execution_count": 66,
     "metadata": {},
     "output_type": "execute_result"
    }
   ],
   "source": [
    "df1.index = pd.date_range('2019-05-05', periods = 3)\n",
    "df1"
   ]
  },
  {
   "cell_type": "code",
   "execution_count": 67,
   "metadata": {},
   "outputs": [
    {
     "data": {
      "text/plain": [
       "DatetimeIndex(['2019-05-05', '2019-05-06', '2019-05-07'], dtype='datetime64[ns]', freq='D')"
      ]
     },
     "execution_count": 67,
     "metadata": {},
     "output_type": "execute_result"
    }
   ],
   "source": [
    "df1.index"
   ]
  },
  {
   "cell_type": "code",
   "execution_count": 68,
   "metadata": {},
   "outputs": [
    {
     "data": {
      "text/html": [
       "<div>\n",
       "<style scoped>\n",
       "    .dataframe tbody tr th:only-of-type {\n",
       "        vertical-align: middle;\n",
       "    }\n",
       "\n",
       "    .dataframe tbody tr th {\n",
       "        vertical-align: top;\n",
       "    }\n",
       "\n",
       "    .dataframe thead th {\n",
       "        text-align: right;\n",
       "    }\n",
       "</style>\n",
       "<table border=\"1\" class=\"dataframe\">\n",
       "  <thead>\n",
       "    <tr style=\"text-align: right;\">\n",
       "      <th></th>\n",
       "      <th>a</th>\n",
       "      <th>b</th>\n",
       "      <th>c</th>\n",
       "    </tr>\n",
       "  </thead>\n",
       "  <tbody>\n",
       "    <tr>\n",
       "      <th>2019-05-05</th>\n",
       "      <td>10</td>\n",
       "      <td>20</td>\n",
       "      <td>30</td>\n",
       "    </tr>\n",
       "    <tr>\n",
       "      <th>2019-05-06</th>\n",
       "      <td>40</td>\n",
       "      <td>50</td>\n",
       "      <td>60</td>\n",
       "    </tr>\n",
       "    <tr>\n",
       "      <th>2019-05-07</th>\n",
       "      <td>70</td>\n",
       "      <td>80</td>\n",
       "      <td>90</td>\n",
       "    </tr>\n",
       "  </tbody>\n",
       "</table>\n",
       "</div>"
      ],
      "text/plain": [
       "             a   b   c\n",
       "2019-05-05  10  20  30\n",
       "2019-05-06  40  50  60\n",
       "2019-05-07  70  80  90"
      ]
     },
     "execution_count": 68,
     "metadata": {},
     "output_type": "execute_result"
    }
   ],
   "source": [
    "df1.columns = ['a','b','c']\n",
    "df1"
   ]
  },
  {
   "cell_type": "code",
   "execution_count": 72,
   "metadata": {},
   "outputs": [
    {
     "data": {
      "text/html": [
       "<div>\n",
       "<style scoped>\n",
       "    .dataframe tbody tr th:only-of-type {\n",
       "        vertical-align: middle;\n",
       "    }\n",
       "\n",
       "    .dataframe tbody tr th {\n",
       "        vertical-align: top;\n",
       "    }\n",
       "\n",
       "    .dataframe thead th {\n",
       "        text-align: right;\n",
       "    }\n",
       "</style>\n",
       "<table border=\"1\" class=\"dataframe\">\n",
       "  <thead>\n",
       "    <tr style=\"text-align: right;\">\n",
       "      <th></th>\n",
       "      <th>a</th>\n",
       "      <th>b</th>\n",
       "      <th>c</th>\n",
       "    </tr>\n",
       "  </thead>\n",
       "  <tbody>\n",
       "    <tr>\n",
       "      <th>2015-05-05</th>\n",
       "      <td>10</td>\n",
       "      <td>20</td>\n",
       "      <td>30</td>\n",
       "    </tr>\n",
       "    <tr>\n",
       "      <th>2015-05-06</th>\n",
       "      <td>40</td>\n",
       "      <td>50</td>\n",
       "      <td>60</td>\n",
       "    </tr>\n",
       "    <tr>\n",
       "      <th>2015-05-07</th>\n",
       "      <td>70</td>\n",
       "      <td>80</td>\n",
       "      <td>90</td>\n",
       "    </tr>\n",
       "  </tbody>\n",
       "</table>\n",
       "</div>"
      ],
      "text/plain": [
       "             a   b   c\n",
       "2015-05-05  10  20  30\n",
       "2015-05-06  40  50  60\n",
       "2015-05-07  70  80  90"
      ]
     },
     "execution_count": 72,
     "metadata": {},
     "output_type": "execute_result"
    }
   ],
   "source": [
    "df2 = pd.DataFrame(np.arange(10,100,10).reshape(3,3),\n",
    "                  index=pd.date_range('2015-05-05',periods = 3),\n",
    "                  columns=['a','b','c'])\n",
    "df2"
   ]
  },
  {
   "cell_type": "code",
   "execution_count": 73,
   "metadata": {},
   "outputs": [
    {
     "data": {
      "text/html": [
       "<div>\n",
       "<style scoped>\n",
       "    .dataframe tbody tr th:only-of-type {\n",
       "        vertical-align: middle;\n",
       "    }\n",
       "\n",
       "    .dataframe tbody tr th {\n",
       "        vertical-align: top;\n",
       "    }\n",
       "\n",
       "    .dataframe thead th {\n",
       "        text-align: right;\n",
       "    }\n",
       "</style>\n",
       "<table border=\"1\" class=\"dataframe\">\n",
       "  <thead>\n",
       "    <tr style=\"text-align: right;\">\n",
       "      <th></th>\n",
       "      <th>연도</th>\n",
       "      <th>매출액</th>\n",
       "      <th>종업원 수</th>\n",
       "    </tr>\n",
       "  </thead>\n",
       "  <tbody>\n",
       "    <tr>\n",
       "      <th>0</th>\n",
       "      <td>2010</td>\n",
       "      <td>1</td>\n",
       "      <td>2</td>\n",
       "    </tr>\n",
       "    <tr>\n",
       "      <th>1</th>\n",
       "      <td>2011</td>\n",
       "      <td>4</td>\n",
       "      <td>5</td>\n",
       "    </tr>\n",
       "    <tr>\n",
       "      <th>2</th>\n",
       "      <td>2012</td>\n",
       "      <td>9</td>\n",
       "      <td>8</td>\n",
       "    </tr>\n",
       "    <tr>\n",
       "      <th>3</th>\n",
       "      <td>2013</td>\n",
       "      <td>16</td>\n",
       "      <td>11</td>\n",
       "    </tr>\n",
       "    <tr>\n",
       "      <th>4</th>\n",
       "      <td>2014</td>\n",
       "      <td>25</td>\n",
       "      <td>14</td>\n",
       "    </tr>\n",
       "    <tr>\n",
       "      <th>5</th>\n",
       "      <td>2015</td>\n",
       "      <td>36</td>\n",
       "      <td>17</td>\n",
       "    </tr>\n",
       "    <tr>\n",
       "      <th>6</th>\n",
       "      <td>2016</td>\n",
       "      <td>49</td>\n",
       "      <td>20</td>\n",
       "    </tr>\n",
       "    <tr>\n",
       "      <th>7</th>\n",
       "      <td>2017</td>\n",
       "      <td>64</td>\n",
       "      <td>23</td>\n",
       "    </tr>\n",
       "    <tr>\n",
       "      <th>8</th>\n",
       "      <td>2018</td>\n",
       "      <td>81</td>\n",
       "      <td>26</td>\n",
       "    </tr>\n",
       "    <tr>\n",
       "      <th>9</th>\n",
       "      <td>2019</td>\n",
       "      <td>100</td>\n",
       "      <td>29</td>\n",
       "    </tr>\n",
       "  </tbody>\n",
       "</table>\n",
       "</div>"
      ],
      "text/plain": [
       "     연도  매출액  종업원 수\n",
       "0  2010    1      2\n",
       "1  2011    4      5\n",
       "2  2012    9      8\n",
       "3  2013   16     11\n",
       "4  2014   25     14\n",
       "5  2015   36     17\n",
       "6  2016   49     20\n",
       "7  2017   64     23\n",
       "8  2018   81     26\n",
       "9  2019  100     29"
      ]
     },
     "execution_count": 73,
     "metadata": {},
     "output_type": "execute_result"
    }
   ],
   "source": [
    "table_data = {'연도':list(range(2010, 2020)),\n",
    "              '매출액': [v**2 for i, v in enumerate(range(1,11))],\n",
    "              '종업원 수': list(range(2, 30, 3))}\n",
    "\n",
    "\n",
    "df = pd.DataFrame(table_data)\n",
    "df"
   ]
  },
  {
   "cell_type": "code",
   "execution_count": 76,
   "metadata": {},
   "outputs": [
    {
     "data": {
      "text/html": [
       "<div>\n",
       "<style scoped>\n",
       "    .dataframe tbody tr th:only-of-type {\n",
       "        vertical-align: middle;\n",
       "    }\n",
       "\n",
       "    .dataframe tbody tr th {\n",
       "        vertical-align: top;\n",
       "    }\n",
       "\n",
       "    .dataframe thead th {\n",
       "        text-align: right;\n",
       "    }\n",
       "</style>\n",
       "<table border=\"1\" class=\"dataframe\">\n",
       "  <thead>\n",
       "    <tr style=\"text-align: right;\">\n",
       "      <th></th>\n",
       "      <th>연도</th>\n",
       "      <th>매출액</th>\n",
       "      <th>종업원 수</th>\n",
       "    </tr>\n",
       "  </thead>\n",
       "  <tbody>\n",
       "    <tr>\n",
       "      <th>0</th>\n",
       "      <td>2010</td>\n",
       "      <td>1</td>\n",
       "      <td>2</td>\n",
       "    </tr>\n",
       "    <tr>\n",
       "      <th>1</th>\n",
       "      <td>2011</td>\n",
       "      <td>4</td>\n",
       "      <td>5</td>\n",
       "    </tr>\n",
       "    <tr>\n",
       "      <th>2</th>\n",
       "      <td>2012</td>\n",
       "      <td>9</td>\n",
       "      <td>8</td>\n",
       "    </tr>\n",
       "    <tr>\n",
       "      <th>3</th>\n",
       "      <td>2013</td>\n",
       "      <td>16</td>\n",
       "      <td>11</td>\n",
       "    </tr>\n",
       "    <tr>\n",
       "      <th>4</th>\n",
       "      <td>2014</td>\n",
       "      <td>25</td>\n",
       "      <td>14</td>\n",
       "    </tr>\n",
       "  </tbody>\n",
       "</table>\n",
       "</div>"
      ],
      "text/plain": [
       "     연도  매출액  종업원 수\n",
       "0  2010    1      2\n",
       "1  2011    4      5\n",
       "2  2012    9      8\n",
       "3  2013   16     11\n",
       "4  2014   25     14"
      ]
     },
     "execution_count": 76,
     "metadata": {},
     "output_type": "execute_result"
    }
   ],
   "source": [
    "df.head()"
   ]
  },
  {
   "cell_type": "code",
   "execution_count": 78,
   "metadata": {},
   "outputs": [
    {
     "data": {
      "text/html": [
       "<div>\n",
       "<style scoped>\n",
       "    .dataframe tbody tr th:only-of-type {\n",
       "        vertical-align: middle;\n",
       "    }\n",
       "\n",
       "    .dataframe tbody tr th {\n",
       "        vertical-align: top;\n",
       "    }\n",
       "\n",
       "    .dataframe thead th {\n",
       "        text-align: right;\n",
       "    }\n",
       "</style>\n",
       "<table border=\"1\" class=\"dataframe\">\n",
       "  <thead>\n",
       "    <tr style=\"text-align: right;\">\n",
       "      <th></th>\n",
       "      <th>연도</th>\n",
       "      <th>매출액</th>\n",
       "      <th>종업원 수</th>\n",
       "    </tr>\n",
       "  </thead>\n",
       "  <tbody>\n",
       "    <tr>\n",
       "      <th>7</th>\n",
       "      <td>2017</td>\n",
       "      <td>64</td>\n",
       "      <td>23</td>\n",
       "    </tr>\n",
       "    <tr>\n",
       "      <th>8</th>\n",
       "      <td>2018</td>\n",
       "      <td>81</td>\n",
       "      <td>26</td>\n",
       "    </tr>\n",
       "    <tr>\n",
       "      <th>9</th>\n",
       "      <td>2019</td>\n",
       "      <td>100</td>\n",
       "      <td>29</td>\n",
       "    </tr>\n",
       "  </tbody>\n",
       "</table>\n",
       "</div>"
      ],
      "text/plain": [
       "     연도  매출액  종업원 수\n",
       "7  2017   64     23\n",
       "8  2018   81     26\n",
       "9  2019  100     29"
      ]
     },
     "execution_count": 78,
     "metadata": {},
     "output_type": "execute_result"
    }
   ],
   "source": [
    "df.tail(3)"
   ]
  },
  {
   "cell_type": "code",
   "execution_count": 81,
   "metadata": {},
   "outputs": [
    {
     "data": {
      "text/plain": [
       "RangeIndex(start=0, stop=10, step=1)"
      ]
     },
     "execution_count": 81,
     "metadata": {},
     "output_type": "execute_result"
    }
   ],
   "source": [
    "df.index"
   ]
  },
  {
   "cell_type": "code",
   "execution_count": 82,
   "metadata": {},
   "outputs": [
    {
     "data": {
      "text/plain": [
       "array([[2010,    1,    2],\n",
       "       [2011,    4,    5],\n",
       "       [2012,    9,    8],\n",
       "       [2013,   16,   11],\n",
       "       [2014,   25,   14],\n",
       "       [2015,   36,   17],\n",
       "       [2016,   49,   20],\n",
       "       [2017,   64,   23],\n",
       "       [2018,   81,   26],\n",
       "       [2019,  100,   29]], dtype=int64)"
      ]
     },
     "execution_count": 82,
     "metadata": {},
     "output_type": "execute_result"
    }
   ],
   "source": [
    "df.values"
   ]
  },
  {
   "cell_type": "code",
   "execution_count": 83,
   "metadata": {},
   "outputs": [
    {
     "data": {
      "text/plain": [
       "Index(['연도', '매출액', '종업원 수'], dtype='object')"
      ]
     },
     "execution_count": 83,
     "metadata": {},
     "output_type": "execute_result"
    }
   ],
   "source": [
    "df.columns"
   ]
  },
  {
   "cell_type": "code",
   "execution_count": 84,
   "metadata": {},
   "outputs": [
    {
     "data": {
      "text/html": [
       "<div>\n",
       "<style scoped>\n",
       "    .dataframe tbody tr th:only-of-type {\n",
       "        vertical-align: middle;\n",
       "    }\n",
       "\n",
       "    .dataframe tbody tr th {\n",
       "        vertical-align: top;\n",
       "    }\n",
       "\n",
       "    .dataframe thead th {\n",
       "        text-align: right;\n",
       "    }\n",
       "</style>\n",
       "<table border=\"1\" class=\"dataframe\">\n",
       "  <thead>\n",
       "    <tr style=\"text-align: right;\">\n",
       "      <th></th>\n",
       "      <th>A</th>\n",
       "      <th>B</th>\n",
       "      <th>C</th>\n",
       "    </tr>\n",
       "  </thead>\n",
       "  <tbody>\n",
       "    <tr>\n",
       "      <th>0</th>\n",
       "      <td>1</td>\n",
       "      <td>10</td>\n",
       "      <td>100</td>\n",
       "    </tr>\n",
       "    <tr>\n",
       "      <th>1</th>\n",
       "      <td>2</td>\n",
       "      <td>20</td>\n",
       "      <td>200</td>\n",
       "    </tr>\n",
       "    <tr>\n",
       "      <th>2</th>\n",
       "      <td>3</td>\n",
       "      <td>30</td>\n",
       "      <td>300</td>\n",
       "    </tr>\n",
       "    <tr>\n",
       "      <th>3</th>\n",
       "      <td>4</td>\n",
       "      <td>40</td>\n",
       "      <td>400</td>\n",
       "    </tr>\n",
       "    <tr>\n",
       "      <th>4</th>\n",
       "      <td>5</td>\n",
       "      <td>50</td>\n",
       "      <td>500</td>\n",
       "    </tr>\n",
       "  </tbody>\n",
       "</table>\n",
       "</div>"
      ],
      "text/plain": [
       "   A   B    C\n",
       "0  1  10  100\n",
       "1  2  20  200\n",
       "2  3  30  300\n",
       "3  4  40  400\n",
       "4  5  50  500"
      ]
     },
     "execution_count": 84,
     "metadata": {},
     "output_type": "execute_result"
    }
   ],
   "source": [
    "\n",
    "table_data1 = {\n",
    "    'A': np.arange(1, 6),\n",
    "    'B': np.arange(10, 60, 10),\n",
    "    'C': np.arange(100, 600, 100),\n",
    "}\n",
    "df1 = pd.DataFrame(table_data1)\n",
    "df1"
   ]
  },
  {
   "cell_type": "code",
   "execution_count": 85,
   "metadata": {},
   "outputs": [
    {
     "data": {
      "text/html": [
       "<div>\n",
       "<style scoped>\n",
       "    .dataframe tbody tr th:only-of-type {\n",
       "        vertical-align: middle;\n",
       "    }\n",
       "\n",
       "    .dataframe tbody tr th {\n",
       "        vertical-align: top;\n",
       "    }\n",
       "\n",
       "    .dataframe thead th {\n",
       "        text-align: right;\n",
       "    }\n",
       "</style>\n",
       "<table border=\"1\" class=\"dataframe\">\n",
       "  <thead>\n",
       "    <tr style=\"text-align: right;\">\n",
       "      <th></th>\n",
       "      <th>A</th>\n",
       "      <th>B</th>\n",
       "      <th>C</th>\n",
       "    </tr>\n",
       "  </thead>\n",
       "  <tbody>\n",
       "    <tr>\n",
       "      <th>0</th>\n",
       "      <td>6</td>\n",
       "      <td>60</td>\n",
       "      <td>600</td>\n",
       "    </tr>\n",
       "    <tr>\n",
       "      <th>1</th>\n",
       "      <td>7</td>\n",
       "      <td>70</td>\n",
       "      <td>700</td>\n",
       "    </tr>\n",
       "    <tr>\n",
       "      <th>2</th>\n",
       "      <td>8</td>\n",
       "      <td>80</td>\n",
       "      <td>800</td>\n",
       "    </tr>\n",
       "  </tbody>\n",
       "</table>\n",
       "</div>"
      ],
      "text/plain": [
       "   A   B    C\n",
       "0  6  60  600\n",
       "1  7  70  700\n",
       "2  8  80  800"
      ]
     },
     "execution_count": 85,
     "metadata": {},
     "output_type": "execute_result"
    }
   ],
   "source": [
    "\n",
    "table_data2 = {\n",
    "    'A': [6, 7, 8],\n",
    "    'B': [60, 70, 80],\n",
    "    'C': [600, 700, 800],\n",
    "}\n",
    "df2 = pd.DataFrame(table_data2)\n",
    "df2"
   ]
  },
  {
   "cell_type": "code",
   "execution_count": 87,
   "metadata": {},
   "outputs": [
    {
     "data": {
      "text/html": [
       "<div>\n",
       "<style scoped>\n",
       "    .dataframe tbody tr th:only-of-type {\n",
       "        vertical-align: middle;\n",
       "    }\n",
       "\n",
       "    .dataframe tbody tr th {\n",
       "        vertical-align: top;\n",
       "    }\n",
       "\n",
       "    .dataframe thead th {\n",
       "        text-align: right;\n",
       "    }\n",
       "</style>\n",
       "<table border=\"1\" class=\"dataframe\">\n",
       "  <thead>\n",
       "    <tr style=\"text-align: right;\">\n",
       "      <th></th>\n",
       "      <th>A</th>\n",
       "      <th>B</th>\n",
       "      <th>C</th>\n",
       "    </tr>\n",
       "  </thead>\n",
       "  <tbody>\n",
       "    <tr>\n",
       "      <th>0</th>\n",
       "      <td>7.0</td>\n",
       "      <td>70.0</td>\n",
       "      <td>700.0</td>\n",
       "    </tr>\n",
       "    <tr>\n",
       "      <th>1</th>\n",
       "      <td>9.0</td>\n",
       "      <td>90.0</td>\n",
       "      <td>900.0</td>\n",
       "    </tr>\n",
       "    <tr>\n",
       "      <th>2</th>\n",
       "      <td>11.0</td>\n",
       "      <td>110.0</td>\n",
       "      <td>1100.0</td>\n",
       "    </tr>\n",
       "    <tr>\n",
       "      <th>3</th>\n",
       "      <td>NaN</td>\n",
       "      <td>NaN</td>\n",
       "      <td>NaN</td>\n",
       "    </tr>\n",
       "    <tr>\n",
       "      <th>4</th>\n",
       "      <td>NaN</td>\n",
       "      <td>NaN</td>\n",
       "      <td>NaN</td>\n",
       "    </tr>\n",
       "  </tbody>\n",
       "</table>\n",
       "</div>"
      ],
      "text/plain": [
       "      A      B       C\n",
       "0   7.0   70.0   700.0\n",
       "1   9.0   90.0   900.0\n",
       "2  11.0  110.0  1100.0\n",
       "3   NaN    NaN     NaN\n",
       "4   NaN    NaN     NaN"
      ]
     },
     "execution_count": 87,
     "metadata": {},
     "output_type": "execute_result"
    }
   ],
   "source": [
    "df1+df2  #심심하면 사칙연산 //, % 다해보든가"
   ]
  },
  {
   "cell_type": "code",
   "execution_count": 88,
   "metadata": {},
   "outputs": [
    {
     "data": {
      "text/html": [
       "<div>\n",
       "<style scoped>\n",
       "    .dataframe tbody tr th:only-of-type {\n",
       "        vertical-align: middle;\n",
       "    }\n",
       "\n",
       "    .dataframe tbody tr th {\n",
       "        vertical-align: top;\n",
       "    }\n",
       "\n",
       "    .dataframe thead th {\n",
       "        text-align: right;\n",
       "    }\n",
       "</style>\n",
       "<table border=\"1\" class=\"dataframe\">\n",
       "  <thead>\n",
       "    <tr style=\"text-align: right;\">\n",
       "      <th></th>\n",
       "      <th>봄</th>\n",
       "      <th>여름</th>\n",
       "      <th>가을</th>\n",
       "      <th>겨울</th>\n",
       "    </tr>\n",
       "  </thead>\n",
       "  <tbody>\n",
       "    <tr>\n",
       "      <th>2012</th>\n",
       "      <td>256.5</td>\n",
       "      <td>770.6</td>\n",
       "      <td>363.5</td>\n",
       "      <td>139.3</td>\n",
       "    </tr>\n",
       "    <tr>\n",
       "      <th>2013</th>\n",
       "      <td>264.3</td>\n",
       "      <td>567.5</td>\n",
       "      <td>231.2</td>\n",
       "      <td>59.9</td>\n",
       "    </tr>\n",
       "    <tr>\n",
       "      <th>2014</th>\n",
       "      <td>215.9</td>\n",
       "      <td>599.8</td>\n",
       "      <td>293.1</td>\n",
       "      <td>76.9</td>\n",
       "    </tr>\n",
       "    <tr>\n",
       "      <th>2015</th>\n",
       "      <td>223.2</td>\n",
       "      <td>387.1</td>\n",
       "      <td>247.7</td>\n",
       "      <td>109.1</td>\n",
       "    </tr>\n",
       "    <tr>\n",
       "      <th>2016</th>\n",
       "      <td>312.8</td>\n",
       "      <td>446.2</td>\n",
       "      <td>381.6</td>\n",
       "      <td>108.1</td>\n",
       "    </tr>\n",
       "  </tbody>\n",
       "</table>\n",
       "</div>"
      ],
      "text/plain": [
       "          봄     여름     가을     겨울\n",
       "2012  256.5  770.6  363.5  139.3\n",
       "2013  264.3  567.5  231.2   59.9\n",
       "2014  215.9  599.8  293.1   76.9\n",
       "2015  223.2  387.1  247.7  109.1\n",
       "2016  312.8  446.2  381.6  108.1"
      ]
     },
     "execution_count": 88,
     "metadata": {},
     "output_type": "execute_result"
    }
   ],
   "source": [
    "df1 = pd.DataFrame({'봄': [256.5, 264.3, 215.9, 223.2, 312.8],\n",
    "                    '여름': [770.6, 567.5, 599.8, 387.1, 446.2],\n",
    "                    '가을': [363.5, 231.2, 293.1, 247.7, 381.6],\n",
    "                    '겨울': [139.3, 59.9, 76.9, 109.1, 108.1]},\n",
    "                    index=['2012', '2013', '2014', '2015', '2016'])\n",
    "df1"
   ]
  },
  {
   "cell_type": "code",
   "execution_count": 89,
   "metadata": {},
   "outputs": [
    {
     "data": {
      "text/plain": [
       "봄     1272.7\n",
       "여름    2771.2\n",
       "가을    1517.1\n",
       "겨울     493.3\n",
       "dtype: float64"
      ]
     },
     "execution_count": 89,
     "metadata": {},
     "output_type": "execute_result"
    }
   ],
   "source": [
    "df1.sum()"
   ]
  },
  {
   "cell_type": "code",
   "execution_count": 91,
   "metadata": {},
   "outputs": [
    {
     "data": {
      "text/plain": [
       "봄     1272.7\n",
       "여름    2771.2\n",
       "가을    1517.1\n",
       "겨울     493.3\n",
       "dtype: float64"
      ]
     },
     "execution_count": 91,
     "metadata": {},
     "output_type": "execute_result"
    }
   ],
   "source": [
    "df1.sum(axis=0)"
   ]
  },
  {
   "cell_type": "code",
   "execution_count": 90,
   "metadata": {},
   "outputs": [
    {
     "data": {
      "text/plain": [
       "2012    1529.9\n",
       "2013    1122.9\n",
       "2014    1185.7\n",
       "2015     967.1\n",
       "2016    1248.7\n",
       "dtype: float64"
      ]
     },
     "execution_count": 90,
     "metadata": {},
     "output_type": "execute_result"
    }
   ],
   "source": [
    "df1.sum(axis=1)"
   ]
  },
  {
   "cell_type": "code",
   "execution_count": 92,
   "metadata": {},
   "outputs": [
    {
     "data": {
      "text/plain": [
       "봄     254.54\n",
       "여름    554.24\n",
       "가을    303.42\n",
       "겨울     98.66\n",
       "dtype: float64"
      ]
     },
     "execution_count": 92,
     "metadata": {},
     "output_type": "execute_result"
    }
   ],
   "source": [
    "df1.mean()"
   ]
  },
  {
   "cell_type": "code",
   "execution_count": 93,
   "metadata": {},
   "outputs": [
    {
     "data": {
      "text/plain": [
       "봄      38.628267\n",
       "여름    148.888895\n",
       "가을     67.358496\n",
       "겨울     30.925523\n",
       "dtype: float64"
      ]
     },
     "execution_count": 93,
     "metadata": {},
     "output_type": "execute_result"
    }
   ],
   "source": [
    "df1.std()"
   ]
  },
  {
   "cell_type": "code",
   "execution_count": 94,
   "metadata": {},
   "outputs": [
    {
     "data": {
      "text/plain": [
       "봄     312.8\n",
       "여름    770.6\n",
       "가을    381.6\n",
       "겨울    139.3\n",
       "dtype: float64"
      ]
     },
     "execution_count": 94,
     "metadata": {},
     "output_type": "execute_result"
    }
   ],
   "source": [
    "df1.max()"
   ]
  },
  {
   "cell_type": "code",
   "execution_count": 95,
   "metadata": {},
   "outputs": [
    {
     "data": {
      "text/plain": [
       "봄     215.9\n",
       "여름    387.1\n",
       "가을    231.2\n",
       "겨울     59.9\n",
       "dtype: float64"
      ]
     },
     "execution_count": 95,
     "metadata": {},
     "output_type": "execute_result"
    }
   ],
   "source": [
    "df1.min()"
   ]
  },
  {
   "cell_type": "code",
   "execution_count": 96,
   "metadata": {},
   "outputs": [
    {
     "data": {
      "text/html": [
       "<div>\n",
       "<style scoped>\n",
       "    .dataframe tbody tr th:only-of-type {\n",
       "        vertical-align: middle;\n",
       "    }\n",
       "\n",
       "    .dataframe tbody tr th {\n",
       "        vertical-align: top;\n",
       "    }\n",
       "\n",
       "    .dataframe thead th {\n",
       "        text-align: right;\n",
       "    }\n",
       "</style>\n",
       "<table border=\"1\" class=\"dataframe\">\n",
       "  <thead>\n",
       "    <tr style=\"text-align: right;\">\n",
       "      <th></th>\n",
       "      <th>봄</th>\n",
       "      <th>여름</th>\n",
       "      <th>가을</th>\n",
       "      <th>겨울</th>\n",
       "    </tr>\n",
       "  </thead>\n",
       "  <tbody>\n",
       "    <tr>\n",
       "      <th>2012</th>\n",
       "      <td>256.5</td>\n",
       "      <td>770.6</td>\n",
       "      <td>363.5</td>\n",
       "      <td>139.3</td>\n",
       "    </tr>\n",
       "    <tr>\n",
       "      <th>2013</th>\n",
       "      <td>520.8</td>\n",
       "      <td>1338.1</td>\n",
       "      <td>594.7</td>\n",
       "      <td>199.2</td>\n",
       "    </tr>\n",
       "    <tr>\n",
       "      <th>2014</th>\n",
       "      <td>736.7</td>\n",
       "      <td>1937.9</td>\n",
       "      <td>887.8</td>\n",
       "      <td>276.1</td>\n",
       "    </tr>\n",
       "    <tr>\n",
       "      <th>2015</th>\n",
       "      <td>959.9</td>\n",
       "      <td>2325.0</td>\n",
       "      <td>1135.5</td>\n",
       "      <td>385.2</td>\n",
       "    </tr>\n",
       "    <tr>\n",
       "      <th>2016</th>\n",
       "      <td>1272.7</td>\n",
       "      <td>2771.2</td>\n",
       "      <td>1517.1</td>\n",
       "      <td>493.3</td>\n",
       "    </tr>\n",
       "  </tbody>\n",
       "</table>\n",
       "</div>"
      ],
      "text/plain": [
       "           봄      여름      가을     겨울\n",
       "2012   256.5   770.6   363.5  139.3\n",
       "2013   520.8  1338.1   594.7  199.2\n",
       "2014   736.7  1937.9   887.8  276.1\n",
       "2015   959.9  2325.0  1135.5  385.2\n",
       "2016  1272.7  2771.2  1517.1  493.3"
      ]
     },
     "execution_count": 96,
     "metadata": {},
     "output_type": "execute_result"
    }
   ],
   "source": [
    "df1.cumsum()"
   ]
  },
  {
   "cell_type": "markdown",
   "metadata": {},
   "source": [
    "# describe()"
   ]
  },
  {
   "cell_type": "code",
   "execution_count": 97,
   "metadata": {},
   "outputs": [
    {
     "data": {
      "text/html": [
       "<div>\n",
       "<style scoped>\n",
       "    .dataframe tbody tr th:only-of-type {\n",
       "        vertical-align: middle;\n",
       "    }\n",
       "\n",
       "    .dataframe tbody tr th {\n",
       "        vertical-align: top;\n",
       "    }\n",
       "\n",
       "    .dataframe thead th {\n",
       "        text-align: right;\n",
       "    }\n",
       "</style>\n",
       "<table border=\"1\" class=\"dataframe\">\n",
       "  <thead>\n",
       "    <tr style=\"text-align: right;\">\n",
       "      <th></th>\n",
       "      <th>봄</th>\n",
       "      <th>여름</th>\n",
       "      <th>가을</th>\n",
       "      <th>겨울</th>\n",
       "    </tr>\n",
       "  </thead>\n",
       "  <tbody>\n",
       "    <tr>\n",
       "      <th>count</th>\n",
       "      <td>5.000000</td>\n",
       "      <td>5.000000</td>\n",
       "      <td>5.000000</td>\n",
       "      <td>5.000000</td>\n",
       "    </tr>\n",
       "    <tr>\n",
       "      <th>mean</th>\n",
       "      <td>254.540000</td>\n",
       "      <td>554.240000</td>\n",
       "      <td>303.420000</td>\n",
       "      <td>98.660000</td>\n",
       "    </tr>\n",
       "    <tr>\n",
       "      <th>std</th>\n",
       "      <td>38.628267</td>\n",
       "      <td>148.888895</td>\n",
       "      <td>67.358496</td>\n",
       "      <td>30.925523</td>\n",
       "    </tr>\n",
       "    <tr>\n",
       "      <th>min</th>\n",
       "      <td>215.900000</td>\n",
       "      <td>387.100000</td>\n",
       "      <td>231.200000</td>\n",
       "      <td>59.900000</td>\n",
       "    </tr>\n",
       "    <tr>\n",
       "      <th>25%</th>\n",
       "      <td>223.200000</td>\n",
       "      <td>446.200000</td>\n",
       "      <td>247.700000</td>\n",
       "      <td>76.900000</td>\n",
       "    </tr>\n",
       "    <tr>\n",
       "      <th>50%</th>\n",
       "      <td>256.500000</td>\n",
       "      <td>567.500000</td>\n",
       "      <td>293.100000</td>\n",
       "      <td>108.100000</td>\n",
       "    </tr>\n",
       "    <tr>\n",
       "      <th>75%</th>\n",
       "      <td>264.300000</td>\n",
       "      <td>599.800000</td>\n",
       "      <td>363.500000</td>\n",
       "      <td>109.100000</td>\n",
       "    </tr>\n",
       "    <tr>\n",
       "      <th>max</th>\n",
       "      <td>312.800000</td>\n",
       "      <td>770.600000</td>\n",
       "      <td>381.600000</td>\n",
       "      <td>139.300000</td>\n",
       "    </tr>\n",
       "  </tbody>\n",
       "</table>\n",
       "</div>"
      ],
      "text/plain": [
       "                봄          여름          가을          겨울\n",
       "count    5.000000    5.000000    5.000000    5.000000\n",
       "mean   254.540000  554.240000  303.420000   98.660000\n",
       "std     38.628267  148.888895   67.358496   30.925523\n",
       "min    215.900000  387.100000  231.200000   59.900000\n",
       "25%    223.200000  446.200000  247.700000   76.900000\n",
       "50%    256.500000  567.500000  293.100000  108.100000\n",
       "75%    264.300000  599.800000  363.500000  109.100000\n",
       "max    312.800000  770.600000  381.600000  139.300000"
      ]
     },
     "execution_count": 97,
     "metadata": {},
     "output_type": "execute_result"
    }
   ],
   "source": [
    "df1.describe()"
   ]
  },
  {
   "cell_type": "code",
   "execution_count": 100,
   "metadata": {},
   "outputs": [
    {
     "data": {
      "text/html": [
       "<div>\n",
       "<style scoped>\n",
       "    .dataframe tbody tr th:only-of-type {\n",
       "        vertical-align: middle;\n",
       "    }\n",
       "\n",
       "    .dataframe tbody tr th {\n",
       "        vertical-align: top;\n",
       "    }\n",
       "\n",
       "    .dataframe thead th {\n",
       "        text-align: right;\n",
       "    }\n",
       "</style>\n",
       "<table border=\"1\" class=\"dataframe\">\n",
       "  <thead>\n",
       "    <tr style=\"text-align: right;\">\n",
       "      <th></th>\n",
       "      <th>2012</th>\n",
       "      <th>2013</th>\n",
       "      <th>2014</th>\n",
       "      <th>2015</th>\n",
       "      <th>2016</th>\n",
       "    </tr>\n",
       "  </thead>\n",
       "  <tbody>\n",
       "    <tr>\n",
       "      <th>count</th>\n",
       "      <td>4.000000</td>\n",
       "      <td>4.000000</td>\n",
       "      <td>4.000000</td>\n",
       "      <td>4.00000</td>\n",
       "      <td>4.000000</td>\n",
       "    </tr>\n",
       "    <tr>\n",
       "      <th>mean</th>\n",
       "      <td>382.475000</td>\n",
       "      <td>280.725000</td>\n",
       "      <td>296.425000</td>\n",
       "      <td>241.77500</td>\n",
       "      <td>312.175000</td>\n",
       "    </tr>\n",
       "    <tr>\n",
       "      <th>std</th>\n",
       "      <td>274.472128</td>\n",
       "      <td>211.128782</td>\n",
       "      <td>221.150739</td>\n",
       "      <td>114.16676</td>\n",
       "      <td>146.548658</td>\n",
       "    </tr>\n",
       "    <tr>\n",
       "      <th>min</th>\n",
       "      <td>139.300000</td>\n",
       "      <td>59.900000</td>\n",
       "      <td>76.900000</td>\n",
       "      <td>109.10000</td>\n",
       "      <td>108.100000</td>\n",
       "    </tr>\n",
       "    <tr>\n",
       "      <th>25%</th>\n",
       "      <td>227.200000</td>\n",
       "      <td>188.375000</td>\n",
       "      <td>181.150000</td>\n",
       "      <td>194.67500</td>\n",
       "      <td>261.625000</td>\n",
       "    </tr>\n",
       "    <tr>\n",
       "      <th>50%</th>\n",
       "      <td>310.000000</td>\n",
       "      <td>247.750000</td>\n",
       "      <td>254.500000</td>\n",
       "      <td>235.45000</td>\n",
       "      <td>347.200000</td>\n",
       "    </tr>\n",
       "    <tr>\n",
       "      <th>75%</th>\n",
       "      <td>465.275000</td>\n",
       "      <td>340.100000</td>\n",
       "      <td>369.775000</td>\n",
       "      <td>282.55000</td>\n",
       "      <td>397.750000</td>\n",
       "    </tr>\n",
       "    <tr>\n",
       "      <th>max</th>\n",
       "      <td>770.600000</td>\n",
       "      <td>567.500000</td>\n",
       "      <td>599.800000</td>\n",
       "      <td>387.10000</td>\n",
       "      <td>446.200000</td>\n",
       "    </tr>\n",
       "  </tbody>\n",
       "</table>\n",
       "</div>"
      ],
      "text/plain": [
       "             2012        2013        2014       2015        2016\n",
       "count    4.000000    4.000000    4.000000    4.00000    4.000000\n",
       "mean   382.475000  280.725000  296.425000  241.77500  312.175000\n",
       "std    274.472128  211.128782  221.150739  114.16676  146.548658\n",
       "min    139.300000   59.900000   76.900000  109.10000  108.100000\n",
       "25%    227.200000  188.375000  181.150000  194.67500  261.625000\n",
       "50%    310.000000  247.750000  254.500000  235.45000  347.200000\n",
       "75%    465.275000  340.100000  369.775000  282.55000  397.750000\n",
       "max    770.600000  567.500000  599.800000  387.10000  446.200000"
      ]
     },
     "execution_count": 100,
     "metadata": {},
     "output_type": "execute_result"
    }
   ],
   "source": [
    "df1.T.describe()"
   ]
  },
  {
   "cell_type": "code",
   "execution_count": 101,
   "metadata": {},
   "outputs": [
    {
     "name": "stdout",
     "output_type": "stream",
     "text": [
      "<class 'pandas.core.frame.DataFrame'>\n",
      "RangeIndex: 10 entries, 0 to 9\n",
      "Data columns (total 3 columns):\n",
      "연도       10 non-null int64\n",
      "매출액      10 non-null int64\n",
      "종업원 수    10 non-null int64\n",
      "dtypes: int64(3)\n",
      "memory usage: 320.0 bytes\n"
     ]
    }
   ],
   "source": [
    "df.info() #결측치가 있는지도 확인할 수 있다."
   ]
  },
  {
   "cell_type": "code",
   "execution_count": 102,
   "metadata": {},
   "outputs": [
    {
     "data": {
      "text/plain": [
       "2012    256.5\n",
       "2013    264.3\n",
       "2014    215.9\n",
       "2015    223.2\n",
       "2016    312.8\n",
       "Name: 봄, dtype: float64"
      ]
     },
     "execution_count": 102,
     "metadata": {},
     "output_type": "execute_result"
    }
   ],
   "source": [
    "df1['봄']"
   ]
  },
  {
   "cell_type": "code",
   "execution_count": 103,
   "metadata": {},
   "outputs": [
    {
     "data": {
      "text/html": [
       "<div>\n",
       "<style scoped>\n",
       "    .dataframe tbody tr th:only-of-type {\n",
       "        vertical-align: middle;\n",
       "    }\n",
       "\n",
       "    .dataframe tbody tr th {\n",
       "        vertical-align: top;\n",
       "    }\n",
       "\n",
       "    .dataframe thead th {\n",
       "        text-align: right;\n",
       "    }\n",
       "</style>\n",
       "<table border=\"1\" class=\"dataframe\">\n",
       "  <thead>\n",
       "    <tr style=\"text-align: right;\">\n",
       "      <th></th>\n",
       "      <th>봄</th>\n",
       "      <th>여름</th>\n",
       "    </tr>\n",
       "  </thead>\n",
       "  <tbody>\n",
       "    <tr>\n",
       "      <th>2012</th>\n",
       "      <td>256.5</td>\n",
       "      <td>770.6</td>\n",
       "    </tr>\n",
       "    <tr>\n",
       "      <th>2013</th>\n",
       "      <td>264.3</td>\n",
       "      <td>567.5</td>\n",
       "    </tr>\n",
       "    <tr>\n",
       "      <th>2014</th>\n",
       "      <td>215.9</td>\n",
       "      <td>599.8</td>\n",
       "    </tr>\n",
       "    <tr>\n",
       "      <th>2015</th>\n",
       "      <td>223.2</td>\n",
       "      <td>387.1</td>\n",
       "    </tr>\n",
       "    <tr>\n",
       "      <th>2016</th>\n",
       "      <td>312.8</td>\n",
       "      <td>446.2</td>\n",
       "    </tr>\n",
       "  </tbody>\n",
       "</table>\n",
       "</div>"
      ],
      "text/plain": [
       "          봄     여름\n",
       "2012  256.5  770.6\n",
       "2013  264.3  567.5\n",
       "2014  215.9  599.8\n",
       "2015  223.2  387.1\n",
       "2016  312.8  446.2"
      ]
     },
     "execution_count": 103,
     "metadata": {},
     "output_type": "execute_result"
    }
   ],
   "source": [
    "df1[['봄','여름']]"
   ]
  },
  {
   "cell_type": "code",
   "execution_count": 104,
   "metadata": {},
   "outputs": [
    {
     "data": {
      "text/html": [
       "<div>\n",
       "<style scoped>\n",
       "    .dataframe tbody tr th:only-of-type {\n",
       "        vertical-align: middle;\n",
       "    }\n",
       "\n",
       "    .dataframe tbody tr th {\n",
       "        vertical-align: top;\n",
       "    }\n",
       "\n",
       "    .dataframe thead th {\n",
       "        text-align: right;\n",
       "    }\n",
       "</style>\n",
       "<table border=\"1\" class=\"dataframe\">\n",
       "  <thead>\n",
       "    <tr style=\"text-align: right;\">\n",
       "      <th></th>\n",
       "      <th>봄</th>\n",
       "      <th>여름</th>\n",
       "      <th>가을</th>\n",
       "      <th>겨울</th>\n",
       "    </tr>\n",
       "  </thead>\n",
       "  <tbody>\n",
       "    <tr>\n",
       "      <th>2013</th>\n",
       "      <td>264.3</td>\n",
       "      <td>567.5</td>\n",
       "      <td>231.2</td>\n",
       "      <td>59.9</td>\n",
       "    </tr>\n",
       "    <tr>\n",
       "      <th>2014</th>\n",
       "      <td>215.9</td>\n",
       "      <td>599.8</td>\n",
       "      <td>293.1</td>\n",
       "      <td>76.9</td>\n",
       "    </tr>\n",
       "  </tbody>\n",
       "</table>\n",
       "</div>"
      ],
      "text/plain": [
       "          봄     여름     가을    겨울\n",
       "2013  264.3  567.5  231.2  59.9\n",
       "2014  215.9  599.8  293.1  76.9"
      ]
     },
     "execution_count": 104,
     "metadata": {},
     "output_type": "execute_result"
    }
   ],
   "source": [
    "df1[1:3]"
   ]
  },
  {
   "cell_type": "code",
   "execution_count": 105,
   "metadata": {},
   "outputs": [
    {
     "data": {
      "text/html": [
       "<div>\n",
       "<style scoped>\n",
       "    .dataframe tbody tr th:only-of-type {\n",
       "        vertical-align: middle;\n",
       "    }\n",
       "\n",
       "    .dataframe tbody tr th {\n",
       "        vertical-align: top;\n",
       "    }\n",
       "\n",
       "    .dataframe thead th {\n",
       "        text-align: right;\n",
       "    }\n",
       "</style>\n",
       "<table border=\"1\" class=\"dataframe\">\n",
       "  <thead>\n",
       "    <tr style=\"text-align: right;\">\n",
       "      <th></th>\n",
       "      <th>봄</th>\n",
       "      <th>여름</th>\n",
       "      <th>가을</th>\n",
       "      <th>겨울</th>\n",
       "    </tr>\n",
       "  </thead>\n",
       "  <tbody>\n",
       "    <tr>\n",
       "      <th>2012</th>\n",
       "      <td>256.5</td>\n",
       "      <td>770.6</td>\n",
       "      <td>363.5</td>\n",
       "      <td>139.3</td>\n",
       "    </tr>\n",
       "    <tr>\n",
       "      <th>2013</th>\n",
       "      <td>264.3</td>\n",
       "      <td>567.5</td>\n",
       "      <td>231.2</td>\n",
       "      <td>59.9</td>\n",
       "    </tr>\n",
       "  </tbody>\n",
       "</table>\n",
       "</div>"
      ],
      "text/plain": [
       "          봄     여름     가을     겨울\n",
       "2012  256.5  770.6  363.5  139.3\n",
       "2013  264.3  567.5  231.2   59.9"
      ]
     },
     "execution_count": 105,
     "metadata": {},
     "output_type": "execute_result"
    }
   ],
   "source": [
    "df1[:'2013']"
   ]
  },
  {
   "cell_type": "code",
   "execution_count": 106,
   "metadata": {},
   "outputs": [
    {
     "data": {
      "text/plain": [
       "봄     264.3\n",
       "여름    567.5\n",
       "가을    231.2\n",
       "겨울     59.9\n",
       "Name: 2013, dtype: float64"
      ]
     },
     "execution_count": 106,
     "metadata": {},
     "output_type": "execute_result"
    }
   ],
   "source": [
    "df1.loc['2013']"
   ]
  },
  {
   "cell_type": "code",
   "execution_count": 107,
   "metadata": {},
   "outputs": [
    {
     "data": {
      "text/html": [
       "<div>\n",
       "<style scoped>\n",
       "    .dataframe tbody tr th:only-of-type {\n",
       "        vertical-align: middle;\n",
       "    }\n",
       "\n",
       "    .dataframe tbody tr th {\n",
       "        vertical-align: top;\n",
       "    }\n",
       "\n",
       "    .dataframe thead th {\n",
       "        text-align: right;\n",
       "    }\n",
       "</style>\n",
       "<table border=\"1\" class=\"dataframe\">\n",
       "  <thead>\n",
       "    <tr style=\"text-align: right;\">\n",
       "      <th></th>\n",
       "      <th>봄</th>\n",
       "      <th>여름</th>\n",
       "      <th>가을</th>\n",
       "      <th>겨울</th>\n",
       "    </tr>\n",
       "  </thead>\n",
       "  <tbody>\n",
       "    <tr>\n",
       "      <th>2013</th>\n",
       "      <td>264.3</td>\n",
       "      <td>567.5</td>\n",
       "      <td>231.2</td>\n",
       "      <td>59.9</td>\n",
       "    </tr>\n",
       "    <tr>\n",
       "      <th>2014</th>\n",
       "      <td>215.9</td>\n",
       "      <td>599.8</td>\n",
       "      <td>293.1</td>\n",
       "      <td>76.9</td>\n",
       "    </tr>\n",
       "    <tr>\n",
       "      <th>2015</th>\n",
       "      <td>223.2</td>\n",
       "      <td>387.1</td>\n",
       "      <td>247.7</td>\n",
       "      <td>109.1</td>\n",
       "    </tr>\n",
       "    <tr>\n",
       "      <th>2016</th>\n",
       "      <td>312.8</td>\n",
       "      <td>446.2</td>\n",
       "      <td>381.6</td>\n",
       "      <td>108.1</td>\n",
       "    </tr>\n",
       "  </tbody>\n",
       "</table>\n",
       "</div>"
      ],
      "text/plain": [
       "          봄     여름     가을     겨울\n",
       "2013  264.3  567.5  231.2   59.9\n",
       "2014  215.9  599.8  293.1   76.9\n",
       "2015  223.2  387.1  247.7  109.1\n",
       "2016  312.8  446.2  381.6  108.1"
      ]
     },
     "execution_count": 107,
     "metadata": {},
     "output_type": "execute_result"
    }
   ],
   "source": [
    "df1.loc['2013':'2016']"
   ]
  },
  {
   "cell_type": "code",
   "execution_count": 108,
   "metadata": {},
   "outputs": [
    {
     "data": {
      "text/plain": [
       "2012    770.6\n",
       "2013    567.5\n",
       "2014    599.8\n",
       "Name: 여름, dtype: float64"
      ]
     },
     "execution_count": 108,
     "metadata": {},
     "output_type": "execute_result"
    }
   ],
   "source": [
    "df1['여름'][:'2014']"
   ]
  },
  {
   "cell_type": "code",
   "execution_count": 110,
   "metadata": {},
   "outputs": [
    {
     "data": {
      "text/html": [
       "<div>\n",
       "<style scoped>\n",
       "    .dataframe tbody tr th:only-of-type {\n",
       "        vertical-align: middle;\n",
       "    }\n",
       "\n",
       "    .dataframe tbody tr th {\n",
       "        vertical-align: top;\n",
       "    }\n",
       "\n",
       "    .dataframe thead th {\n",
       "        text-align: right;\n",
       "    }\n",
       "</style>\n",
       "<table border=\"1\" class=\"dataframe\">\n",
       "  <thead>\n",
       "    <tr style=\"text-align: right;\">\n",
       "      <th></th>\n",
       "      <th>여름</th>\n",
       "      <th>가을</th>\n",
       "      <th>겨울</th>\n",
       "    </tr>\n",
       "  </thead>\n",
       "  <tbody>\n",
       "    <tr>\n",
       "      <th>2013</th>\n",
       "      <td>567.5</td>\n",
       "      <td>231.2</td>\n",
       "      <td>59.9</td>\n",
       "    </tr>\n",
       "    <tr>\n",
       "      <th>2014</th>\n",
       "      <td>599.8</td>\n",
       "      <td>293.1</td>\n",
       "      <td>76.9</td>\n",
       "    </tr>\n",
       "    <tr>\n",
       "      <th>2015</th>\n",
       "      <td>387.1</td>\n",
       "      <td>247.7</td>\n",
       "      <td>109.1</td>\n",
       "    </tr>\n",
       "    <tr>\n",
       "      <th>2016</th>\n",
       "      <td>446.2</td>\n",
       "      <td>381.6</td>\n",
       "      <td>108.1</td>\n",
       "    </tr>\n",
       "  </tbody>\n",
       "</table>\n",
       "</div>"
      ],
      "text/plain": [
       "         여름     가을     겨울\n",
       "2013  567.5  231.2   59.9\n",
       "2014  599.8  293.1   76.9\n",
       "2015  387.1  247.7  109.1\n",
       "2016  446.2  381.6  108.1"
      ]
     },
     "execution_count": 110,
     "metadata": {},
     "output_type": "execute_result"
    }
   ],
   "source": [
    "df1.loc['2013':,'여름':]"
   ]
  },
  {
   "cell_type": "code",
   "execution_count": 111,
   "metadata": {},
   "outputs": [
    {
     "data": {
      "text/html": [
       "<div>\n",
       "<style scoped>\n",
       "    .dataframe tbody tr th:only-of-type {\n",
       "        vertical-align: middle;\n",
       "    }\n",
       "\n",
       "    .dataframe tbody tr th {\n",
       "        vertical-align: top;\n",
       "    }\n",
       "\n",
       "    .dataframe thead th {\n",
       "        text-align: right;\n",
       "    }\n",
       "</style>\n",
       "<table border=\"1\" class=\"dataframe\">\n",
       "  <thead>\n",
       "    <tr style=\"text-align: right;\">\n",
       "      <th></th>\n",
       "      <th>2012</th>\n",
       "      <th>2013</th>\n",
       "      <th>2014</th>\n",
       "      <th>2015</th>\n",
       "      <th>2016</th>\n",
       "    </tr>\n",
       "  </thead>\n",
       "  <tbody>\n",
       "    <tr>\n",
       "      <th>봄</th>\n",
       "      <td>256.5</td>\n",
       "      <td>264.3</td>\n",
       "      <td>215.9</td>\n",
       "      <td>223.2</td>\n",
       "      <td>312.8</td>\n",
       "    </tr>\n",
       "    <tr>\n",
       "      <th>여름</th>\n",
       "      <td>770.6</td>\n",
       "      <td>567.5</td>\n",
       "      <td>599.8</td>\n",
       "      <td>387.1</td>\n",
       "      <td>446.2</td>\n",
       "    </tr>\n",
       "    <tr>\n",
       "      <th>가을</th>\n",
       "      <td>363.5</td>\n",
       "      <td>231.2</td>\n",
       "      <td>293.1</td>\n",
       "      <td>247.7</td>\n",
       "      <td>381.6</td>\n",
       "    </tr>\n",
       "    <tr>\n",
       "      <th>겨울</th>\n",
       "      <td>139.3</td>\n",
       "      <td>59.9</td>\n",
       "      <td>76.9</td>\n",
       "      <td>109.1</td>\n",
       "      <td>108.1</td>\n",
       "    </tr>\n",
       "  </tbody>\n",
       "</table>\n",
       "</div>"
      ],
      "text/plain": [
       "     2012   2013   2014   2015   2016\n",
       "봄   256.5  264.3  215.9  223.2  312.8\n",
       "여름  770.6  567.5  599.8  387.1  446.2\n",
       "가을  363.5  231.2  293.1  247.7  381.6\n",
       "겨울  139.3   59.9   76.9  109.1  108.1"
      ]
     },
     "execution_count": 111,
     "metadata": {},
     "output_type": "execute_result"
    }
   ],
   "source": [
    "df1.T"
   ]
  },
  {
   "cell_type": "code",
   "execution_count": 112,
   "metadata": {},
   "outputs": [
    {
     "data": {
      "text/html": [
       "<div>\n",
       "<style scoped>\n",
       "    .dataframe tbody tr th:only-of-type {\n",
       "        vertical-align: middle;\n",
       "    }\n",
       "\n",
       "    .dataframe tbody tr th {\n",
       "        vertical-align: top;\n",
       "    }\n",
       "\n",
       "    .dataframe thead th {\n",
       "        text-align: right;\n",
       "    }\n",
       "</style>\n",
       "<table border=\"1\" class=\"dataframe\">\n",
       "  <thead>\n",
       "    <tr style=\"text-align: right;\">\n",
       "      <th></th>\n",
       "      <th>겨울</th>\n",
       "      <th>봄</th>\n",
       "      <th>여름</th>\n",
       "      <th>가을</th>\n",
       "    </tr>\n",
       "  </thead>\n",
       "  <tbody>\n",
       "    <tr>\n",
       "      <th>2012</th>\n",
       "      <td>139.3</td>\n",
       "      <td>256.5</td>\n",
       "      <td>770.6</td>\n",
       "      <td>363.5</td>\n",
       "    </tr>\n",
       "    <tr>\n",
       "      <th>2013</th>\n",
       "      <td>59.9</td>\n",
       "      <td>264.3</td>\n",
       "      <td>567.5</td>\n",
       "      <td>231.2</td>\n",
       "    </tr>\n",
       "    <tr>\n",
       "      <th>2014</th>\n",
       "      <td>76.9</td>\n",
       "      <td>215.9</td>\n",
       "      <td>599.8</td>\n",
       "      <td>293.1</td>\n",
       "    </tr>\n",
       "    <tr>\n",
       "      <th>2015</th>\n",
       "      <td>109.1</td>\n",
       "      <td>223.2</td>\n",
       "      <td>387.1</td>\n",
       "      <td>247.7</td>\n",
       "    </tr>\n",
       "    <tr>\n",
       "      <th>2016</th>\n",
       "      <td>108.1</td>\n",
       "      <td>312.8</td>\n",
       "      <td>446.2</td>\n",
       "      <td>381.6</td>\n",
       "    </tr>\n",
       "  </tbody>\n",
       "</table>\n",
       "</div>"
      ],
      "text/plain": [
       "         겨울      봄     여름     가을\n",
       "2012  139.3  256.5  770.6  363.5\n",
       "2013   59.9  264.3  567.5  231.2\n",
       "2014   76.9  215.9  599.8  293.1\n",
       "2015  109.1  223.2  387.1  247.7\n",
       "2016  108.1  312.8  446.2  381.6"
      ]
     },
     "execution_count": 112,
     "metadata": {},
     "output_type": "execute_result"
    }
   ],
   "source": [
    "df1[['겨울','봄','여름','가을']]"
   ]
  },
  {
   "cell_type": "code",
   "execution_count": 113,
   "metadata": {},
   "outputs": [
    {
     "data": {
      "text/html": [
       "<div>\n",
       "<style scoped>\n",
       "    .dataframe tbody tr th:only-of-type {\n",
       "        vertical-align: middle;\n",
       "    }\n",
       "\n",
       "    .dataframe tbody tr th {\n",
       "        vertical-align: top;\n",
       "    }\n",
       "\n",
       "    .dataframe thead th {\n",
       "        text-align: right;\n",
       "    }\n",
       "</style>\n",
       "<table border=\"1\" class=\"dataframe\">\n",
       "  <thead>\n",
       "    <tr style=\"text-align: right;\">\n",
       "      <th></th>\n",
       "      <th>봄</th>\n",
       "      <th>여름</th>\n",
       "      <th>가을</th>\n",
       "      <th>겨울</th>\n",
       "    </tr>\n",
       "  </thead>\n",
       "  <tbody>\n",
       "    <tr>\n",
       "      <th>2016</th>\n",
       "      <td>312.8</td>\n",
       "      <td>446.2</td>\n",
       "      <td>381.6</td>\n",
       "      <td>108.1</td>\n",
       "    </tr>\n",
       "    <tr>\n",
       "      <th>2015</th>\n",
       "      <td>223.2</td>\n",
       "      <td>387.1</td>\n",
       "      <td>247.7</td>\n",
       "      <td>109.1</td>\n",
       "    </tr>\n",
       "    <tr>\n",
       "      <th>2014</th>\n",
       "      <td>215.9</td>\n",
       "      <td>599.8</td>\n",
       "      <td>293.1</td>\n",
       "      <td>76.9</td>\n",
       "    </tr>\n",
       "  </tbody>\n",
       "</table>\n",
       "</div>"
      ],
      "text/plain": [
       "          봄     여름     가을     겨울\n",
       "2016  312.8  446.2  381.6  108.1\n",
       "2015  223.2  387.1  247.7  109.1\n",
       "2014  215.9  599.8  293.1   76.9"
      ]
     },
     "execution_count": 113,
     "metadata": {},
     "output_type": "execute_result"
    }
   ],
   "source": [
    "df1.loc[['2016','2015','2014']]"
   ]
  },
  {
   "cell_type": "markdown",
   "metadata": {},
   "source": [
    "## 데이터 통합하기"
   ]
  },
  {
   "cell_type": "code",
   "execution_count": 114,
   "metadata": {},
   "outputs": [
    {
     "data": {
      "text/html": [
       "<div>\n",
       "<style scoped>\n",
       "    .dataframe tbody tr th:only-of-type {\n",
       "        vertical-align: middle;\n",
       "    }\n",
       "\n",
       "    .dataframe tbody tr th {\n",
       "        vertical-align: top;\n",
       "    }\n",
       "\n",
       "    .dataframe thead th {\n",
       "        text-align: right;\n",
       "    }\n",
       "</style>\n",
       "<table border=\"1\" class=\"dataframe\">\n",
       "  <thead>\n",
       "    <tr style=\"text-align: right;\">\n",
       "      <th></th>\n",
       "      <th>Class1</th>\n",
       "      <th>Class2</th>\n",
       "    </tr>\n",
       "  </thead>\n",
       "  <tbody>\n",
       "    <tr>\n",
       "      <th>0</th>\n",
       "      <td>95</td>\n",
       "      <td>91</td>\n",
       "    </tr>\n",
       "    <tr>\n",
       "      <th>1</th>\n",
       "      <td>92</td>\n",
       "      <td>93</td>\n",
       "    </tr>\n",
       "    <tr>\n",
       "      <th>2</th>\n",
       "      <td>98</td>\n",
       "      <td>98</td>\n",
       "    </tr>\n",
       "    <tr>\n",
       "      <th>3</th>\n",
       "      <td>100</td>\n",
       "      <td>100</td>\n",
       "    </tr>\n",
       "  </tbody>\n",
       "</table>\n",
       "</div>"
      ],
      "text/plain": [
       "   Class1  Class2\n",
       "0      95      91\n",
       "1      92      93\n",
       "2      98      98\n",
       "3     100     100"
      ]
     },
     "execution_count": 114,
     "metadata": {},
     "output_type": "execute_result"
    }
   ],
   "source": [
    "df1 = pd.DataFrame({'Class1': [95, 92, 98, 100],\n",
    "                    'Class2': [91, 93, 98, 100]})\n",
    "df1"
   ]
  },
  {
   "cell_type": "code",
   "execution_count": 115,
   "metadata": {},
   "outputs": [
    {
     "data": {
      "text/html": [
       "<div>\n",
       "<style scoped>\n",
       "    .dataframe tbody tr th:only-of-type {\n",
       "        vertical-align: middle;\n",
       "    }\n",
       "\n",
       "    .dataframe tbody tr th {\n",
       "        vertical-align: top;\n",
       "    }\n",
       "\n",
       "    .dataframe thead th {\n",
       "        text-align: right;\n",
       "    }\n",
       "</style>\n",
       "<table border=\"1\" class=\"dataframe\">\n",
       "  <thead>\n",
       "    <tr style=\"text-align: right;\">\n",
       "      <th></th>\n",
       "      <th>Class1</th>\n",
       "      <th>Class2</th>\n",
       "    </tr>\n",
       "  </thead>\n",
       "  <tbody>\n",
       "    <tr>\n",
       "      <th>0</th>\n",
       "      <td>76</td>\n",
       "      <td>100</td>\n",
       "    </tr>\n",
       "    <tr>\n",
       "      <th>1</th>\n",
       "      <td>88</td>\n",
       "      <td>100</td>\n",
       "    </tr>\n",
       "  </tbody>\n",
       "</table>\n",
       "</div>"
      ],
      "text/plain": [
       "   Class1  Class2\n",
       "0      76     100\n",
       "1      88     100"
      ]
     },
     "execution_count": 115,
     "metadata": {},
     "output_type": "execute_result"
    }
   ],
   "source": [
    "df2 = pd.DataFrame({'Class1': [76, 88],\n",
    "                    'Class2': [100, 100]})\n",
    "df2"
   ]
  },
  {
   "cell_type": "code",
   "execution_count": 116,
   "metadata": {},
   "outputs": [
    {
     "data": {
      "text/html": [
       "<div>\n",
       "<style scoped>\n",
       "    .dataframe tbody tr th:only-of-type {\n",
       "        vertical-align: middle;\n",
       "    }\n",
       "\n",
       "    .dataframe tbody tr th {\n",
       "        vertical-align: top;\n",
       "    }\n",
       "\n",
       "    .dataframe thead th {\n",
       "        text-align: right;\n",
       "    }\n",
       "</style>\n",
       "<table border=\"1\" class=\"dataframe\">\n",
       "  <thead>\n",
       "    <tr style=\"text-align: right;\">\n",
       "      <th></th>\n",
       "      <th>Class1</th>\n",
       "      <th>Class2</th>\n",
       "    </tr>\n",
       "  </thead>\n",
       "  <tbody>\n",
       "    <tr>\n",
       "      <th>0</th>\n",
       "      <td>95</td>\n",
       "      <td>91</td>\n",
       "    </tr>\n",
       "    <tr>\n",
       "      <th>1</th>\n",
       "      <td>92</td>\n",
       "      <td>93</td>\n",
       "    </tr>\n",
       "    <tr>\n",
       "      <th>2</th>\n",
       "      <td>98</td>\n",
       "      <td>98</td>\n",
       "    </tr>\n",
       "    <tr>\n",
       "      <th>3</th>\n",
       "      <td>100</td>\n",
       "      <td>100</td>\n",
       "    </tr>\n",
       "    <tr>\n",
       "      <th>0</th>\n",
       "      <td>76</td>\n",
       "      <td>100</td>\n",
       "    </tr>\n",
       "    <tr>\n",
       "      <th>1</th>\n",
       "      <td>88</td>\n",
       "      <td>100</td>\n",
       "    </tr>\n",
       "  </tbody>\n",
       "</table>\n",
       "</div>"
      ],
      "text/plain": [
       "   Class1  Class2\n",
       "0      95      91\n",
       "1      92      93\n",
       "2      98      98\n",
       "3     100     100\n",
       "0      76     100\n",
       "1      88     100"
      ]
     },
     "execution_count": 116,
     "metadata": {},
     "output_type": "execute_result"
    }
   ],
   "source": [
    "df1.append(df2)"
   ]
  },
  {
   "cell_type": "code",
   "execution_count": 117,
   "metadata": {},
   "outputs": [
    {
     "data": {
      "text/html": [
       "<div>\n",
       "<style scoped>\n",
       "    .dataframe tbody tr th:only-of-type {\n",
       "        vertical-align: middle;\n",
       "    }\n",
       "\n",
       "    .dataframe tbody tr th {\n",
       "        vertical-align: top;\n",
       "    }\n",
       "\n",
       "    .dataframe thead th {\n",
       "        text-align: right;\n",
       "    }\n",
       "</style>\n",
       "<table border=\"1\" class=\"dataframe\">\n",
       "  <thead>\n",
       "    <tr style=\"text-align: right;\">\n",
       "      <th></th>\n",
       "      <th>Class1</th>\n",
       "      <th>Class2</th>\n",
       "    </tr>\n",
       "  </thead>\n",
       "  <tbody>\n",
       "    <tr>\n",
       "      <th>0</th>\n",
       "      <td>95</td>\n",
       "      <td>91</td>\n",
       "    </tr>\n",
       "    <tr>\n",
       "      <th>1</th>\n",
       "      <td>92</td>\n",
       "      <td>93</td>\n",
       "    </tr>\n",
       "    <tr>\n",
       "      <th>2</th>\n",
       "      <td>98</td>\n",
       "      <td>98</td>\n",
       "    </tr>\n",
       "    <tr>\n",
       "      <th>3</th>\n",
       "      <td>100</td>\n",
       "      <td>100</td>\n",
       "    </tr>\n",
       "    <tr>\n",
       "      <th>4</th>\n",
       "      <td>76</td>\n",
       "      <td>100</td>\n",
       "    </tr>\n",
       "    <tr>\n",
       "      <th>5</th>\n",
       "      <td>88</td>\n",
       "      <td>100</td>\n",
       "    </tr>\n",
       "  </tbody>\n",
       "</table>\n",
       "</div>"
      ],
      "text/plain": [
       "   Class1  Class2\n",
       "0      95      91\n",
       "1      92      93\n",
       "2      98      98\n",
       "3     100     100\n",
       "4      76     100\n",
       "5      88     100"
      ]
     },
     "execution_count": 117,
     "metadata": {},
     "output_type": "execute_result"
    }
   ],
   "source": [
    "df1.append(df2, ignore_index=True)"
   ]
  },
  {
   "cell_type": "code",
   "execution_count": 120,
   "metadata": {},
   "outputs": [
    {
     "data": {
      "text/html": [
       "<div>\n",
       "<style scoped>\n",
       "    .dataframe tbody tr th:only-of-type {\n",
       "        vertical-align: middle;\n",
       "    }\n",
       "\n",
       "    .dataframe tbody tr th {\n",
       "        vertical-align: top;\n",
       "    }\n",
       "\n",
       "    .dataframe thead th {\n",
       "        text-align: right;\n",
       "    }\n",
       "</style>\n",
       "<table border=\"1\" class=\"dataframe\">\n",
       "  <thead>\n",
       "    <tr style=\"text-align: right;\">\n",
       "      <th></th>\n",
       "      <th>index</th>\n",
       "      <th>Class1</th>\n",
       "      <th>Class2</th>\n",
       "    </tr>\n",
       "  </thead>\n",
       "  <tbody>\n",
       "    <tr>\n",
       "      <th>0</th>\n",
       "      <td>0</td>\n",
       "      <td>95</td>\n",
       "      <td>91</td>\n",
       "    </tr>\n",
       "    <tr>\n",
       "      <th>1</th>\n",
       "      <td>1</td>\n",
       "      <td>92</td>\n",
       "      <td>93</td>\n",
       "    </tr>\n",
       "    <tr>\n",
       "      <th>2</th>\n",
       "      <td>2</td>\n",
       "      <td>98</td>\n",
       "      <td>98</td>\n",
       "    </tr>\n",
       "    <tr>\n",
       "      <th>3</th>\n",
       "      <td>3</td>\n",
       "      <td>100</td>\n",
       "      <td>100</td>\n",
       "    </tr>\n",
       "    <tr>\n",
       "      <th>4</th>\n",
       "      <td>0</td>\n",
       "      <td>76</td>\n",
       "      <td>100</td>\n",
       "    </tr>\n",
       "    <tr>\n",
       "      <th>5</th>\n",
       "      <td>1</td>\n",
       "      <td>88</td>\n",
       "      <td>100</td>\n",
       "    </tr>\n",
       "  </tbody>\n",
       "</table>\n",
       "</div>"
      ],
      "text/plain": [
       "   index  Class1  Class2\n",
       "0      0      95      91\n",
       "1      1      92      93\n",
       "2      2      98      98\n",
       "3      3     100     100\n",
       "4      0      76     100\n",
       "5      1      88     100"
      ]
     },
     "execution_count": 120,
     "metadata": {},
     "output_type": "execute_result"
    }
   ],
   "source": [
    "df1.append(df2).reset_index()"
   ]
  },
  {
   "cell_type": "code",
   "execution_count": 121,
   "metadata": {},
   "outputs": [
    {
     "data": {
      "text/html": [
       "<div>\n",
       "<style scoped>\n",
       "    .dataframe tbody tr th:only-of-type {\n",
       "        vertical-align: middle;\n",
       "    }\n",
       "\n",
       "    .dataframe tbody tr th {\n",
       "        vertical-align: top;\n",
       "    }\n",
       "\n",
       "    .dataframe thead th {\n",
       "        text-align: right;\n",
       "    }\n",
       "</style>\n",
       "<table border=\"1\" class=\"dataframe\">\n",
       "  <thead>\n",
       "    <tr style=\"text-align: right;\">\n",
       "      <th></th>\n",
       "      <th>Class1</th>\n",
       "      <th>Class2</th>\n",
       "    </tr>\n",
       "  </thead>\n",
       "  <tbody>\n",
       "    <tr>\n",
       "      <th>0</th>\n",
       "      <td>95</td>\n",
       "      <td>91</td>\n",
       "    </tr>\n",
       "    <tr>\n",
       "      <th>1</th>\n",
       "      <td>92</td>\n",
       "      <td>93</td>\n",
       "    </tr>\n",
       "    <tr>\n",
       "      <th>2</th>\n",
       "      <td>98</td>\n",
       "      <td>98</td>\n",
       "    </tr>\n",
       "    <tr>\n",
       "      <th>3</th>\n",
       "      <td>100</td>\n",
       "      <td>100</td>\n",
       "    </tr>\n",
       "    <tr>\n",
       "      <th>4</th>\n",
       "      <td>76</td>\n",
       "      <td>100</td>\n",
       "    </tr>\n",
       "    <tr>\n",
       "      <th>5</th>\n",
       "      <td>88</td>\n",
       "      <td>100</td>\n",
       "    </tr>\n",
       "  </tbody>\n",
       "</table>\n",
       "</div>"
      ],
      "text/plain": [
       "   Class1  Class2\n",
       "0      95      91\n",
       "1      92      93\n",
       "2      98      98\n",
       "3     100     100\n",
       "4      76     100\n",
       "5      88     100"
      ]
     },
     "execution_count": 121,
     "metadata": {},
     "output_type": "execute_result"
    }
   ],
   "source": [
    "df1.append(df2).reset_index(drop=True)"
   ]
  },
  {
   "cell_type": "code",
   "execution_count": 125,
   "metadata": {},
   "outputs": [
    {
     "data": {
      "text/html": [
       "<div>\n",
       "<style scoped>\n",
       "    .dataframe tbody tr th:only-of-type {\n",
       "        vertical-align: middle;\n",
       "    }\n",
       "\n",
       "    .dataframe tbody tr th {\n",
       "        vertical-align: top;\n",
       "    }\n",
       "\n",
       "    .dataframe thead th {\n",
       "        text-align: right;\n",
       "    }\n",
       "</style>\n",
       "<table border=\"1\" class=\"dataframe\">\n",
       "  <thead>\n",
       "    <tr style=\"text-align: right;\">\n",
       "      <th></th>\n",
       "      <th>Class1</th>\n",
       "      <th>Class3</th>\n",
       "    </tr>\n",
       "  </thead>\n",
       "  <tbody>\n",
       "    <tr>\n",
       "      <th>0</th>\n",
       "      <td>80</td>\n",
       "      <td>50</td>\n",
       "    </tr>\n",
       "    <tr>\n",
       "      <th>1</th>\n",
       "      <td>10</td>\n",
       "      <td>60</td>\n",
       "    </tr>\n",
       "  </tbody>\n",
       "</table>\n",
       "</div>"
      ],
      "text/plain": [
       "   Class1  Class3\n",
       "0      80      50\n",
       "1      10      60"
      ]
     },
     "execution_count": 125,
     "metadata": {},
     "output_type": "execute_result"
    }
   ],
   "source": [
    "df3 = pd.DataFrame({\n",
    "    'Class1':[80,10],\n",
    "    'Class3':[50,60]\n",
    "})\n",
    "df3"
   ]
  },
  {
   "cell_type": "code",
   "execution_count": 128,
   "metadata": {},
   "outputs": [
    {
     "data": {
      "text/html": [
       "<div>\n",
       "<style scoped>\n",
       "    .dataframe tbody tr th:only-of-type {\n",
       "        vertical-align: middle;\n",
       "    }\n",
       "\n",
       "    .dataframe tbody tr th {\n",
       "        vertical-align: top;\n",
       "    }\n",
       "\n",
       "    .dataframe thead th {\n",
       "        text-align: right;\n",
       "    }\n",
       "</style>\n",
       "<table border=\"1\" class=\"dataframe\">\n",
       "  <thead>\n",
       "    <tr style=\"text-align: right;\">\n",
       "      <th></th>\n",
       "      <th>Class1</th>\n",
       "      <th>Class2</th>\n",
       "      <th>Class3</th>\n",
       "    </tr>\n",
       "  </thead>\n",
       "  <tbody>\n",
       "    <tr>\n",
       "      <th>0</th>\n",
       "      <td>95</td>\n",
       "      <td>91.0</td>\n",
       "      <td>NaN</td>\n",
       "    </tr>\n",
       "    <tr>\n",
       "      <th>1</th>\n",
       "      <td>92</td>\n",
       "      <td>93.0</td>\n",
       "      <td>NaN</td>\n",
       "    </tr>\n",
       "    <tr>\n",
       "      <th>2</th>\n",
       "      <td>98</td>\n",
       "      <td>98.0</td>\n",
       "      <td>NaN</td>\n",
       "    </tr>\n",
       "    <tr>\n",
       "      <th>3</th>\n",
       "      <td>100</td>\n",
       "      <td>100.0</td>\n",
       "      <td>NaN</td>\n",
       "    </tr>\n",
       "    <tr>\n",
       "      <th>4</th>\n",
       "      <td>80</td>\n",
       "      <td>NaN</td>\n",
       "      <td>50.0</td>\n",
       "    </tr>\n",
       "    <tr>\n",
       "      <th>5</th>\n",
       "      <td>10</td>\n",
       "      <td>NaN</td>\n",
       "      <td>60.0</td>\n",
       "    </tr>\n",
       "  </tbody>\n",
       "</table>\n",
       "</div>"
      ],
      "text/plain": [
       "   Class1  Class2  Class3\n",
       "0      95    91.0     NaN\n",
       "1      92    93.0     NaN\n",
       "2      98    98.0     NaN\n",
       "3     100   100.0     NaN\n",
       "4      80     NaN    50.0\n",
       "5      10     NaN    60.0"
      ]
     },
     "execution_count": 128,
     "metadata": {},
     "output_type": "execute_result"
    }
   ],
   "source": [
    "df1.append(df3, ignore_index=True, sort=True)"
   ]
  },
  {
   "cell_type": "code",
   "execution_count": 129,
   "metadata": {},
   "outputs": [
    {
     "data": {
      "text/html": [
       "<div>\n",
       "<style scoped>\n",
       "    .dataframe tbody tr th:only-of-type {\n",
       "        vertical-align: middle;\n",
       "    }\n",
       "\n",
       "    .dataframe tbody tr th {\n",
       "        vertical-align: top;\n",
       "    }\n",
       "\n",
       "    .dataframe thead th {\n",
       "        text-align: right;\n",
       "    }\n",
       "</style>\n",
       "<table border=\"1\" class=\"dataframe\">\n",
       "  <thead>\n",
       "    <tr style=\"text-align: right;\">\n",
       "      <th></th>\n",
       "      <th>Class3</th>\n",
       "    </tr>\n",
       "  </thead>\n",
       "  <tbody>\n",
       "    <tr>\n",
       "      <th>0</th>\n",
       "      <td>92</td>\n",
       "    </tr>\n",
       "    <tr>\n",
       "      <th>1</th>\n",
       "      <td>93</td>\n",
       "    </tr>\n",
       "    <tr>\n",
       "      <th>2</th>\n",
       "      <td>94</td>\n",
       "    </tr>\n",
       "    <tr>\n",
       "      <th>3</th>\n",
       "      <td>91</td>\n",
       "    </tr>\n",
       "    <tr>\n",
       "      <th>4</th>\n",
       "      <td>99</td>\n",
       "    </tr>\n",
       "  </tbody>\n",
       "</table>\n",
       "</div>"
      ],
      "text/plain": [
       "   Class3\n",
       "0      92\n",
       "1      93\n",
       "2      94\n",
       "3      91\n",
       "4      99"
      ]
     },
     "execution_count": 129,
     "metadata": {},
     "output_type": "execute_result"
    }
   ],
   "source": [
    "df4 = pd.DataFrame({'Class3': [92,93,94,91,99]})\n",
    "df4"
   ]
  },
  {
   "cell_type": "code",
   "execution_count": 131,
   "metadata": {},
   "outputs": [
    {
     "data": {
      "text/html": [
       "<div>\n",
       "<style scoped>\n",
       "    .dataframe tbody tr th:only-of-type {\n",
       "        vertical-align: middle;\n",
       "    }\n",
       "\n",
       "    .dataframe tbody tr th {\n",
       "        vertical-align: top;\n",
       "    }\n",
       "\n",
       "    .dataframe thead th {\n",
       "        text-align: right;\n",
       "    }\n",
       "</style>\n",
       "<table border=\"1\" class=\"dataframe\">\n",
       "  <thead>\n",
       "    <tr style=\"text-align: right;\">\n",
       "      <th></th>\n",
       "      <th>Class1</th>\n",
       "      <th>Class2</th>\n",
       "    </tr>\n",
       "  </thead>\n",
       "  <tbody>\n",
       "    <tr>\n",
       "      <th>0</th>\n",
       "      <td>95</td>\n",
       "      <td>91</td>\n",
       "    </tr>\n",
       "    <tr>\n",
       "      <th>1</th>\n",
       "      <td>92</td>\n",
       "      <td>93</td>\n",
       "    </tr>\n",
       "    <tr>\n",
       "      <th>2</th>\n",
       "      <td>98</td>\n",
       "      <td>98</td>\n",
       "    </tr>\n",
       "    <tr>\n",
       "      <th>3</th>\n",
       "      <td>100</td>\n",
       "      <td>100</td>\n",
       "    </tr>\n",
       "  </tbody>\n",
       "</table>\n",
       "</div>"
      ],
      "text/plain": [
       "   Class1  Class2\n",
       "0      95      91\n",
       "1      92      93\n",
       "2      98      98\n",
       "3     100     100"
      ]
     },
     "execution_count": 131,
     "metadata": {},
     "output_type": "execute_result"
    }
   ],
   "source": [
    "df1"
   ]
  },
  {
   "cell_type": "code",
   "execution_count": 132,
   "metadata": {},
   "outputs": [
    {
     "data": {
      "text/html": [
       "<div>\n",
       "<style scoped>\n",
       "    .dataframe tbody tr th:only-of-type {\n",
       "        vertical-align: middle;\n",
       "    }\n",
       "\n",
       "    .dataframe tbody tr th {\n",
       "        vertical-align: top;\n",
       "    }\n",
       "\n",
       "    .dataframe thead th {\n",
       "        text-align: right;\n",
       "    }\n",
       "</style>\n",
       "<table border=\"1\" class=\"dataframe\">\n",
       "  <thead>\n",
       "    <tr style=\"text-align: right;\">\n",
       "      <th></th>\n",
       "      <th>Class1</th>\n",
       "      <th>Class2</th>\n",
       "      <th>Class3</th>\n",
       "    </tr>\n",
       "  </thead>\n",
       "  <tbody>\n",
       "    <tr>\n",
       "      <th>0</th>\n",
       "      <td>95</td>\n",
       "      <td>91</td>\n",
       "      <td>92</td>\n",
       "    </tr>\n",
       "    <tr>\n",
       "      <th>1</th>\n",
       "      <td>92</td>\n",
       "      <td>93</td>\n",
       "      <td>93</td>\n",
       "    </tr>\n",
       "    <tr>\n",
       "      <th>2</th>\n",
       "      <td>98</td>\n",
       "      <td>98</td>\n",
       "      <td>94</td>\n",
       "    </tr>\n",
       "    <tr>\n",
       "      <th>3</th>\n",
       "      <td>100</td>\n",
       "      <td>100</td>\n",
       "      <td>91</td>\n",
       "    </tr>\n",
       "  </tbody>\n",
       "</table>\n",
       "</div>"
      ],
      "text/plain": [
       "   Class1  Class2  Class3\n",
       "0      95      91      92\n",
       "1      92      93      93\n",
       "2      98      98      94\n",
       "3     100     100      91"
      ]
     },
     "execution_count": 132,
     "metadata": {},
     "output_type": "execute_result"
    }
   ],
   "source": [
    "df1.join(df4) #주의해야할 점 : class3의 99점 사라짐. 짧은 쪽으로 통합이 됨."
   ]
  },
  {
   "cell_type": "code",
   "execution_count": 133,
   "metadata": {},
   "outputs": [
    {
     "data": {
      "text/html": [
       "<div>\n",
       "<style scoped>\n",
       "    .dataframe tbody tr th:only-of-type {\n",
       "        vertical-align: middle;\n",
       "    }\n",
       "\n",
       "    .dataframe tbody tr th {\n",
       "        vertical-align: top;\n",
       "    }\n",
       "\n",
       "    .dataframe thead th {\n",
       "        text-align: right;\n",
       "    }\n",
       "</style>\n",
       "<table border=\"1\" class=\"dataframe\">\n",
       "  <thead>\n",
       "    <tr style=\"text-align: right;\">\n",
       "      <th></th>\n",
       "      <th>Class1</th>\n",
       "      <th>Class2</th>\n",
       "      <th>Class3</th>\n",
       "    </tr>\n",
       "  </thead>\n",
       "  <tbody>\n",
       "    <tr>\n",
       "      <th>0</th>\n",
       "      <td>95.0</td>\n",
       "      <td>91.0</td>\n",
       "      <td>92</td>\n",
       "    </tr>\n",
       "    <tr>\n",
       "      <th>1</th>\n",
       "      <td>92.0</td>\n",
       "      <td>93.0</td>\n",
       "      <td>93</td>\n",
       "    </tr>\n",
       "    <tr>\n",
       "      <th>2</th>\n",
       "      <td>98.0</td>\n",
       "      <td>98.0</td>\n",
       "      <td>94</td>\n",
       "    </tr>\n",
       "    <tr>\n",
       "      <th>3</th>\n",
       "      <td>100.0</td>\n",
       "      <td>100.0</td>\n",
       "      <td>91</td>\n",
       "    </tr>\n",
       "    <tr>\n",
       "      <th>4</th>\n",
       "      <td>NaN</td>\n",
       "      <td>NaN</td>\n",
       "      <td>99</td>\n",
       "    </tr>\n",
       "  </tbody>\n",
       "</table>\n",
       "</div>"
      ],
      "text/plain": [
       "   Class1  Class2  Class3\n",
       "0    95.0    91.0      92\n",
       "1    92.0    93.0      93\n",
       "2    98.0    98.0      94\n",
       "3   100.0   100.0      91\n",
       "4     NaN     NaN      99"
      ]
     },
     "execution_count": 133,
     "metadata": {},
     "output_type": "execute_result"
    }
   ],
   "source": [
    "df1.join(df4, how='outer') #default가 how='inner'이기 때문 # how에 'left','right'도 있다. 알아두자."
   ]
  },
  {
   "cell_type": "code",
   "execution_count": 134,
   "metadata": {},
   "outputs": [
    {
     "data": {
      "text/html": [
       "<div>\n",
       "<style scoped>\n",
       "    .dataframe tbody tr th:only-of-type {\n",
       "        vertical-align: middle;\n",
       "    }\n",
       "\n",
       "    .dataframe tbody tr th {\n",
       "        vertical-align: top;\n",
       "    }\n",
       "\n",
       "    .dataframe thead th {\n",
       "        text-align: right;\n",
       "    }\n",
       "</style>\n",
       "<table border=\"1\" class=\"dataframe\">\n",
       "  <thead>\n",
       "    <tr style=\"text-align: right;\">\n",
       "      <th></th>\n",
       "      <th>판매월</th>\n",
       "      <th>제품A</th>\n",
       "      <th>제품B</th>\n",
       "    </tr>\n",
       "  </thead>\n",
       "  <tbody>\n",
       "    <tr>\n",
       "      <th>0</th>\n",
       "      <td>1월</td>\n",
       "      <td>54</td>\n",
       "      <td>82</td>\n",
       "    </tr>\n",
       "    <tr>\n",
       "      <th>1</th>\n",
       "      <td>2월</td>\n",
       "      <td>88</td>\n",
       "      <td>97</td>\n",
       "    </tr>\n",
       "    <tr>\n",
       "      <th>2</th>\n",
       "      <td>3월</td>\n",
       "      <td>87</td>\n",
       "      <td>55</td>\n",
       "    </tr>\n",
       "    <tr>\n",
       "      <th>3</th>\n",
       "      <td>4월</td>\n",
       "      <td>54</td>\n",
       "      <td>63</td>\n",
       "    </tr>\n",
       "  </tbody>\n",
       "</table>\n",
       "</div>"
      ],
      "text/plain": [
       "  판매월  제품A  제품B\n",
       "0  1월   54   82\n",
       "1  2월   88   97\n",
       "2  3월   87   55\n",
       "3  4월   54   63"
      ]
     },
     "execution_count": 134,
     "metadata": {},
     "output_type": "execute_result"
    }
   ],
   "source": [
    "\n",
    "import random\n",
    "month_list = [str(i)+'월' for i in range(1,5)]\n",
    "\n",
    "prod_A, prod_B, prod_C, prod_D = [np.random.randint(50, 100, size=4) for i in range(4)]\n",
    "\n",
    "\n",
    "df_A_B = pd.DataFrame({'판매월': month_list, \n",
    "                       '제품A': prod_A,\n",
    "                       '제품B': prod_B})\n",
    "df_A_B"
   ]
  },
  {
   "cell_type": "code",
   "execution_count": 135,
   "metadata": {},
   "outputs": [
    {
     "data": {
      "text/html": [
       "<div>\n",
       "<style scoped>\n",
       "    .dataframe tbody tr th:only-of-type {\n",
       "        vertical-align: middle;\n",
       "    }\n",
       "\n",
       "    .dataframe tbody tr th {\n",
       "        vertical-align: top;\n",
       "    }\n",
       "\n",
       "    .dataframe thead th {\n",
       "        text-align: right;\n",
       "    }\n",
       "</style>\n",
       "<table border=\"1\" class=\"dataframe\">\n",
       "  <thead>\n",
       "    <tr style=\"text-align: right;\">\n",
       "      <th></th>\n",
       "      <th>판매월</th>\n",
       "      <th>제품C</th>\n",
       "      <th>제품D</th>\n",
       "    </tr>\n",
       "  </thead>\n",
       "  <tbody>\n",
       "    <tr>\n",
       "      <th>0</th>\n",
       "      <td>1월</td>\n",
       "      <td>57</td>\n",
       "      <td>80</td>\n",
       "    </tr>\n",
       "    <tr>\n",
       "      <th>1</th>\n",
       "      <td>2월</td>\n",
       "      <td>97</td>\n",
       "      <td>97</td>\n",
       "    </tr>\n",
       "    <tr>\n",
       "      <th>2</th>\n",
       "      <td>3월</td>\n",
       "      <td>76</td>\n",
       "      <td>91</td>\n",
       "    </tr>\n",
       "    <tr>\n",
       "      <th>3</th>\n",
       "      <td>4월</td>\n",
       "      <td>85</td>\n",
       "      <td>88</td>\n",
       "    </tr>\n",
       "  </tbody>\n",
       "</table>\n",
       "</div>"
      ],
      "text/plain": [
       "  판매월  제품C  제품D\n",
       "0  1월   57   80\n",
       "1  2월   97   97\n",
       "2  3월   76   91\n",
       "3  4월   85   88"
      ]
     },
     "execution_count": 135,
     "metadata": {},
     "output_type": "execute_result"
    }
   ],
   "source": [
    "df_C_D = pd.DataFrame({'판매월': month_list,\n",
    "                       '제품C': prod_C,\n",
    "                       '제품D': prod_D})\n",
    "df_C_D"
   ]
  },
  {
   "cell_type": "code",
   "execution_count": 136,
   "metadata": {},
   "outputs": [
    {
     "data": {
      "text/html": [
       "<div>\n",
       "<style scoped>\n",
       "    .dataframe tbody tr th:only-of-type {\n",
       "        vertical-align: middle;\n",
       "    }\n",
       "\n",
       "    .dataframe tbody tr th {\n",
       "        vertical-align: top;\n",
       "    }\n",
       "\n",
       "    .dataframe thead th {\n",
       "        text-align: right;\n",
       "    }\n",
       "</style>\n",
       "<table border=\"1\" class=\"dataframe\">\n",
       "  <thead>\n",
       "    <tr style=\"text-align: right;\">\n",
       "      <th></th>\n",
       "      <th>판매월</th>\n",
       "      <th>제품A</th>\n",
       "      <th>제품B</th>\n",
       "      <th>제품C</th>\n",
       "      <th>제품D</th>\n",
       "    </tr>\n",
       "  </thead>\n",
       "  <tbody>\n",
       "    <tr>\n",
       "      <th>0</th>\n",
       "      <td>1월</td>\n",
       "      <td>54</td>\n",
       "      <td>82</td>\n",
       "      <td>57</td>\n",
       "      <td>80</td>\n",
       "    </tr>\n",
       "    <tr>\n",
       "      <th>1</th>\n",
       "      <td>2월</td>\n",
       "      <td>88</td>\n",
       "      <td>97</td>\n",
       "      <td>97</td>\n",
       "      <td>97</td>\n",
       "    </tr>\n",
       "    <tr>\n",
       "      <th>2</th>\n",
       "      <td>3월</td>\n",
       "      <td>87</td>\n",
       "      <td>55</td>\n",
       "      <td>76</td>\n",
       "      <td>91</td>\n",
       "    </tr>\n",
       "    <tr>\n",
       "      <th>3</th>\n",
       "      <td>4월</td>\n",
       "      <td>54</td>\n",
       "      <td>63</td>\n",
       "      <td>85</td>\n",
       "      <td>88</td>\n",
       "    </tr>\n",
       "  </tbody>\n",
       "</table>\n",
       "</div>"
      ],
      "text/plain": [
       "  판매월  제품A  제품B  제품C  제품D\n",
       "0  1월   54   82   57   80\n",
       "1  2월   88   97   97   97\n",
       "2  3월   87   55   76   91\n",
       "3  4월   54   63   85   88"
      ]
     },
     "execution_count": 136,
     "metadata": {},
     "output_type": "execute_result"
    }
   ],
   "source": [
    "df_A_B.merge(df_C_D)"
   ]
  },
  {
   "cell_type": "code",
   "execution_count": 137,
   "metadata": {},
   "outputs": [
    {
     "data": {
      "text/html": [
       "<div>\n",
       "<style scoped>\n",
       "    .dataframe tbody tr th:only-of-type {\n",
       "        vertical-align: middle;\n",
       "    }\n",
       "\n",
       "    .dataframe tbody tr th {\n",
       "        vertical-align: top;\n",
       "    }\n",
       "\n",
       "    .dataframe thead th {\n",
       "        text-align: right;\n",
       "    }\n",
       "</style>\n",
       "<table border=\"1\" class=\"dataframe\">\n",
       "  <thead>\n",
       "    <tr style=\"text-align: right;\">\n",
       "      <th></th>\n",
       "      <th>판매월</th>\n",
       "      <th>제품E</th>\n",
       "      <th>제품F</th>\n",
       "    </tr>\n",
       "  </thead>\n",
       "  <tbody>\n",
       "    <tr>\n",
       "      <th>0</th>\n",
       "      <td>3월</td>\n",
       "      <td>91</td>\n",
       "      <td>87</td>\n",
       "    </tr>\n",
       "    <tr>\n",
       "      <th>1</th>\n",
       "      <td>4월</td>\n",
       "      <td>51</td>\n",
       "      <td>98</td>\n",
       "    </tr>\n",
       "    <tr>\n",
       "      <th>2</th>\n",
       "      <td>5월</td>\n",
       "      <td>89</td>\n",
       "      <td>50</td>\n",
       "    </tr>\n",
       "    <tr>\n",
       "      <th>3</th>\n",
       "      <td>6월</td>\n",
       "      <td>60</td>\n",
       "      <td>71</td>\n",
       "    </tr>\n",
       "  </tbody>\n",
       "</table>\n",
       "</div>"
      ],
      "text/plain": [
       "  판매월  제품E  제품F\n",
       "0  3월   91   87\n",
       "1  4월   51   98\n",
       "2  5월   89   50\n",
       "3  6월   60   71"
      ]
     },
     "execution_count": 137,
     "metadata": {},
     "output_type": "execute_result"
    }
   ],
   "source": [
    "prod_E, prod_F = [np.random.randint(50, 100, size=4) for i in range(2)]\n",
    "df_E_F = pd.DataFrame({'판매월': ['3월', '4월', '5월', '6월'],\n",
    "                       '제품E': prod_E,\n",
    "                       '제품F': prod_F})\n",
    "df_E_F"
   ]
  },
  {
   "cell_type": "code",
   "execution_count": 138,
   "metadata": {},
   "outputs": [
    {
     "data": {
      "text/html": [
       "<div>\n",
       "<style scoped>\n",
       "    .dataframe tbody tr th:only-of-type {\n",
       "        vertical-align: middle;\n",
       "    }\n",
       "\n",
       "    .dataframe tbody tr th {\n",
       "        vertical-align: top;\n",
       "    }\n",
       "\n",
       "    .dataframe thead th {\n",
       "        text-align: right;\n",
       "    }\n",
       "</style>\n",
       "<table border=\"1\" class=\"dataframe\">\n",
       "  <thead>\n",
       "    <tr style=\"text-align: right;\">\n",
       "      <th></th>\n",
       "      <th>판매월</th>\n",
       "      <th>제품A</th>\n",
       "      <th>제품B</th>\n",
       "      <th>제품E</th>\n",
       "      <th>제품F</th>\n",
       "    </tr>\n",
       "  </thead>\n",
       "  <tbody>\n",
       "    <tr>\n",
       "      <th>0</th>\n",
       "      <td>1월</td>\n",
       "      <td>54</td>\n",
       "      <td>82</td>\n",
       "      <td>NaN</td>\n",
       "      <td>NaN</td>\n",
       "    </tr>\n",
       "    <tr>\n",
       "      <th>1</th>\n",
       "      <td>2월</td>\n",
       "      <td>88</td>\n",
       "      <td>97</td>\n",
       "      <td>NaN</td>\n",
       "      <td>NaN</td>\n",
       "    </tr>\n",
       "    <tr>\n",
       "      <th>2</th>\n",
       "      <td>3월</td>\n",
       "      <td>87</td>\n",
       "      <td>55</td>\n",
       "      <td>91.0</td>\n",
       "      <td>87.0</td>\n",
       "    </tr>\n",
       "    <tr>\n",
       "      <th>3</th>\n",
       "      <td>4월</td>\n",
       "      <td>54</td>\n",
       "      <td>63</td>\n",
       "      <td>51.0</td>\n",
       "      <td>98.0</td>\n",
       "    </tr>\n",
       "  </tbody>\n",
       "</table>\n",
       "</div>"
      ],
      "text/plain": [
       "  판매월  제품A  제품B   제품E   제품F\n",
       "0  1월   54   82   NaN   NaN\n",
       "1  2월   88   97   NaN   NaN\n",
       "2  3월   87   55  91.0  87.0\n",
       "3  4월   54   63  51.0  98.0"
      ]
     },
     "execution_count": 138,
     "metadata": {},
     "output_type": "execute_result"
    }
   ],
   "source": [
    "df_A_B.merge(df_E_F, how='left')"
   ]
  },
  {
   "cell_type": "code",
   "execution_count": 139,
   "metadata": {},
   "outputs": [
    {
     "data": {
      "text/html": [
       "<div>\n",
       "<style scoped>\n",
       "    .dataframe tbody tr th:only-of-type {\n",
       "        vertical-align: middle;\n",
       "    }\n",
       "\n",
       "    .dataframe tbody tr th {\n",
       "        vertical-align: top;\n",
       "    }\n",
       "\n",
       "    .dataframe thead th {\n",
       "        text-align: right;\n",
       "    }\n",
       "</style>\n",
       "<table border=\"1\" class=\"dataframe\">\n",
       "  <thead>\n",
       "    <tr style=\"text-align: right;\">\n",
       "      <th></th>\n",
       "      <th>판매월</th>\n",
       "      <th>제품A</th>\n",
       "      <th>제품B</th>\n",
       "      <th>제품E</th>\n",
       "      <th>제품F</th>\n",
       "    </tr>\n",
       "  </thead>\n",
       "  <tbody>\n",
       "    <tr>\n",
       "      <th>0</th>\n",
       "      <td>3월</td>\n",
       "      <td>87.0</td>\n",
       "      <td>55.0</td>\n",
       "      <td>91</td>\n",
       "      <td>87</td>\n",
       "    </tr>\n",
       "    <tr>\n",
       "      <th>1</th>\n",
       "      <td>4월</td>\n",
       "      <td>54.0</td>\n",
       "      <td>63.0</td>\n",
       "      <td>51</td>\n",
       "      <td>98</td>\n",
       "    </tr>\n",
       "    <tr>\n",
       "      <th>2</th>\n",
       "      <td>5월</td>\n",
       "      <td>NaN</td>\n",
       "      <td>NaN</td>\n",
       "      <td>89</td>\n",
       "      <td>50</td>\n",
       "    </tr>\n",
       "    <tr>\n",
       "      <th>3</th>\n",
       "      <td>6월</td>\n",
       "      <td>NaN</td>\n",
       "      <td>NaN</td>\n",
       "      <td>60</td>\n",
       "      <td>71</td>\n",
       "    </tr>\n",
       "  </tbody>\n",
       "</table>\n",
       "</div>"
      ],
      "text/plain": [
       "  판매월   제품A   제품B  제품E  제품F\n",
       "0  3월  87.0  55.0   91   87\n",
       "1  4월  54.0  63.0   51   98\n",
       "2  5월   NaN   NaN   89   50\n",
       "3  6월   NaN   NaN   60   71"
      ]
     },
     "execution_count": 139,
     "metadata": {},
     "output_type": "execute_result"
    }
   ],
   "source": [
    "df_A_B.merge(df_E_F, how='right')"
   ]
  },
  {
   "cell_type": "code",
   "execution_count": 140,
   "metadata": {},
   "outputs": [
    {
     "data": {
      "text/html": [
       "<div>\n",
       "<style scoped>\n",
       "    .dataframe tbody tr th:only-of-type {\n",
       "        vertical-align: middle;\n",
       "    }\n",
       "\n",
       "    .dataframe tbody tr th {\n",
       "        vertical-align: top;\n",
       "    }\n",
       "\n",
       "    .dataframe thead th {\n",
       "        text-align: right;\n",
       "    }\n",
       "</style>\n",
       "<table border=\"1\" class=\"dataframe\">\n",
       "  <thead>\n",
       "    <tr style=\"text-align: right;\">\n",
       "      <th></th>\n",
       "      <th>판매월</th>\n",
       "      <th>제품A</th>\n",
       "      <th>제품B</th>\n",
       "      <th>제품E</th>\n",
       "      <th>제품F</th>\n",
       "    </tr>\n",
       "  </thead>\n",
       "  <tbody>\n",
       "    <tr>\n",
       "      <th>0</th>\n",
       "      <td>3월</td>\n",
       "      <td>87</td>\n",
       "      <td>55</td>\n",
       "      <td>91</td>\n",
       "      <td>87</td>\n",
       "    </tr>\n",
       "    <tr>\n",
       "      <th>1</th>\n",
       "      <td>4월</td>\n",
       "      <td>54</td>\n",
       "      <td>63</td>\n",
       "      <td>51</td>\n",
       "      <td>98</td>\n",
       "    </tr>\n",
       "  </tbody>\n",
       "</table>\n",
       "</div>"
      ],
      "text/plain": [
       "  판매월  제품A  제품B  제품E  제품F\n",
       "0  3월   87   55   91   87\n",
       "1  4월   54   63   51   98"
      ]
     },
     "execution_count": 140,
     "metadata": {},
     "output_type": "execute_result"
    }
   ],
   "source": [
    "df_A_B.merge(df_E_F, how='inner')"
   ]
  },
  {
   "cell_type": "code",
   "execution_count": 141,
   "metadata": {},
   "outputs": [
    {
     "data": {
      "text/html": [
       "<div>\n",
       "<style scoped>\n",
       "    .dataframe tbody tr th:only-of-type {\n",
       "        vertical-align: middle;\n",
       "    }\n",
       "\n",
       "    .dataframe tbody tr th {\n",
       "        vertical-align: top;\n",
       "    }\n",
       "\n",
       "    .dataframe thead th {\n",
       "        text-align: right;\n",
       "    }\n",
       "</style>\n",
       "<table border=\"1\" class=\"dataframe\">\n",
       "  <thead>\n",
       "    <tr style=\"text-align: right;\">\n",
       "      <th></th>\n",
       "      <th>판매월</th>\n",
       "      <th>제품A</th>\n",
       "      <th>제품B</th>\n",
       "      <th>제품E</th>\n",
       "      <th>제품F</th>\n",
       "    </tr>\n",
       "  </thead>\n",
       "  <tbody>\n",
       "    <tr>\n",
       "      <th>0</th>\n",
       "      <td>1월</td>\n",
       "      <td>54.0</td>\n",
       "      <td>82.0</td>\n",
       "      <td>NaN</td>\n",
       "      <td>NaN</td>\n",
       "    </tr>\n",
       "    <tr>\n",
       "      <th>1</th>\n",
       "      <td>2월</td>\n",
       "      <td>88.0</td>\n",
       "      <td>97.0</td>\n",
       "      <td>NaN</td>\n",
       "      <td>NaN</td>\n",
       "    </tr>\n",
       "    <tr>\n",
       "      <th>2</th>\n",
       "      <td>3월</td>\n",
       "      <td>87.0</td>\n",
       "      <td>55.0</td>\n",
       "      <td>91.0</td>\n",
       "      <td>87.0</td>\n",
       "    </tr>\n",
       "    <tr>\n",
       "      <th>3</th>\n",
       "      <td>4월</td>\n",
       "      <td>54.0</td>\n",
       "      <td>63.0</td>\n",
       "      <td>51.0</td>\n",
       "      <td>98.0</td>\n",
       "    </tr>\n",
       "    <tr>\n",
       "      <th>4</th>\n",
       "      <td>5월</td>\n",
       "      <td>NaN</td>\n",
       "      <td>NaN</td>\n",
       "      <td>89.0</td>\n",
       "      <td>50.0</td>\n",
       "    </tr>\n",
       "    <tr>\n",
       "      <th>5</th>\n",
       "      <td>6월</td>\n",
       "      <td>NaN</td>\n",
       "      <td>NaN</td>\n",
       "      <td>60.0</td>\n",
       "      <td>71.0</td>\n",
       "    </tr>\n",
       "  </tbody>\n",
       "</table>\n",
       "</div>"
      ],
      "text/plain": [
       "  판매월   제품A   제품B   제품E   제품F\n",
       "0  1월  54.0  82.0   NaN   NaN\n",
       "1  2월  88.0  97.0   NaN   NaN\n",
       "2  3월  87.0  55.0  91.0  87.0\n",
       "3  4월  54.0  63.0  51.0  98.0\n",
       "4  5월   NaN   NaN  89.0  50.0\n",
       "5  6월   NaN   NaN  60.0  71.0"
      ]
     },
     "execution_count": 141,
     "metadata": {},
     "output_type": "execute_result"
    }
   ],
   "source": [
    "df_A_B.merge(df_E_F, how='outer')"
   ]
  },
  {
   "cell_type": "code",
   "execution_count": 142,
   "metadata": {},
   "outputs": [
    {
     "data": {
      "text/html": [
       "<div>\n",
       "<style scoped>\n",
       "    .dataframe tbody tr th:only-of-type {\n",
       "        vertical-align: middle;\n",
       "    }\n",
       "\n",
       "    .dataframe tbody tr th {\n",
       "        vertical-align: top;\n",
       "    }\n",
       "\n",
       "    .dataframe thead th {\n",
       "        text-align: right;\n",
       "    }\n",
       "</style>\n",
       "<table border=\"1\" class=\"dataframe\">\n",
       "  <thead>\n",
       "    <tr style=\"text-align: right;\">\n",
       "      <th></th>\n",
       "      <th>판매월</th>\n",
       "      <th>제품A</th>\n",
       "      <th>제품B</th>\n",
       "      <th>제품E</th>\n",
       "      <th>제품F</th>\n",
       "    </tr>\n",
       "  </thead>\n",
       "  <tbody>\n",
       "    <tr>\n",
       "      <th>0</th>\n",
       "      <td>1월</td>\n",
       "      <td>54.0</td>\n",
       "      <td>82.0</td>\n",
       "      <td>NaN</td>\n",
       "      <td>NaN</td>\n",
       "    </tr>\n",
       "    <tr>\n",
       "      <th>1</th>\n",
       "      <td>2월</td>\n",
       "      <td>88.0</td>\n",
       "      <td>97.0</td>\n",
       "      <td>NaN</td>\n",
       "      <td>NaN</td>\n",
       "    </tr>\n",
       "    <tr>\n",
       "      <th>2</th>\n",
       "      <td>3월</td>\n",
       "      <td>87.0</td>\n",
       "      <td>55.0</td>\n",
       "      <td>91.0</td>\n",
       "      <td>87.0</td>\n",
       "    </tr>\n",
       "    <tr>\n",
       "      <th>3</th>\n",
       "      <td>4월</td>\n",
       "      <td>54.0</td>\n",
       "      <td>63.0</td>\n",
       "      <td>51.0</td>\n",
       "      <td>98.0</td>\n",
       "    </tr>\n",
       "    <tr>\n",
       "      <th>4</th>\n",
       "      <td>5월</td>\n",
       "      <td>NaN</td>\n",
       "      <td>NaN</td>\n",
       "      <td>89.0</td>\n",
       "      <td>50.0</td>\n",
       "    </tr>\n",
       "    <tr>\n",
       "      <th>5</th>\n",
       "      <td>6월</td>\n",
       "      <td>NaN</td>\n",
       "      <td>NaN</td>\n",
       "      <td>60.0</td>\n",
       "      <td>71.0</td>\n",
       "    </tr>\n",
       "  </tbody>\n",
       "</table>\n",
       "</div>"
      ],
      "text/plain": [
       "  판매월   제품A   제품B   제품E   제품F\n",
       "0  1월  54.0  82.0   NaN   NaN\n",
       "1  2월  88.0  97.0   NaN   NaN\n",
       "2  3월  87.0  55.0  91.0  87.0\n",
       "3  4월  54.0  63.0  51.0  98.0\n",
       "4  5월   NaN   NaN  89.0  50.0\n",
       "5  6월   NaN   NaN  60.0  71.0"
      ]
     },
     "execution_count": 142,
     "metadata": {},
     "output_type": "execute_result"
    }
   ],
   "source": [
    "df_A_B.merge(df_E_F, how='outer', on=\"판매월\")"
   ]
  },
  {
   "cell_type": "code",
   "execution_count": 143,
   "metadata": {},
   "outputs": [
    {
     "data": {
      "text/html": [
       "<div>\n",
       "<style scoped>\n",
       "    .dataframe tbody tr th:only-of-type {\n",
       "        vertical-align: middle;\n",
       "    }\n",
       "\n",
       "    .dataframe tbody tr th {\n",
       "        vertical-align: top;\n",
       "    }\n",
       "\n",
       "    .dataframe thead th {\n",
       "        text-align: right;\n",
       "    }\n",
       "</style>\n",
       "<table border=\"1\" class=\"dataframe\">\n",
       "  <thead>\n",
       "    <tr style=\"text-align: right;\">\n",
       "      <th></th>\n",
       "      <th>판매월</th>\n",
       "      <th>제품A</th>\n",
       "      <th>제품B</th>\n",
       "      <th>제품E</th>\n",
       "      <th>제품F</th>\n",
       "    </tr>\n",
       "  </thead>\n",
       "  <tbody>\n",
       "    <tr>\n",
       "      <th>0</th>\n",
       "      <td>1월</td>\n",
       "      <td>54.0</td>\n",
       "      <td>82.0</td>\n",
       "      <td>NaN</td>\n",
       "      <td>NaN</td>\n",
       "    </tr>\n",
       "    <tr>\n",
       "      <th>1</th>\n",
       "      <td>2월</td>\n",
       "      <td>88.0</td>\n",
       "      <td>97.0</td>\n",
       "      <td>NaN</td>\n",
       "      <td>NaN</td>\n",
       "    </tr>\n",
       "    <tr>\n",
       "      <th>2</th>\n",
       "      <td>3월</td>\n",
       "      <td>87.0</td>\n",
       "      <td>55.0</td>\n",
       "      <td>91.0</td>\n",
       "      <td>87.0</td>\n",
       "    </tr>\n",
       "    <tr>\n",
       "      <th>3</th>\n",
       "      <td>4월</td>\n",
       "      <td>54.0</td>\n",
       "      <td>63.0</td>\n",
       "      <td>51.0</td>\n",
       "      <td>98.0</td>\n",
       "    </tr>\n",
       "    <tr>\n",
       "      <th>4</th>\n",
       "      <td>5월</td>\n",
       "      <td>NaN</td>\n",
       "      <td>NaN</td>\n",
       "      <td>89.0</td>\n",
       "      <td>50.0</td>\n",
       "    </tr>\n",
       "    <tr>\n",
       "      <th>5</th>\n",
       "      <td>6월</td>\n",
       "      <td>NaN</td>\n",
       "      <td>NaN</td>\n",
       "      <td>60.0</td>\n",
       "      <td>71.0</td>\n",
       "    </tr>\n",
       "  </tbody>\n",
       "</table>\n",
       "</div>"
      ],
      "text/plain": [
       "  판매월   제품A   제품B   제품E   제품F\n",
       "0  1월  54.0  82.0   NaN   NaN\n",
       "1  2월  88.0  97.0   NaN   NaN\n",
       "2  3월  87.0  55.0  91.0  87.0\n",
       "3  4월  54.0  63.0  51.0  98.0\n",
       "4  5월   NaN   NaN  89.0  50.0\n",
       "5  6월   NaN   NaN  60.0  71.0"
      ]
     },
     "execution_count": 143,
     "metadata": {},
     "output_type": "execute_result"
    }
   ],
   "source": [
    "df_A_B.merge(df_E_F, how='outer', on='판매월')"
   ]
  },
  {
   "cell_type": "markdown",
   "metadata": {},
   "source": [
    "# 데이터 파일 읽고 쓰기"
   ]
  },
  {
   "cell_type": "code",
   "execution_count": 157,
   "metadata": {},
   "outputs": [
    {
     "name": "stdout",
     "output_type": "stream",
     "text": [
      "C:\\Users\\Funzo\\python gicho\n",
      "C:\\Users\\Funzo\\python gicho\\datasets\\201904\n"
     ]
    }
   ],
   "source": [
    "import os\n",
    "BASE_DIR = os.getcwd()\n",
    "DATASET_PATH = os.path.join(BASE_DIR, \"datasets\\\\201904\")\n",
    "print(BASE_DIR)\n",
    "print(DATASET_PATH)"
   ]
  },
  {
   "cell_type": "code",
   "execution_count": 178,
   "metadata": {},
   "outputs": [
    {
     "name": "stderr",
     "output_type": "stream",
     "text": [
      "b'Skipping line 18081: expected 8 fields, saw 11\\n'\n"
     ]
    },
    {
     "data": {
      "text/html": [
       "<div>\n",
       "<style scoped>\n",
       "    .dataframe tbody tr th:only-of-type {\n",
       "        vertical-align: middle;\n",
       "    }\n",
       "\n",
       "    .dataframe tbody tr th {\n",
       "        vertical-align: top;\n",
       "    }\n",
       "\n",
       "    .dataframe thead th {\n",
       "        text-align: right;\n",
       "    }\n",
       "</style>\n",
       "<table border=\"1\" class=\"dataframe\">\n",
       "  <thead>\n",
       "    <tr style=\"text-align: right;\">\n",
       "      <th></th>\n",
       "      <th>0</th>\n",
       "      <th>1</th>\n",
       "      <th>2</th>\n",
       "      <th>3</th>\n",
       "      <th>4</th>\n",
       "      <th>5</th>\n",
       "      <th>6</th>\n",
       "      <th>7</th>\n",
       "    </tr>\n",
       "  </thead>\n",
       "  <tbody>\n",
       "    <tr>\n",
       "      <th>0</th>\n",
       "      <td>2019-04-30</td>\n",
       "      <td>1545587997</td>\n",
       "      <td>C013010</td>\n",
       "      <td>점퍼</td>\n",
       "      <td>캘빈클라인진 19SS 신상 여성 항공점퍼 J211287</td>\n",
       "      <td>99500</td>\n",
       "      <td>NaN</td>\n",
       "      <td>NaN</td>\n",
       "    </tr>\n",
       "    <tr>\n",
       "      <th>1</th>\n",
       "      <td>2019-04-30</td>\n",
       "      <td>147567876</td>\n",
       "      <td>C013020</td>\n",
       "      <td>티셔츠</td>\n",
       "      <td>[모다아울렛][티엔지티]그레이 라운드넥 면 긴팔티셔츠TGTS9A103G2</td>\n",
       "      <td>55200</td>\n",
       "      <td>NaN</td>\n",
       "      <td>NaN</td>\n",
       "    </tr>\n",
       "    <tr>\n",
       "      <th>2</th>\n",
       "      <td>2019-04-30</td>\n",
       "      <td>897756527</td>\n",
       "      <td>A011060</td>\n",
       "      <td>땅콩</td>\n",
       "      <td>간단한 맥주안주 마른 군것질 견과 꿀땅콩 453g 간단</td>\n",
       "      <td>10970</td>\n",
       "      <td>NaN</td>\n",
       "      <td>NaN</td>\n",
       "    </tr>\n",
       "    <tr>\n",
       "      <th>3</th>\n",
       "      <td>2019-04-30</td>\n",
       "      <td>410494691</td>\n",
       "      <td>A019050</td>\n",
       "      <td>간장</td>\n",
       "      <td>간장(진 사조 옹가네 1.8L)X8 간장 진간장 식자재 업</td>\n",
       "      <td>36870</td>\n",
       "      <td>NaN</td>\n",
       "      <td>NaN</td>\n",
       "    </tr>\n",
       "    <tr>\n",
       "      <th>4</th>\n",
       "      <td>2019-04-30</td>\n",
       "      <td>223173815</td>\n",
       "      <td>C011020</td>\n",
       "      <td>남자상의</td>\n",
       "      <td>(색상 : 곤색 | 사이즈 : XL) FSSF18036 선염체크 버튼다운 남방 남자...</td>\n",
       "      <td>41070</td>\n",
       "      <td>NaN</td>\n",
       "      <td>NaN</td>\n",
       "    </tr>\n",
       "    <tr>\n",
       "      <th>5</th>\n",
       "      <td>2019-04-30</td>\n",
       "      <td>1173935366</td>\n",
       "      <td>A019180</td>\n",
       "      <td>즉석식품</td>\n",
       "      <td>(냉동)금호 쌀떡꼬치900g(10p)x15개(1box) 쌀떡꼬치 튀김류 떡꼬치 가공...</td>\n",
       "      <td>89160</td>\n",
       "      <td>NaN</td>\n",
       "      <td>NaN</td>\n",
       "    </tr>\n",
       "    <tr>\n",
       "      <th>6</th>\n",
       "      <td>2019-04-30</td>\n",
       "      <td>1476779724</td>\n",
       "      <td>C012050</td>\n",
       "      <td>여자하의</td>\n",
       "      <td>[빨질레리] 애쉬 울 블렌드 시어서커 셋업 팬츠 (PC9121UA14)</td>\n",
       "      <td>181300</td>\n",
       "      <td>NaN</td>\n",
       "      <td>NaN</td>\n",
       "    </tr>\n",
       "    <tr>\n",
       "      <th>7</th>\n",
       "      <td>2019-04-30</td>\n",
       "      <td>1847125407</td>\n",
       "      <td>C014010</td>\n",
       "      <td>아동복</td>\n",
       "      <td>[압소바]라글랑화섬점퍼 AU3-53103</td>\n",
       "      <td>71200</td>\n",
       "      <td>NaN</td>\n",
       "      <td>NaN</td>\n",
       "    </tr>\n",
       "    <tr>\n",
       "      <th>8</th>\n",
       "      <td>2019-04-30</td>\n",
       "      <td>765016470</td>\n",
       "      <td>C012030</td>\n",
       "      <td>여자상의</td>\n",
       "      <td>[에스쏠레지아] 봄의 요정이 살포시 앉은 레이스와 프릴 블라우스_NC엑스코점</td>\n",
       "      <td>179000</td>\n",
       "      <td>NaN</td>\n",
       "      <td>NaN</td>\n",
       "    </tr>\n",
       "    <tr>\n",
       "      <th>9</th>\n",
       "      <td>2019-04-30</td>\n",
       "      <td>1093348192</td>\n",
       "      <td>E061060</td>\n",
       "      <td>살충제</td>\n",
       "      <td>[한국디비케이(주)] 킬파프 개미에어졸 뿌리는개미살충제 스프레이개미약</td>\n",
       "      <td>6350</td>\n",
       "      <td>NaN</td>\n",
       "      <td>NaN</td>\n",
       "    </tr>\n",
       "    <tr>\n",
       "      <th>10</th>\n",
       "      <td>2019-04-30</td>\n",
       "      <td>2116113448</td>\n",
       "      <td>C012050</td>\n",
       "      <td>여자하의</td>\n",
       "      <td>반에이크 ㄷ밑단커팅면바지 VA93DLM203Z</td>\n",
       "      <td>39800</td>\n",
       "      <td>NaN</td>\n",
       "      <td>NaN</td>\n",
       "    </tr>\n",
       "    <tr>\n",
       "      <th>11</th>\n",
       "      <td>2019-04-30</td>\n",
       "      <td>614125763</td>\n",
       "      <td>C013060</td>\n",
       "      <td>등산복</td>\n",
       "      <td>(옵션-사이즈 : K2 방한장갑 IMW12901-M) K2 방한장갑 IMW12901...</td>\n",
       "      <td>47000</td>\n",
       "      <td>NaN</td>\n",
       "      <td>NaN</td>\n",
       "    </tr>\n",
       "    <tr>\n",
       "      <th>12</th>\n",
       "      <td>2019-04-30</td>\n",
       "      <td>42902822</td>\n",
       "      <td>C011040</td>\n",
       "      <td>남자하의</td>\n",
       "      <td>[지오지아] 면혼방 프린트 하프팬츠 ABV2PH1105WT/ 지오지아</td>\n",
       "      <td>9000</td>\n",
       "      <td>NaN</td>\n",
       "      <td>NaN</td>\n",
       "    </tr>\n",
       "    <tr>\n",
       "      <th>13</th>\n",
       "      <td>2019-04-30</td>\n",
       "      <td>214930055</td>\n",
       "      <td>C013020</td>\n",
       "      <td>티셔츠</td>\n",
       "      <td>[세바스찬골프] 상하 반전 배색 스판 남성 카라넥 반팔티셔츠_243813</td>\n",
       "      <td>37905</td>\n",
       "      <td>37905.0</td>\n",
       "      <td>0.0</td>\n",
       "    </tr>\n",
       "    <tr>\n",
       "      <th>14</th>\n",
       "      <td>2019-04-30</td>\n",
       "      <td>384202521</td>\n",
       "      <td>I012050</td>\n",
       "      <td>컴퓨터소모품</td>\n",
       "      <td>[HP] 잉크 C8775WA (No.02/S라이트마젠타)</td>\n",
       "      <td>18000</td>\n",
       "      <td>18000.0</td>\n",
       "      <td>0.0</td>\n",
       "    </tr>\n",
       "    <tr>\n",
       "      <th>15</th>\n",
       "      <td>2019-04-30</td>\n",
       "      <td>1146020498</td>\n",
       "      <td>C013020</td>\n",
       "      <td>티셔츠</td>\n",
       "      <td>(옵션1 : 블랙-XL) 810 데일리 폴링 반폴라티 DGO3295 여성빅사이즈티셔...</td>\n",
       "      <td>23000</td>\n",
       "      <td>NaN</td>\n",
       "      <td>NaN</td>\n",
       "    </tr>\n",
       "    <tr>\n",
       "      <th>16</th>\n",
       "      <td>2019-04-30</td>\n",
       "      <td>355123645</td>\n",
       "      <td>C013020</td>\n",
       "      <td>티셔츠</td>\n",
       "      <td>흡한속건 소매 메쉬 여성 하프넥 반팔티셔츠/골프웨어_244317</td>\n",
       "      <td>43130</td>\n",
       "      <td>43130.0</td>\n",
       "      <td>0.0</td>\n",
       "    </tr>\n",
       "    <tr>\n",
       "      <th>17</th>\n",
       "      <td>2019-04-30</td>\n",
       "      <td>721037017</td>\n",
       "      <td>L012110</td>\n",
       "      <td>색조화장품</td>\n",
       "      <td>[MAC]맥 플렌티 오브 파우트 플럼핑 립스틱[갤러리아]</td>\n",
       "      <td>34000</td>\n",
       "      <td>NaN</td>\n",
       "      <td>NaN</td>\n",
       "    </tr>\n",
       "    <tr>\n",
       "      <th>18</th>\n",
       "      <td>2019-04-30</td>\n",
       "      <td>233236126</td>\n",
       "      <td>C014010</td>\n",
       "      <td>아동복</td>\n",
       "      <td>(색상 : 네이비5호) 아동원피스 벨트 원피스 KIDBOK-266 여아원피스 유아의...</td>\n",
       "      <td>20170</td>\n",
       "      <td>NaN</td>\n",
       "      <td>NaN</td>\n",
       "    </tr>\n",
       "    <tr>\n",
       "      <th>19</th>\n",
       "      <td>2019-04-30</td>\n",
       "      <td>1295113329</td>\n",
       "      <td>C011020</td>\n",
       "      <td>남자상의</td>\n",
       "      <td>[하프클럽/ZIOZIA](지오지아) 면혼방 체크 드레스셔츠 ABV1WC1103YE</td>\n",
       "      <td>6000</td>\n",
       "      <td>NaN</td>\n",
       "      <td>NaN</td>\n",
       "    </tr>\n",
       "    <tr>\n",
       "      <th>20</th>\n",
       "      <td>2019-04-30</td>\n",
       "      <td>1887159474</td>\n",
       "      <td>C012050</td>\n",
       "      <td>여자하의</td>\n",
       "      <td>[나이스크랍][AK구로점][나이스클랍] [18년 겨울]레오파드 스커트 N184PWKB99</td>\n",
       "      <td>219000</td>\n",
       "      <td>NaN</td>\n",
       "      <td>NaN</td>\n",
       "    </tr>\n",
       "    <tr>\n",
       "      <th>21</th>\n",
       "      <td>2019-04-30</td>\n",
       "      <td>619083649</td>\n",
       "      <td>C012050</td>\n",
       "      <td>여자하의</td>\n",
       "      <td>[반에이크]반에이크 블랙 베이직 큐롯팬츠 VA95SLQ304Z (VA95SLQ304Z)</td>\n",
       "      <td>39800</td>\n",
       "      <td>NaN</td>\n",
       "      <td>NaN</td>\n",
       "    </tr>\n",
       "    <tr>\n",
       "      <th>22</th>\n",
       "      <td>2019-04-30</td>\n",
       "      <td>2140496746</td>\n",
       "      <td>C013020</td>\n",
       "      <td>티셔츠</td>\n",
       "      <td>[파파브로]남자 국산 스판 카라 패턴 티셔츠 LM-A9-253-그레이</td>\n",
       "      <td>29800</td>\n",
       "      <td>NaN</td>\n",
       "      <td>NaN</td>\n",
       "    </tr>\n",
       "    <tr>\n",
       "      <th>23</th>\n",
       "      <td>2019-04-30</td>\n",
       "      <td>129170450</td>\n",
       "      <td>C014010</td>\n",
       "      <td>아동복</td>\n",
       "      <td>[오렌지앤] 라임향품은코트_S-2XL(OJK73267)</td>\n",
       "      <td>79200</td>\n",
       "      <td>NaN</td>\n",
       "      <td>NaN</td>\n",
       "    </tr>\n",
       "    <tr>\n",
       "      <th>24</th>\n",
       "      <td>2019-04-30</td>\n",
       "      <td>917251725</td>\n",
       "      <td>A021020</td>\n",
       "      <td>차</td>\n",
       "      <td>다미즐 제주 청귤차 1kg</td>\n",
       "      <td>7000</td>\n",
       "      <td>6820.0</td>\n",
       "      <td>-180.0</td>\n",
       "    </tr>\n",
       "    <tr>\n",
       "      <th>25</th>\n",
       "      <td>2019-04-30</td>\n",
       "      <td>1723482670</td>\n",
       "      <td>C021030</td>\n",
       "      <td>운동화</td>\n",
       "      <td>[나이키] (SIZE : 260) 에어 줌 페가수스 35(942851101) 런닝운...</td>\n",
       "      <td>153740</td>\n",
       "      <td>NaN</td>\n",
       "      <td>NaN</td>\n",
       "    </tr>\n",
       "    <tr>\n",
       "      <th>26</th>\n",
       "      <td>2019-04-30</td>\n",
       "      <td>343414417</td>\n",
       "      <td>C012010</td>\n",
       "      <td>여자외의</td>\n",
       "      <td>[하프클럽/매긴]양가죽숏라이더자켓MHDLJ101</td>\n",
       "      <td>198000</td>\n",
       "      <td>NaN</td>\n",
       "      <td>NaN</td>\n",
       "    </tr>\n",
       "    <tr>\n",
       "      <th>27</th>\n",
       "      <td>2019-04-30</td>\n",
       "      <td>1485277833</td>\n",
       "      <td>C012010</td>\n",
       "      <td>여자외의</td>\n",
       "      <td>[진도 Klever] 로얄 세이블 콤비 유색 밍크 코트(K2W3EC53_)</td>\n",
       "      <td>4590000</td>\n",
       "      <td>NaN</td>\n",
       "      <td>NaN</td>\n",
       "    </tr>\n",
       "    <tr>\n",
       "      <th>28</th>\n",
       "      <td>2019-04-30</td>\n",
       "      <td>287212559</td>\n",
       "      <td>C013020</td>\n",
       "      <td>티셔츠</td>\n",
       "      <td>(색상 : 다홍 | 사이즈 : 110(2XL)) MTSS18095 숄더앤 바스트 포...</td>\n",
       "      <td>36270</td>\n",
       "      <td>NaN</td>\n",
       "      <td>NaN</td>\n",
       "    </tr>\n",
       "    <tr>\n",
       "      <th>29</th>\n",
       "      <td>2019-04-30</td>\n",
       "      <td>1973646101</td>\n",
       "      <td>C013060</td>\n",
       "      <td>등산복</td>\n",
       "      <td>(옵션 : 105(2XL)) 랜더스 라이트 폴라폴리스 자켓(JK430W) 블루 폴라...</td>\n",
       "      <td>34140</td>\n",
       "      <td>NaN</td>\n",
       "      <td>NaN</td>\n",
       "    </tr>\n",
       "    <tr>\n",
       "      <th>...</th>\n",
       "      <td>...</td>\n",
       "      <td>...</td>\n",
       "      <td>...</td>\n",
       "      <td>...</td>\n",
       "      <td>...</td>\n",
       "      <td>...</td>\n",
       "      <td>...</td>\n",
       "      <td>...</td>\n",
       "    </tr>\n",
       "    <tr>\n",
       "      <th>298820</th>\n",
       "      <td>2019-04-30</td>\n",
       "      <td>1511051984</td>\n",
       "      <td>C013020</td>\n",
       "      <td>티셔츠</td>\n",
       "      <td>[행텐] 남성 5부 포켓 티셔츠 (10170-031-461-05) NC아울렛</td>\n",
       "      <td>19800</td>\n",
       "      <td>NaN</td>\n",
       "      <td>NaN</td>\n",
       "    </tr>\n",
       "    <tr>\n",
       "      <th>298821</th>\n",
       "      <td>2019-04-30</td>\n",
       "      <td>2009086191</td>\n",
       "      <td>C012010</td>\n",
       "      <td>여자외의</td>\n",
       "      <td>[크로커다일레이디스][크로커다일레이디] 코트 CL9MCT102_BL (P000577...</td>\n",
       "      <td>129500</td>\n",
       "      <td>NaN</td>\n",
       "      <td>NaN</td>\n",
       "    </tr>\n",
       "    <tr>\n",
       "      <th>298822</th>\n",
       "      <td>2019-04-30</td>\n",
       "      <td>348004141</td>\n",
       "      <td>C012010</td>\n",
       "      <td>여자외의</td>\n",
       "      <td>[에꼴][18년 겨울]소매퍼 울코트(C91WCA001Z)</td>\n",
       "      <td>383200</td>\n",
       "      <td>NaN</td>\n",
       "      <td>NaN</td>\n",
       "    </tr>\n",
       "    <tr>\n",
       "      <th>298823</th>\n",
       "      <td>2019-04-30</td>\n",
       "      <td>539666943</td>\n",
       "      <td>C014010</td>\n",
       "      <td>아동복</td>\n",
       "      <td>[모다아울렛][페리미츠]쿨맥스 옐로우티셔츠 P1825T533</td>\n",
       "      <td>9300</td>\n",
       "      <td>NaN</td>\n",
       "      <td>NaN</td>\n",
       "    </tr>\n",
       "    <tr>\n",
       "      <th>298824</th>\n",
       "      <td>2019-04-30</td>\n",
       "      <td>1530685344</td>\n",
       "      <td>L012040</td>\n",
       "      <td>치약</td>\n",
       "      <td>클리오 도라에몽 민트치약 80g x1</td>\n",
       "      <td>3500</td>\n",
       "      <td>3500.0</td>\n",
       "      <td>0.0</td>\n",
       "    </tr>\n",
       "    <tr>\n",
       "      <th>298825</th>\n",
       "      <td>2019-04-30</td>\n",
       "      <td>979302868</td>\n",
       "      <td>C013010</td>\n",
       "      <td>점퍼</td>\n",
       "      <td>[모다아울렛][앤듀](앤듀)홑겹 항공점퍼O185Z1001P</td>\n",
       "      <td>49000</td>\n",
       "      <td>NaN</td>\n",
       "      <td>NaN</td>\n",
       "    </tr>\n",
       "    <tr>\n",
       "      <th>298826</th>\n",
       "      <td>2019-04-30</td>\n",
       "      <td>1599670444</td>\n",
       "      <td>C021020</td>\n",
       "      <td>구두</td>\n",
       "      <td>[스미스마켓] 모스키노 페이던트 구두 여성구두</td>\n",
       "      <td>77000</td>\n",
       "      <td>NaN</td>\n",
       "      <td>NaN</td>\n",
       "    </tr>\n",
       "    <tr>\n",
       "      <th>298827</th>\n",
       "      <td>2019-04-30</td>\n",
       "      <td>780380817</td>\n",
       "      <td>C011040</td>\n",
       "      <td>남자하의</td>\n",
       "      <td>CP컴퍼니 19SS 06CMSS051A 103 렌즈 트레이닝 반바지</td>\n",
       "      <td>185480</td>\n",
       "      <td>NaN</td>\n",
       "      <td>NaN</td>\n",
       "    </tr>\n",
       "    <tr>\n",
       "      <th>298828</th>\n",
       "      <td>2019-04-30</td>\n",
       "      <td>817474478</td>\n",
       "      <td>C012010</td>\n",
       "      <td>여자외의</td>\n",
       "      <td>베이직 더블자켓 SV1JK37/ 숲</td>\n",
       "      <td>99500</td>\n",
       "      <td>NaN</td>\n",
       "      <td>NaN</td>\n",
       "    </tr>\n",
       "    <tr>\n",
       "      <th>298829</th>\n",
       "      <td>2019-04-30</td>\n",
       "      <td>1123426508</td>\n",
       "      <td>C013020</td>\n",
       "      <td>티셔츠</td>\n",
       "      <td>[캉골][AK분당점][캉골]키치 심볼 티셔츠 2592 네온</td>\n",
       "      <td>52000</td>\n",
       "      <td>NaN</td>\n",
       "      <td>NaN</td>\n",
       "    </tr>\n",
       "    <tr>\n",
       "      <th>298830</th>\n",
       "      <td>2019-04-30</td>\n",
       "      <td>966245842</td>\n",
       "      <td>C013020</td>\n",
       "      <td>티셔츠</td>\n",
       "      <td>헤지스골프 남성 블랙 컬러블록 반팔카라티셔츠 HUTS9B316BK/ 헤지스골프</td>\n",
       "      <td>142200</td>\n",
       "      <td>NaN</td>\n",
       "      <td>NaN</td>\n",
       "    </tr>\n",
       "    <tr>\n",
       "      <th>298831</th>\n",
       "      <td>2019-04-30</td>\n",
       "      <td>1926058617</td>\n",
       "      <td>C013020</td>\n",
       "      <td>티셔츠</td>\n",
       "      <td>[마인드브릿지]마인드브릿지 CP스판섭섭만세와펜포켓세미오버티셔츠 MTTS3163</td>\n",
       "      <td>39900</td>\n",
       "      <td>NaN</td>\n",
       "      <td>NaN</td>\n",
       "    </tr>\n",
       "    <tr>\n",
       "      <th>298832</th>\n",
       "      <td>2019-04-30</td>\n",
       "      <td>1995938056</td>\n",
       "      <td>C011020</td>\n",
       "      <td>남자상의</td>\n",
       "      <td>디스퀘어드2 셔츠(소매데님)프린팅 남방 중고 구제 캐주얼 배색 봄 가을 기본 남성용...</td>\n",
       "      <td>48000</td>\n",
       "      <td>NaN</td>\n",
       "      <td>NaN</td>\n",
       "    </tr>\n",
       "    <tr>\n",
       "      <th>298833</th>\n",
       "      <td>2019-04-30</td>\n",
       "      <td>1484669859</td>\n",
       "      <td>C013010</td>\n",
       "      <td>점퍼</td>\n",
       "      <td>[흄(HUM)]W몰 HUM 남여공용 코치자켓 바람막이점퍼 FHMECUV702P</td>\n",
       "      <td>10000</td>\n",
       "      <td>NaN</td>\n",
       "      <td>NaN</td>\n",
       "    </tr>\n",
       "    <tr>\n",
       "      <th>298834</th>\n",
       "      <td>2019-04-30</td>\n",
       "      <td>1779929690</td>\n",
       "      <td>C013010</td>\n",
       "      <td>점퍼</td>\n",
       "      <td>남성야상 남성점퍼 남자 야상점퍼 자켓 잠바 바람막이 숏 롱 간절기용 겨울용 탈부착 ...</td>\n",
       "      <td>92980</td>\n",
       "      <td>NaN</td>\n",
       "      <td>NaN</td>\n",
       "    </tr>\n",
       "    <tr>\n",
       "      <th>298835</th>\n",
       "      <td>2019-04-30</td>\n",
       "      <td>1485126001</td>\n",
       "      <td>C011020</td>\n",
       "      <td>남자상의</td>\n",
       "      <td>(color : NAVY | size : L_100) 체크 패턴 배색 데님 네이비 ...</td>\n",
       "      <td>37580</td>\n",
       "      <td>NaN</td>\n",
       "      <td>NaN</td>\n",
       "    </tr>\n",
       "    <tr>\n",
       "      <th>298836</th>\n",
       "      <td>2019-04-30</td>\n",
       "      <td>329101001</td>\n",
       "      <td>C014010</td>\n",
       "      <td>아동복</td>\n",
       "      <td>[젤리스푼]플라워롱티셔츠상하복</td>\n",
       "      <td>17900</td>\n",
       "      <td>NaN</td>\n",
       "      <td>NaN</td>\n",
       "    </tr>\n",
       "    <tr>\n",
       "      <th>298837</th>\n",
       "      <td>2019-04-30</td>\n",
       "      <td>776844370</td>\n",
       "      <td>C012050</td>\n",
       "      <td>여자하의</td>\n",
       "      <td>[오가게/아이우먼]아이우먼 밴딩 롤업 슬림핏진 MD4929M904 빅사이즈/ 아이우먼</td>\n",
       "      <td>46550</td>\n",
       "      <td>NaN</td>\n",
       "      <td>NaN</td>\n",
       "    </tr>\n",
       "    <tr>\n",
       "      <th>298838</th>\n",
       "      <td>2019-04-30</td>\n",
       "      <td>921326545</td>\n",
       "      <td>C012050</td>\n",
       "      <td>여자하의</td>\n",
       "      <td>[르샵] 일자핏 허리밴딩 면바지(LJ2PT607)</td>\n",
       "      <td>71100</td>\n",
       "      <td>NaN</td>\n",
       "      <td>NaN</td>\n",
       "    </tr>\n",
       "    <tr>\n",
       "      <th>298839</th>\n",
       "      <td>2019-04-30</td>\n",
       "      <td>1589175955</td>\n",
       "      <td>C013010</td>\n",
       "      <td>점퍼</td>\n",
       "      <td>[SOUP]뒷판 자수 바람막이 후드 점퍼(SV4UJ90)</td>\n",
       "      <td>99000</td>\n",
       "      <td>NaN</td>\n",
       "      <td>NaN</td>\n",
       "    </tr>\n",
       "    <tr>\n",
       "      <th>298840</th>\n",
       "      <td>2019-04-30</td>\n",
       "      <td>2006950378</td>\n",
       "      <td>C011040</td>\n",
       "      <td>남자하의</td>\n",
       "      <td>(사이즈 : M) JDP-068 베이직컬 하프팬츠-그레이 남성구제청바지 데님반바지 ...</td>\n",
       "      <td>30420</td>\n",
       "      <td>NaN</td>\n",
       "      <td>NaN</td>\n",
       "    </tr>\n",
       "    <tr>\n",
       "      <th>298841</th>\n",
       "      <td>2019-04-30</td>\n",
       "      <td>1734495884</td>\n",
       "      <td>L012060</td>\n",
       "      <td>샴푸</td>\n",
       "      <td>자양윤모 샴푸 샴푸 2종(지성두피용) 머리샴푸 머릿결관리 손상모발샴푸 머릿결샴푸 헤어관리</td>\n",
       "      <td>35620</td>\n",
       "      <td>NaN</td>\n",
       "      <td>NaN</td>\n",
       "    </tr>\n",
       "    <tr>\n",
       "      <th>298842</th>\n",
       "      <td>2019-04-30</td>\n",
       "      <td>1927456115</td>\n",
       "      <td>A013090</td>\n",
       "      <td>전복</td>\n",
       "      <td>[남해바다] 전복 1kg(13~15미)</td>\n",
       "      <td>65900</td>\n",
       "      <td>65900.0</td>\n",
       "      <td>0.0</td>\n",
       "    </tr>\n",
       "    <tr>\n",
       "      <th>298843</th>\n",
       "      <td>2019-04-30</td>\n",
       "      <td>1029223867</td>\n",
       "      <td>C012050</td>\n",
       "      <td>여자하의</td>\n",
       "      <td>(옵션1 : 블랙-1) 804S 줄지 슬림 스커트 DCM1927 여성패션스커트 패션...</td>\n",
       "      <td>33360</td>\n",
       "      <td>NaN</td>\n",
       "      <td>NaN</td>\n",
       "    </tr>\n",
       "    <tr>\n",
       "      <th>298844</th>\n",
       "      <td>2019-04-30</td>\n",
       "      <td>1917998337</td>\n",
       "      <td>C013020</td>\n",
       "      <td>티셔츠</td>\n",
       "      <td>(색상 : 흰색 | 사이즈 : FREE) MTS-358 싱포 맨투맨 남성맨투맨티셔츠...</td>\n",
       "      <td>15420</td>\n",
       "      <td>NaN</td>\n",
       "      <td>NaN</td>\n",
       "    </tr>\n",
       "    <tr>\n",
       "      <th>298845</th>\n",
       "      <td>2019-04-30</td>\n",
       "      <td>815310680</td>\n",
       "      <td>C014010</td>\n",
       "      <td>아동복</td>\n",
       "      <td>[플레이키즈][플레이키즈프로][130-170] NSW 테크폴리스 여아 후디 (AMF...</td>\n",
       "      <td>89000</td>\n",
       "      <td>NaN</td>\n",
       "      <td>NaN</td>\n",
       "    </tr>\n",
       "    <tr>\n",
       "      <th>298846</th>\n",
       "      <td>2019-04-30</td>\n",
       "      <td>1747545991</td>\n",
       "      <td>C012030</td>\n",
       "      <td>여자상의</td>\n",
       "      <td>(더아이잗컬렉션) 프릴끈 장식 블라우스 CJ4A0BL42/ 아이잗컬렉션</td>\n",
       "      <td>169000</td>\n",
       "      <td>NaN</td>\n",
       "      <td>NaN</td>\n",
       "    </tr>\n",
       "    <tr>\n",
       "      <th>298847</th>\n",
       "      <td>2019-04-30</td>\n",
       "      <td>672400750</td>\n",
       "      <td>C011020</td>\n",
       "      <td>남자상의</td>\n",
       "      <td>(color : Mblue | size : L_100) 핸리넥 데님 블루 셔츠 _N...</td>\n",
       "      <td>37580</td>\n",
       "      <td>NaN</td>\n",
       "      <td>NaN</td>\n",
       "    </tr>\n",
       "    <tr>\n",
       "      <th>298848</th>\n",
       "      <td>2019-04-30</td>\n",
       "      <td>732785486</td>\n",
       "      <td>A019040</td>\n",
       "      <td>소금</td>\n",
       "      <td>함초 자연소금3kg</td>\n",
       "      <td>19100</td>\n",
       "      <td>19100.0</td>\n",
       "      <td>0.0</td>\n",
       "    </tr>\n",
       "    <tr>\n",
       "      <th>298849</th>\n",
       "      <td>2019-04-30</td>\n",
       "      <td>2118547344</td>\n",
       "      <td>C013040</td>\n",
       "      <td>청바지</td>\n",
       "      <td>[포에버21]디스트로이드 슬림핏 청바지/FOREVER21/청바지/일자핏</td>\n",
       "      <td>37000</td>\n",
       "      <td>NaN</td>\n",
       "      <td>NaN</td>\n",
       "    </tr>\n",
       "  </tbody>\n",
       "</table>\n",
       "<p>298850 rows × 8 columns</p>\n",
       "</div>"
      ],
      "text/plain": [
       "                 0           1        2       3  \\\n",
       "0       2019-04-30  1545587997  C013010      점퍼   \n",
       "1       2019-04-30   147567876  C013020     티셔츠   \n",
       "2       2019-04-30   897756527  A011060      땅콩   \n",
       "3       2019-04-30   410494691  A019050      간장   \n",
       "4       2019-04-30   223173815  C011020    남자상의   \n",
       "5       2019-04-30  1173935366  A019180    즉석식품   \n",
       "6       2019-04-30  1476779724  C012050    여자하의   \n",
       "7       2019-04-30  1847125407  C014010     아동복   \n",
       "8       2019-04-30   765016470  C012030    여자상의   \n",
       "9       2019-04-30  1093348192  E061060     살충제   \n",
       "10      2019-04-30  2116113448  C012050    여자하의   \n",
       "11      2019-04-30   614125763  C013060     등산복   \n",
       "12      2019-04-30    42902822  C011040    남자하의   \n",
       "13      2019-04-30   214930055  C013020     티셔츠   \n",
       "14      2019-04-30   384202521  I012050  컴퓨터소모품   \n",
       "15      2019-04-30  1146020498  C013020     티셔츠   \n",
       "16      2019-04-30   355123645  C013020     티셔츠   \n",
       "17      2019-04-30   721037017  L012110   색조화장품   \n",
       "18      2019-04-30   233236126  C014010     아동복   \n",
       "19      2019-04-30  1295113329  C011020    남자상의   \n",
       "20      2019-04-30  1887159474  C012050    여자하의   \n",
       "21      2019-04-30   619083649  C012050    여자하의   \n",
       "22      2019-04-30  2140496746  C013020     티셔츠   \n",
       "23      2019-04-30   129170450  C014010     아동복   \n",
       "24      2019-04-30   917251725  A021020       차   \n",
       "25      2019-04-30  1723482670  C021030     운동화   \n",
       "26      2019-04-30   343414417  C012010    여자외의   \n",
       "27      2019-04-30  1485277833  C012010    여자외의   \n",
       "28      2019-04-30   287212559  C013020     티셔츠   \n",
       "29      2019-04-30  1973646101  C013060     등산복   \n",
       "...            ...         ...      ...     ...   \n",
       "298820  2019-04-30  1511051984  C013020     티셔츠   \n",
       "298821  2019-04-30  2009086191  C012010    여자외의   \n",
       "298822  2019-04-30   348004141  C012010    여자외의   \n",
       "298823  2019-04-30   539666943  C014010     아동복   \n",
       "298824  2019-04-30  1530685344  L012040      치약   \n",
       "298825  2019-04-30   979302868  C013010      점퍼   \n",
       "298826  2019-04-30  1599670444  C021020      구두   \n",
       "298827  2019-04-30   780380817  C011040    남자하의   \n",
       "298828  2019-04-30   817474478  C012010    여자외의   \n",
       "298829  2019-04-30  1123426508  C013020     티셔츠   \n",
       "298830  2019-04-30   966245842  C013020     티셔츠   \n",
       "298831  2019-04-30  1926058617  C013020     티셔츠   \n",
       "298832  2019-04-30  1995938056  C011020    남자상의   \n",
       "298833  2019-04-30  1484669859  C013010      점퍼   \n",
       "298834  2019-04-30  1779929690  C013010      점퍼   \n",
       "298835  2019-04-30  1485126001  C011020    남자상의   \n",
       "298836  2019-04-30   329101001  C014010     아동복   \n",
       "298837  2019-04-30   776844370  C012050    여자하의   \n",
       "298838  2019-04-30   921326545  C012050    여자하의   \n",
       "298839  2019-04-30  1589175955  C013010      점퍼   \n",
       "298840  2019-04-30  2006950378  C011040    남자하의   \n",
       "298841  2019-04-30  1734495884  L012060      샴푸   \n",
       "298842  2019-04-30  1927456115  A013090      전복   \n",
       "298843  2019-04-30  1029223867  C012050    여자하의   \n",
       "298844  2019-04-30  1917998337  C013020     티셔츠   \n",
       "298845  2019-04-30   815310680  C014010     아동복   \n",
       "298846  2019-04-30  1747545991  C012030    여자상의   \n",
       "298847  2019-04-30   672400750  C011020    남자상의   \n",
       "298848  2019-04-30   732785486  A019040      소금   \n",
       "298849  2019-04-30  2118547344  C013040     청바지   \n",
       "\n",
       "                                                        4        5        6  \\\n",
       "0                          캘빈클라인진 19SS 신상 여성 항공점퍼 J211287    99500      NaN   \n",
       "1                [모다아울렛][티엔지티]그레이 라운드넥 면 긴팔티셔츠TGTS9A103G2    55200      NaN   \n",
       "2                          간단한 맥주안주 마른 군것질 견과 꿀땅콩 453g 간단    10970      NaN   \n",
       "3                        간장(진 사조 옹가네 1.8L)X8 간장 진간장 식자재 업    36870      NaN   \n",
       "4       (색상 : 곤색 | 사이즈 : XL) FSSF18036 선염체크 버튼다운 남방 남자...    41070      NaN   \n",
       "5       (냉동)금호 쌀떡꼬치900g(10p)x15개(1box) 쌀떡꼬치 튀김류 떡꼬치 가공...    89160      NaN   \n",
       "6                 [빨질레리] 애쉬 울 블렌드 시어서커 셋업 팬츠 (PC9121UA14)   181300      NaN   \n",
       "7                                  [압소바]라글랑화섬점퍼 AU3-53103    71200      NaN   \n",
       "8              [에스쏠레지아] 봄의 요정이 살포시 앉은 레이스와 프릴 블라우스_NC엑스코점   179000      NaN   \n",
       "9                  [한국디비케이(주)] 킬파프 개미에어졸 뿌리는개미살충제 스프레이개미약     6350      NaN   \n",
       "10                              반에이크 ㄷ밑단커팅면바지 VA93DLM203Z    39800      NaN   \n",
       "11      (옵션-사이즈 : K2 방한장갑 IMW12901-M) K2 방한장갑 IMW12901...    47000      NaN   \n",
       "12                 [지오지아] 면혼방 프린트 하프팬츠 ABV2PH1105WT/ 지오지아     9000      NaN   \n",
       "13               [세바스찬골프] 상하 반전 배색 스판 남성 카라넥 반팔티셔츠_243813    37905  37905.0   \n",
       "14                        [HP] 잉크 C8775WA (No.02/S라이트마젠타)    18000  18000.0   \n",
       "15      (옵션1 : 블랙-XL) 810 데일리 폴링 반폴라티 DGO3295 여성빅사이즈티셔...    23000      NaN   \n",
       "16                    흡한속건 소매 메쉬 여성 하프넥 반팔티셔츠/골프웨어_244317    43130  43130.0   \n",
       "17                        [MAC]맥 플렌티 오브 파우트 플럼핑 립스틱[갤러리아]    34000      NaN   \n",
       "18      (색상 : 네이비5호) 아동원피스 벨트 원피스 KIDBOK-266 여아원피스 유아의...    20170      NaN   \n",
       "19          [하프클럽/ZIOZIA](지오지아) 면혼방 체크 드레스셔츠 ABV1WC1103YE     6000      NaN   \n",
       "20      [나이스크랍][AK구로점][나이스클랍] [18년 겨울]레오파드 스커트 N184PWKB99   219000      NaN   \n",
       "21       [반에이크]반에이크 블랙 베이직 큐롯팬츠 VA95SLQ304Z (VA95SLQ304Z)    39800      NaN   \n",
       "22                 [파파브로]남자 국산 스판 카라 패턴 티셔츠 LM-A9-253-그레이    29800      NaN   \n",
       "23                         [오렌지앤] 라임향품은코트_S-2XL(OJK73267)    79200      NaN   \n",
       "24                                         다미즐 제주 청귤차 1kg     7000   6820.0   \n",
       "25      [나이키] (SIZE : 260) 에어 줌 페가수스 35(942851101) 런닝운...   153740      NaN   \n",
       "26                             [하프클럽/매긴]양가죽숏라이더자켓MHDLJ101   198000      NaN   \n",
       "27              [진도 Klever] 로얄 세이블 콤비 유색 밍크 코트(K2W3EC53_)  4590000      NaN   \n",
       "28      (색상 : 다홍 | 사이즈 : 110(2XL)) MTSS18095 숄더앤 바스트 포...    36270      NaN   \n",
       "29      (옵션 : 105(2XL)) 랜더스 라이트 폴라폴리스 자켓(JK430W) 블루 폴라...    34140      NaN   \n",
       "...                                                   ...      ...      ...   \n",
       "298820         [행텐] 남성 5부 포켓 티셔츠 (10170-031-461-05) NC아울렛    19800      NaN   \n",
       "298821  [크로커다일레이디스][크로커다일레이디] 코트 CL9MCT102_BL (P000577...   129500      NaN   \n",
       "298822                    [에꼴][18년 겨울]소매퍼 울코트(C91WCA001Z)   383200      NaN   \n",
       "298823                  [모다아울렛][페리미츠]쿨맥스 옐로우티셔츠 P1825T533     9300      NaN   \n",
       "298824                               클리오 도라에몽 민트치약 80g x1     3500   3500.0   \n",
       "298825                   [모다아울렛][앤듀](앤듀)홑겹 항공점퍼O185Z1001P    49000      NaN   \n",
       "298826                          [스미스마켓] 모스키노 페이던트 구두 여성구두    77000      NaN   \n",
       "298827              CP컴퍼니 19SS 06CMSS051A 103 렌즈 트레이닝 반바지   185480      NaN   \n",
       "298828                                베이직 더블자켓 SV1JK37/ 숲    99500      NaN   \n",
       "298829                   [캉골][AK분당점][캉골]키치 심볼 티셔츠 2592 네온    52000      NaN   \n",
       "298830        헤지스골프 남성 블랙 컬러블록 반팔카라티셔츠 HUTS9B316BK/ 헤지스골프   142200      NaN   \n",
       "298831        [마인드브릿지]마인드브릿지 CP스판섭섭만세와펜포켓세미오버티셔츠 MTTS3163    39900      NaN   \n",
       "298832  디스퀘어드2 셔츠(소매데님)프린팅 남방 중고 구제 캐주얼 배색 봄 가을 기본 남성용...    48000      NaN   \n",
       "298833        [흄(HUM)]W몰 HUM 남여공용 코치자켓 바람막이점퍼 FHMECUV702P    10000      NaN   \n",
       "298834  남성야상 남성점퍼 남자 야상점퍼 자켓 잠바 바람막이 숏 롱 간절기용 겨울용 탈부착 ...    92980      NaN   \n",
       "298835  (color : NAVY | size : L_100) 체크 패턴 배색 데님 네이비 ...    37580      NaN   \n",
       "298836                                   [젤리스푼]플라워롱티셔츠상하복    17900      NaN   \n",
       "298837    [오가게/아이우먼]아이우먼 밴딩 롤업 슬림핏진 MD4929M904 빅사이즈/ 아이우먼    46550      NaN   \n",
       "298838                        [르샵] 일자핏 허리밴딩 면바지(LJ2PT607)    71100      NaN   \n",
       "298839                    [SOUP]뒷판 자수 바람막이 후드 점퍼(SV4UJ90)    99000      NaN   \n",
       "298840  (사이즈 : M) JDP-068 베이직컬 하프팬츠-그레이 남성구제청바지 데님반바지 ...    30420      NaN   \n",
       "298841  자양윤모 샴푸 샴푸 2종(지성두피용) 머리샴푸 머릿결관리 손상모발샴푸 머릿결샴푸 헤어관리    35620      NaN   \n",
       "298842                              [남해바다] 전복 1kg(13~15미)    65900  65900.0   \n",
       "298843  (옵션1 : 블랙-1) 804S 줄지 슬림 스커트 DCM1927 여성패션스커트 패션...    33360      NaN   \n",
       "298844  (색상 : 흰색 | 사이즈 : FREE) MTS-358 싱포 맨투맨 남성맨투맨티셔츠...    15420      NaN   \n",
       "298845  [플레이키즈][플레이키즈프로][130-170] NSW 테크폴리스 여아 후디 (AMF...    89000      NaN   \n",
       "298846            (더아이잗컬렉션) 프릴끈 장식 블라우스 CJ4A0BL42/ 아이잗컬렉션   169000      NaN   \n",
       "298847  (color : Mblue | size : L_100) 핸리넥 데님 블루 셔츠 _N...    37580      NaN   \n",
       "298848                                         함초 자연소금3kg    19100  19100.0   \n",
       "298849            [포에버21]디스트로이드 슬림핏 청바지/FOREVER21/청바지/일자핏    37000      NaN   \n",
       "\n",
       "            7  \n",
       "0         NaN  \n",
       "1         NaN  \n",
       "2         NaN  \n",
       "3         NaN  \n",
       "4         NaN  \n",
       "5         NaN  \n",
       "6         NaN  \n",
       "7         NaN  \n",
       "8         NaN  \n",
       "9         NaN  \n",
       "10        NaN  \n",
       "11        NaN  \n",
       "12        NaN  \n",
       "13        0.0  \n",
       "14        0.0  \n",
       "15        NaN  \n",
       "16        0.0  \n",
       "17        NaN  \n",
       "18        NaN  \n",
       "19        NaN  \n",
       "20        NaN  \n",
       "21        NaN  \n",
       "22        NaN  \n",
       "23        NaN  \n",
       "24     -180.0  \n",
       "25        NaN  \n",
       "26        NaN  \n",
       "27        NaN  \n",
       "28        NaN  \n",
       "29        NaN  \n",
       "...       ...  \n",
       "298820    NaN  \n",
       "298821    NaN  \n",
       "298822    NaN  \n",
       "298823    NaN  \n",
       "298824    0.0  \n",
       "298825    NaN  \n",
       "298826    NaN  \n",
       "298827    NaN  \n",
       "298828    NaN  \n",
       "298829    NaN  \n",
       "298830    NaN  \n",
       "298831    NaN  \n",
       "298832    NaN  \n",
       "298833    NaN  \n",
       "298834    NaN  \n",
       "298835    NaN  \n",
       "298836    NaN  \n",
       "298837    NaN  \n",
       "298838    NaN  \n",
       "298839    NaN  \n",
       "298840    NaN  \n",
       "298841    NaN  \n",
       "298842    0.0  \n",
       "298843    NaN  \n",
       "298844    NaN  \n",
       "298845    NaN  \n",
       "298846    NaN  \n",
       "298847    NaN  \n",
       "298848    0.0  \n",
       "298849    NaN  \n",
       "\n",
       "[298850 rows x 8 columns]"
      ]
     },
     "execution_count": 178,
     "metadata": {},
     "output_type": "execute_result"
    }
   ],
   "source": [
    "file1 = os.path.join(DATASET_PATH, \"2019-04-30.csv\")\n",
    "df = pd.read_csv(file1, error_bad_lines=False, header=None)\n",
    "df"
   ]
  },
  {
   "cell_type": "code",
   "execution_count": 179,
   "metadata": {},
   "outputs": [],
   "source": [
    "df.columns = ['수집일자','상품ID','품목ID','품목명','상품명','판매가격','할인가격','혜택가격']"
   ]
  },
  {
   "cell_type": "code",
   "execution_count": 180,
   "metadata": {},
   "outputs": [],
   "source": [
    "df2 = df[['수집일자', '품목명', '상품명','판매가격']]"
   ]
  },
  {
   "cell_type": "code",
   "execution_count": 181,
   "metadata": {},
   "outputs": [],
   "source": [
    "df2.to_csv(\"temp.csv\", encoding = \"cp949\") # 윈도우의 경우 저걸로 인코딩하면 읽어짐. 표준은 UTF-8"
   ]
  },
  {
   "cell_type": "markdown",
   "metadata": {},
   "source": [
    "# 데이터 병합 연습"
   ]
  },
  {
   "cell_type": "code",
   "execution_count": 195,
   "metadata": {
    "scrolled": true
   },
   "outputs": [
    {
     "name": "stderr",
     "output_type": "stream",
     "text": [
      "b'Skipping line 36560: expected 8 fields, saw 11\\n'\n",
      "b'Skipping line 222462: expected 8 fields, saw 11\\n'\n",
      "b'Skipping line 27894: expected 8 fields, saw 11\\n'\n",
      "b'Skipping line 45907: expected 8 fields, saw 11\\n'\n",
      "b'Skipping line 45538: expected 8 fields, saw 11\\n'\n",
      "b'Skipping line 89789: expected 8 fields, saw 11\\n'\n",
      "b'Skipping line 219259: expected 8 fields, saw 11\\n'\n",
      "b'Skipping line 129303: expected 8 fields, saw 11\\n'\n",
      "b'Skipping line 272309: expected 8 fields, saw 11\\n'\n",
      "b'Skipping line 211460: expected 8 fields, saw 11\\n'\n",
      "b'Skipping line 57879: expected 8 fields, saw 11\\n'\n",
      "b'Skipping line 170099: expected 8 fields, saw 11\\n'\n",
      "b'Skipping line 168991: expected 8 fields, saw 11\\n'\n",
      "b'Skipping line 61227: expected 8 fields, saw 11\\n'\n",
      "b'Skipping line 139967: expected 8 fields, saw 11\\n'\n",
      "b'Skipping line 61480: expected 8 fields, saw 11\\n'\n",
      "b'Skipping line 77728: expected 8 fields, saw 11\\n'\n",
      "b'Skipping line 271889: expected 8 fields, saw 11\\n'\n",
      "b'Skipping line 223096: expected 8 fields, saw 11\\n'\n",
      "b'Skipping line 104855: expected 8 fields, saw 11\\n'\n",
      "b'Skipping line 18081: expected 8 fields, saw 11\\n'\n"
     ]
    }
   ],
   "source": [
    "file1 = os.path.join(DATASET_PATH, \"2019-04-01.csv\")\n",
    "df1 = pd.read_csv(file1, error_bad_lines=False, header=None)\n",
    "\n",
    "for i in range(2,10):\n",
    "    code='file{} = os.path.join(DATASET_PATH, \"2019-04-0{}.csv\")'.format(i,i)\n",
    "    exec(code)\n",
    "    code='df{} = pd.read_csv(file{}, error_bad_lines=False, header=None)'.format(i,i)\n",
    "    exec(code)\n",
    "    code = \"df1=df1.append(df{})\".format(i)\n",
    "    exec(code)\n",
    "for i in range(10,31):\n",
    "    code='file{} = os.path.join(DATASET_PATH, \"2019-04-{}.csv\")'.format(i,i)\n",
    "    exec(code)\n",
    "    code='df{} = pd.read_csv(file{}, error_bad_lines=False, header=None)'.format(i,i)\n",
    "    exec(code)\n",
    "    code = \"df1=df1.append(df{})\".format(i)\n",
    "    exec(code)"
   ]
  },
  {
   "cell_type": "code",
   "execution_count": null,
   "metadata": {},
   "outputs": [],
   "source": [
    "#위에꺼 약간 수정. 쓸데없는 포맷없앰.\n",
    "file1 = os.path.join(DATASET_PATH, \"2019-04-01.csv\")\n",
    "df1 = pd.read_csv(file1, error_bad_lines=False, header=None)\n",
    "\n",
    "for i in range(2,10):\n",
    "    code='file{} = os.path.join(DATASET_PATH, \"2019-04-0{}.csv\")'.format(i,i)\n",
    "    exec(code)\n",
    "    code='df = pd.read_csv(file{}, error_bad_lines=False, header=None)'.format(i)\n",
    "    exec(code)\n",
    "    code = \"df1=df1.append(df)\"\n",
    "    exec(code)\n",
    "for i in range(10,31):\n",
    "    code='file{} = os.path.join(DATASET_PATH, \"2019-04-{}.csv\")'.format(i,i)\n",
    "    exec(code)\n",
    "    code='df = pd.read_csv(file{}, error_bad_lines=False, header=None)'.format(i)\n",
    "    exec(code)\n",
    "    code = \"df1=df1.append(df)\"\n",
    "    exec(code)"
   ]
  },
  {
   "cell_type": "code",
   "execution_count": 196,
   "metadata": {},
   "outputs": [
    {
     "data": {
      "text/html": [
       "<div>\n",
       "<style scoped>\n",
       "    .dataframe tbody tr th:only-of-type {\n",
       "        vertical-align: middle;\n",
       "    }\n",
       "\n",
       "    .dataframe tbody tr th {\n",
       "        vertical-align: top;\n",
       "    }\n",
       "\n",
       "    .dataframe thead th {\n",
       "        text-align: right;\n",
       "    }\n",
       "</style>\n",
       "<table border=\"1\" class=\"dataframe\">\n",
       "  <thead>\n",
       "    <tr style=\"text-align: right;\">\n",
       "      <th></th>\n",
       "      <th>0</th>\n",
       "      <th>1</th>\n",
       "      <th>2</th>\n",
       "      <th>3</th>\n",
       "      <th>4</th>\n",
       "      <th>5</th>\n",
       "      <th>6</th>\n",
       "      <th>7</th>\n",
       "    </tr>\n",
       "  </thead>\n",
       "  <tbody>\n",
       "    <tr>\n",
       "      <th>0</th>\n",
       "      <td>2019-04-01</td>\n",
       "      <td>2142932948</td>\n",
       "      <td>C011020</td>\n",
       "      <td>남자상의</td>\n",
       "      <td>(사이즈 : RFCB2021 shirts 110) 슬림핏)링클프리 고급모달 블루 반...</td>\n",
       "      <td>44540</td>\n",
       "      <td>NaN</td>\n",
       "      <td>NaN</td>\n",
       "    </tr>\n",
       "    <tr>\n",
       "      <th>1</th>\n",
       "      <td>2019-04-01</td>\n",
       "      <td>1812194343</td>\n",
       "      <td>C013020</td>\n",
       "      <td>티셔츠</td>\n",
       "      <td>폴햄 공용슬럽브이넥반팔티셔츠(차콜) PHZ2TR3840</td>\n",
       "      <td>9900</td>\n",
       "      <td>NaN</td>\n",
       "      <td>NaN</td>\n",
       "    </tr>\n",
       "    <tr>\n",
       "      <th>2</th>\n",
       "      <td>2019-04-01</td>\n",
       "      <td>954865871</td>\n",
       "      <td>C014010</td>\n",
       "      <td>아동복</td>\n",
       "      <td>프렌치캣Q92DKJ040 연보라 프릴 바람막이JP</td>\n",
       "      <td>76000</td>\n",
       "      <td>NaN</td>\n",
       "      <td>NaN</td>\n",
       "    </tr>\n",
       "    <tr>\n",
       "      <th>3</th>\n",
       "      <td>2019-04-01</td>\n",
       "      <td>853175004</td>\n",
       "      <td>A021010</td>\n",
       "      <td>커피</td>\n",
       "      <td>[맥널티] 아이브루 케냐AA 30T+10T 인스턴트커피믹스 원두커피 케냐AA 인스턴...</td>\n",
       "      <td>16260</td>\n",
       "      <td>NaN</td>\n",
       "      <td>NaN</td>\n",
       "    </tr>\n",
       "    <tr>\n",
       "      <th>4</th>\n",
       "      <td>2019-04-01</td>\n",
       "      <td>826899644</td>\n",
       "      <td>A019050</td>\n",
       "      <td>간장</td>\n",
       "      <td>채선해 어간장 세트1(대멸치350g+어간장650ml) 어간장선물세트 실속선물세트 직...</td>\n",
       "      <td>37970</td>\n",
       "      <td>NaN</td>\n",
       "      <td>NaN</td>\n",
       "    </tr>\n",
       "    <tr>\n",
       "      <th>5</th>\n",
       "      <td>2019-04-01</td>\n",
       "      <td>1095655438</td>\n",
       "      <td>L012010</td>\n",
       "      <td>면도기</td>\n",
       "      <td>도루코페이스6면도날-4P SX-A1040 면도 얼굴면도기 도루코 도루코면도기 미용면도기</td>\n",
       "      <td>20450</td>\n",
       "      <td>NaN</td>\n",
       "      <td>NaN</td>\n",
       "    </tr>\n",
       "    <tr>\n",
       "      <th>6</th>\n",
       "      <td>2019-04-01</td>\n",
       "      <td>912133680</td>\n",
       "      <td>C011050</td>\n",
       "      <td>남자내의</td>\n",
       "      <td>Dossy 남성 드로즈 빅사이즈 110 120 남성드로즈팬티</td>\n",
       "      <td>16700</td>\n",
       "      <td>NaN</td>\n",
       "      <td>NaN</td>\n",
       "    </tr>\n",
       "    <tr>\n",
       "      <th>7</th>\n",
       "      <td>2019-04-01</td>\n",
       "      <td>176168123</td>\n",
       "      <td>C013010</td>\n",
       "      <td>점퍼</td>\n",
       "      <td>씨저스 퀼팅점퍼 1F2-1JE01-24</td>\n",
       "      <td>143000</td>\n",
       "      <td>NaN</td>\n",
       "      <td>NaN</td>\n",
       "    </tr>\n",
       "    <tr>\n",
       "      <th>8</th>\n",
       "      <td>2019-04-01</td>\n",
       "      <td>342609665</td>\n",
       "      <td>C011040</td>\n",
       "      <td>남자하의</td>\n",
       "      <td>스키니핏팬츠_1X511EP706NA</td>\n",
       "      <td>9900</td>\n",
       "      <td>NaN</td>\n",
       "      <td>NaN</td>\n",
       "    </tr>\n",
       "    <tr>\n",
       "      <th>9</th>\n",
       "      <td>2019-04-01</td>\n",
       "      <td>928928755</td>\n",
       "      <td>C021030</td>\n",
       "      <td>운동화</td>\n",
       "      <td>투벨크로 아동단화 운동화 아동화 아동운동화 어린이</td>\n",
       "      <td>27700</td>\n",
       "      <td>NaN</td>\n",
       "      <td>NaN</td>\n",
       "    </tr>\n",
       "    <tr>\n",
       "      <th>10</th>\n",
       "      <td>2019-04-01</td>\n",
       "      <td>814924610</td>\n",
       "      <td>E061100</td>\n",
       "      <td>습기제거제</td>\n",
       "      <td>[F] 첼로제습제 20g 10개 - 데시칸-B 친환경</td>\n",
       "      <td>2400</td>\n",
       "      <td>2280.0</td>\n",
       "      <td>-120.0</td>\n",
       "    </tr>\n",
       "    <tr>\n",
       "      <th>11</th>\n",
       "      <td>2019-04-01</td>\n",
       "      <td>1983249606</td>\n",
       "      <td>C013020</td>\n",
       "      <td>티셔츠</td>\n",
       "      <td>네이비 로고배색 면혼방 반팔카라티셔츠 HZTS9B003N2/ 헤지스</td>\n",
       "      <td>129000</td>\n",
       "      <td>NaN</td>\n",
       "      <td>NaN</td>\n",
       "    </tr>\n",
       "    <tr>\n",
       "      <th>12</th>\n",
       "      <td>2019-04-01</td>\n",
       "      <td>878389843</td>\n",
       "      <td>C012010</td>\n",
       "      <td>여자외의</td>\n",
       "      <td>케네스레이디 체크소매배색트렌치코트 EWTCJB0200</td>\n",
       "      <td>269000</td>\n",
       "      <td>NaN</td>\n",
       "      <td>NaN</td>\n",
       "    </tr>\n",
       "    <tr>\n",
       "      <th>13</th>\n",
       "      <td>2019-04-01</td>\n",
       "      <td>1126405207</td>\n",
       "      <td>C011040</td>\n",
       "      <td>남자하의</td>\n",
       "      <td>랜더스 바람막이 자켓(JK125) 코발트</td>\n",
       "      <td>29300</td>\n",
       "      <td>NaN</td>\n",
       "      <td>NaN</td>\n",
       "    </tr>\n",
       "    <tr>\n",
       "      <th>14</th>\n",
       "      <td>2019-04-01</td>\n",
       "      <td>1549553626</td>\n",
       "      <td>E061100</td>\n",
       "      <td>습기제거제</td>\n",
       "      <td>홈트너 옷장용제습제(120g) 습기제거제 제습제 10개</td>\n",
       "      <td>15210</td>\n",
       "      <td>NaN</td>\n",
       "      <td>NaN</td>\n",
       "    </tr>\n",
       "    <tr>\n",
       "      <th>15</th>\n",
       "      <td>2019-04-01</td>\n",
       "      <td>1904504950</td>\n",
       "      <td>A017300</td>\n",
       "      <td>미역</td>\n",
       "      <td>(2)미역(자른 차오름 1KG 국산)X5개/건미역 미역 말린</td>\n",
       "      <td>114520</td>\n",
       "      <td>NaN</td>\n",
       "      <td>NaN</td>\n",
       "    </tr>\n",
       "    <tr>\n",
       "      <th>16</th>\n",
       "      <td>2019-04-01</td>\n",
       "      <td>1073659289</td>\n",
       "      <td>C013010</td>\n",
       "      <td>점퍼</td>\n",
       "      <td>[써스데이아일랜드]배색 프린트 소매 숏 점퍼 (T194MJP232W)(경기점)</td>\n",
       "      <td>249000</td>\n",
       "      <td>NaN</td>\n",
       "      <td>NaN</td>\n",
       "    </tr>\n",
       "    <tr>\n",
       "      <th>17</th>\n",
       "      <td>2019-04-01</td>\n",
       "      <td>1152942597</td>\n",
       "      <td>C014010</td>\n",
       "      <td>아동복</td>\n",
       "      <td>프렌치캣 Q92DCJ070 WH프릴 스카시 C.D</td>\n",
       "      <td>63000</td>\n",
       "      <td>NaN</td>\n",
       "      <td>NaN</td>\n",
       "    </tr>\n",
       "    <tr>\n",
       "      <th>18</th>\n",
       "      <td>2019-04-01</td>\n",
       "      <td>943429570</td>\n",
       "      <td>C011020</td>\n",
       "      <td>남자상의</td>\n",
       "      <td>[JEEP]남여공용 소매 배색 7부 티셔츠(JH2TSU064)</td>\n",
       "      <td>18000</td>\n",
       "      <td>NaN</td>\n",
       "      <td>NaN</td>\n",
       "    </tr>\n",
       "    <tr>\n",
       "      <th>19</th>\n",
       "      <td>2019-04-01</td>\n",
       "      <td>420987991</td>\n",
       "      <td>A016160</td>\n",
       "      <td>과일가공품</td>\n",
       "      <td>[홈플러스]simplus_냉동체리칠레산_500G</td>\n",
       "      <td>5990</td>\n",
       "      <td>NaN</td>\n",
       "      <td>NaN</td>\n",
       "    </tr>\n",
       "    <tr>\n",
       "      <th>20</th>\n",
       "      <td>2019-04-01</td>\n",
       "      <td>1651601070</td>\n",
       "      <td>C012020</td>\n",
       "      <td>원피스</td>\n",
       "      <td>로즈민소매원피스 1025139 DRESS 쉬폰 레이스원피스</td>\n",
       "      <td>93370</td>\n",
       "      <td>NaN</td>\n",
       "      <td>NaN</td>\n",
       "    </tr>\n",
       "    <tr>\n",
       "      <th>21</th>\n",
       "      <td>2019-04-01</td>\n",
       "      <td>1066134397</td>\n",
       "      <td>C012010</td>\n",
       "      <td>여자외의</td>\n",
       "      <td>[르오트] (TV홈쇼핑방송/무료배송) 쿨링시크 냉감 밴딩 팬츠-사이즈 55∼88다양</td>\n",
       "      <td>5900</td>\n",
       "      <td>NaN</td>\n",
       "      <td>NaN</td>\n",
       "    </tr>\n",
       "    <tr>\n",
       "      <th>22</th>\n",
       "      <td>2019-04-01</td>\n",
       "      <td>1543762550</td>\n",
       "      <td>C014010</td>\n",
       "      <td>아동복</td>\n",
       "      <td>[ 빈 ] BT21TS05GN남아 포켓배색 그린 티셔츠</td>\n",
       "      <td>48000</td>\n",
       "      <td>NaN</td>\n",
       "      <td>NaN</td>\n",
       "    </tr>\n",
       "    <tr>\n",
       "      <th>23</th>\n",
       "      <td>2019-04-01</td>\n",
       "      <td>1773531765</td>\n",
       "      <td>C013010</td>\n",
       "      <td>점퍼</td>\n",
       "      <td>[올리비아하슬러]OH8MJP104 네크 셔링 점퍼</td>\n",
       "      <td>79900</td>\n",
       "      <td>NaN</td>\n",
       "      <td>NaN</td>\n",
       "    </tr>\n",
       "    <tr>\n",
       "      <th>24</th>\n",
       "      <td>2019-04-01</td>\n",
       "      <td>277908766</td>\n",
       "      <td>A019090</td>\n",
       "      <td>카레</td>\n",
       "      <td>[청정원] 병아리콩 빈달루 커리소스 360g 빈달루카레소스 병커리 인도식커리 커리소...</td>\n",
       "      <td>18170</td>\n",
       "      <td>NaN</td>\n",
       "      <td>NaN</td>\n",
       "    </tr>\n",
       "    <tr>\n",
       "      <th>25</th>\n",
       "      <td>2019-04-01</td>\n",
       "      <td>4343006</td>\n",
       "      <td>C013020</td>\n",
       "      <td>티셔츠</td>\n",
       "      <td>[반에이크]루즈핏 후드 티셔츠(VA94TSQ349Z_DG)</td>\n",
       "      <td>39800</td>\n",
       "      <td>NaN</td>\n",
       "      <td>NaN</td>\n",
       "    </tr>\n",
       "    <tr>\n",
       "      <th>26</th>\n",
       "      <td>2019-04-01</td>\n",
       "      <td>1816679970</td>\n",
       "      <td>C012010</td>\n",
       "      <td>여자외의</td>\n",
       "      <td>SOUP 벨트 숏 트렌치 코트 SV4BB90</td>\n",
       "      <td>87000</td>\n",
       "      <td>NaN</td>\n",
       "      <td>NaN</td>\n",
       "    </tr>\n",
       "    <tr>\n",
       "      <th>27</th>\n",
       "      <td>2019-04-01</td>\n",
       "      <td>930687441</td>\n",
       "      <td>C011040</td>\n",
       "      <td>남자하의</td>\n",
       "      <td>지오다노 슬림핏 치노팬츠 117922</td>\n",
       "      <td>15000</td>\n",
       "      <td>NaN</td>\n",
       "      <td>NaN</td>\n",
       "    </tr>\n",
       "    <tr>\n",
       "      <th>28</th>\n",
       "      <td>2019-04-01</td>\n",
       "      <td>1919980648</td>\n",
       "      <td>I053050</td>\n",
       "      <td>필기구</td>\n",
       "      <td>[바보사랑]쿠츠와 제트스트림3 푸마 3색펜 0.5</td>\n",
       "      <td>9000</td>\n",
       "      <td>9000.0</td>\n",
       "      <td>0.0</td>\n",
       "    </tr>\n",
       "    <tr>\n",
       "      <th>29</th>\n",
       "      <td>2019-04-01</td>\n",
       "      <td>1025273168</td>\n",
       "      <td>A019180</td>\n",
       "      <td>즉석식품</td>\n",
       "      <td>두마리후라이드반반치킨</td>\n",
       "      <td>14990</td>\n",
       "      <td>14990.0</td>\n",
       "      <td>0.0</td>\n",
       "    </tr>\n",
       "    <tr>\n",
       "      <th>...</th>\n",
       "      <td>...</td>\n",
       "      <td>...</td>\n",
       "      <td>...</td>\n",
       "      <td>...</td>\n",
       "      <td>...</td>\n",
       "      <td>...</td>\n",
       "      <td>...</td>\n",
       "      <td>...</td>\n",
       "    </tr>\n",
       "    <tr>\n",
       "      <th>298820</th>\n",
       "      <td>2019-04-30</td>\n",
       "      <td>1511051984</td>\n",
       "      <td>C013020</td>\n",
       "      <td>티셔츠</td>\n",
       "      <td>[행텐] 남성 5부 포켓 티셔츠 (10170-031-461-05) NC아울렛</td>\n",
       "      <td>19800</td>\n",
       "      <td>NaN</td>\n",
       "      <td>NaN</td>\n",
       "    </tr>\n",
       "    <tr>\n",
       "      <th>298821</th>\n",
       "      <td>2019-04-30</td>\n",
       "      <td>2009086191</td>\n",
       "      <td>C012010</td>\n",
       "      <td>여자외의</td>\n",
       "      <td>[크로커다일레이디스][크로커다일레이디] 코트 CL9MCT102_BL (P000577...</td>\n",
       "      <td>129500</td>\n",
       "      <td>NaN</td>\n",
       "      <td>NaN</td>\n",
       "    </tr>\n",
       "    <tr>\n",
       "      <th>298822</th>\n",
       "      <td>2019-04-30</td>\n",
       "      <td>348004141</td>\n",
       "      <td>C012010</td>\n",
       "      <td>여자외의</td>\n",
       "      <td>[에꼴][18년 겨울]소매퍼 울코트(C91WCA001Z)</td>\n",
       "      <td>383200</td>\n",
       "      <td>NaN</td>\n",
       "      <td>NaN</td>\n",
       "    </tr>\n",
       "    <tr>\n",
       "      <th>298823</th>\n",
       "      <td>2019-04-30</td>\n",
       "      <td>539666943</td>\n",
       "      <td>C014010</td>\n",
       "      <td>아동복</td>\n",
       "      <td>[모다아울렛][페리미츠]쿨맥스 옐로우티셔츠 P1825T533</td>\n",
       "      <td>9300</td>\n",
       "      <td>NaN</td>\n",
       "      <td>NaN</td>\n",
       "    </tr>\n",
       "    <tr>\n",
       "      <th>298824</th>\n",
       "      <td>2019-04-30</td>\n",
       "      <td>1530685344</td>\n",
       "      <td>L012040</td>\n",
       "      <td>치약</td>\n",
       "      <td>클리오 도라에몽 민트치약 80g x1</td>\n",
       "      <td>3500</td>\n",
       "      <td>3500.0</td>\n",
       "      <td>0.0</td>\n",
       "    </tr>\n",
       "    <tr>\n",
       "      <th>298825</th>\n",
       "      <td>2019-04-30</td>\n",
       "      <td>979302868</td>\n",
       "      <td>C013010</td>\n",
       "      <td>점퍼</td>\n",
       "      <td>[모다아울렛][앤듀](앤듀)홑겹 항공점퍼O185Z1001P</td>\n",
       "      <td>49000</td>\n",
       "      <td>NaN</td>\n",
       "      <td>NaN</td>\n",
       "    </tr>\n",
       "    <tr>\n",
       "      <th>298826</th>\n",
       "      <td>2019-04-30</td>\n",
       "      <td>1599670444</td>\n",
       "      <td>C021020</td>\n",
       "      <td>구두</td>\n",
       "      <td>[스미스마켓] 모스키노 페이던트 구두 여성구두</td>\n",
       "      <td>77000</td>\n",
       "      <td>NaN</td>\n",
       "      <td>NaN</td>\n",
       "    </tr>\n",
       "    <tr>\n",
       "      <th>298827</th>\n",
       "      <td>2019-04-30</td>\n",
       "      <td>780380817</td>\n",
       "      <td>C011040</td>\n",
       "      <td>남자하의</td>\n",
       "      <td>CP컴퍼니 19SS 06CMSS051A 103 렌즈 트레이닝 반바지</td>\n",
       "      <td>185480</td>\n",
       "      <td>NaN</td>\n",
       "      <td>NaN</td>\n",
       "    </tr>\n",
       "    <tr>\n",
       "      <th>298828</th>\n",
       "      <td>2019-04-30</td>\n",
       "      <td>817474478</td>\n",
       "      <td>C012010</td>\n",
       "      <td>여자외의</td>\n",
       "      <td>베이직 더블자켓 SV1JK37/ 숲</td>\n",
       "      <td>99500</td>\n",
       "      <td>NaN</td>\n",
       "      <td>NaN</td>\n",
       "    </tr>\n",
       "    <tr>\n",
       "      <th>298829</th>\n",
       "      <td>2019-04-30</td>\n",
       "      <td>1123426508</td>\n",
       "      <td>C013020</td>\n",
       "      <td>티셔츠</td>\n",
       "      <td>[캉골][AK분당점][캉골]키치 심볼 티셔츠 2592 네온</td>\n",
       "      <td>52000</td>\n",
       "      <td>NaN</td>\n",
       "      <td>NaN</td>\n",
       "    </tr>\n",
       "    <tr>\n",
       "      <th>298830</th>\n",
       "      <td>2019-04-30</td>\n",
       "      <td>966245842</td>\n",
       "      <td>C013020</td>\n",
       "      <td>티셔츠</td>\n",
       "      <td>헤지스골프 남성 블랙 컬러블록 반팔카라티셔츠 HUTS9B316BK/ 헤지스골프</td>\n",
       "      <td>142200</td>\n",
       "      <td>NaN</td>\n",
       "      <td>NaN</td>\n",
       "    </tr>\n",
       "    <tr>\n",
       "      <th>298831</th>\n",
       "      <td>2019-04-30</td>\n",
       "      <td>1926058617</td>\n",
       "      <td>C013020</td>\n",
       "      <td>티셔츠</td>\n",
       "      <td>[마인드브릿지]마인드브릿지 CP스판섭섭만세와펜포켓세미오버티셔츠 MTTS3163</td>\n",
       "      <td>39900</td>\n",
       "      <td>NaN</td>\n",
       "      <td>NaN</td>\n",
       "    </tr>\n",
       "    <tr>\n",
       "      <th>298832</th>\n",
       "      <td>2019-04-30</td>\n",
       "      <td>1995938056</td>\n",
       "      <td>C011020</td>\n",
       "      <td>남자상의</td>\n",
       "      <td>디스퀘어드2 셔츠(소매데님)프린팅 남방 중고 구제 캐주얼 배색 봄 가을 기본 남성용...</td>\n",
       "      <td>48000</td>\n",
       "      <td>NaN</td>\n",
       "      <td>NaN</td>\n",
       "    </tr>\n",
       "    <tr>\n",
       "      <th>298833</th>\n",
       "      <td>2019-04-30</td>\n",
       "      <td>1484669859</td>\n",
       "      <td>C013010</td>\n",
       "      <td>점퍼</td>\n",
       "      <td>[흄(HUM)]W몰 HUM 남여공용 코치자켓 바람막이점퍼 FHMECUV702P</td>\n",
       "      <td>10000</td>\n",
       "      <td>NaN</td>\n",
       "      <td>NaN</td>\n",
       "    </tr>\n",
       "    <tr>\n",
       "      <th>298834</th>\n",
       "      <td>2019-04-30</td>\n",
       "      <td>1779929690</td>\n",
       "      <td>C013010</td>\n",
       "      <td>점퍼</td>\n",
       "      <td>남성야상 남성점퍼 남자 야상점퍼 자켓 잠바 바람막이 숏 롱 간절기용 겨울용 탈부착 ...</td>\n",
       "      <td>92980</td>\n",
       "      <td>NaN</td>\n",
       "      <td>NaN</td>\n",
       "    </tr>\n",
       "    <tr>\n",
       "      <th>298835</th>\n",
       "      <td>2019-04-30</td>\n",
       "      <td>1485126001</td>\n",
       "      <td>C011020</td>\n",
       "      <td>남자상의</td>\n",
       "      <td>(color : NAVY | size : L_100) 체크 패턴 배색 데님 네이비 ...</td>\n",
       "      <td>37580</td>\n",
       "      <td>NaN</td>\n",
       "      <td>NaN</td>\n",
       "    </tr>\n",
       "    <tr>\n",
       "      <th>298836</th>\n",
       "      <td>2019-04-30</td>\n",
       "      <td>329101001</td>\n",
       "      <td>C014010</td>\n",
       "      <td>아동복</td>\n",
       "      <td>[젤리스푼]플라워롱티셔츠상하복</td>\n",
       "      <td>17900</td>\n",
       "      <td>NaN</td>\n",
       "      <td>NaN</td>\n",
       "    </tr>\n",
       "    <tr>\n",
       "      <th>298837</th>\n",
       "      <td>2019-04-30</td>\n",
       "      <td>776844370</td>\n",
       "      <td>C012050</td>\n",
       "      <td>여자하의</td>\n",
       "      <td>[오가게/아이우먼]아이우먼 밴딩 롤업 슬림핏진 MD4929M904 빅사이즈/ 아이우먼</td>\n",
       "      <td>46550</td>\n",
       "      <td>NaN</td>\n",
       "      <td>NaN</td>\n",
       "    </tr>\n",
       "    <tr>\n",
       "      <th>298838</th>\n",
       "      <td>2019-04-30</td>\n",
       "      <td>921326545</td>\n",
       "      <td>C012050</td>\n",
       "      <td>여자하의</td>\n",
       "      <td>[르샵] 일자핏 허리밴딩 면바지(LJ2PT607)</td>\n",
       "      <td>71100</td>\n",
       "      <td>NaN</td>\n",
       "      <td>NaN</td>\n",
       "    </tr>\n",
       "    <tr>\n",
       "      <th>298839</th>\n",
       "      <td>2019-04-30</td>\n",
       "      <td>1589175955</td>\n",
       "      <td>C013010</td>\n",
       "      <td>점퍼</td>\n",
       "      <td>[SOUP]뒷판 자수 바람막이 후드 점퍼(SV4UJ90)</td>\n",
       "      <td>99000</td>\n",
       "      <td>NaN</td>\n",
       "      <td>NaN</td>\n",
       "    </tr>\n",
       "    <tr>\n",
       "      <th>298840</th>\n",
       "      <td>2019-04-30</td>\n",
       "      <td>2006950378</td>\n",
       "      <td>C011040</td>\n",
       "      <td>남자하의</td>\n",
       "      <td>(사이즈 : M) JDP-068 베이직컬 하프팬츠-그레이 남성구제청바지 데님반바지 ...</td>\n",
       "      <td>30420</td>\n",
       "      <td>NaN</td>\n",
       "      <td>NaN</td>\n",
       "    </tr>\n",
       "    <tr>\n",
       "      <th>298841</th>\n",
       "      <td>2019-04-30</td>\n",
       "      <td>1734495884</td>\n",
       "      <td>L012060</td>\n",
       "      <td>샴푸</td>\n",
       "      <td>자양윤모 샴푸 샴푸 2종(지성두피용) 머리샴푸 머릿결관리 손상모발샴푸 머릿결샴푸 헤어관리</td>\n",
       "      <td>35620</td>\n",
       "      <td>NaN</td>\n",
       "      <td>NaN</td>\n",
       "    </tr>\n",
       "    <tr>\n",
       "      <th>298842</th>\n",
       "      <td>2019-04-30</td>\n",
       "      <td>1927456115</td>\n",
       "      <td>A013090</td>\n",
       "      <td>전복</td>\n",
       "      <td>[남해바다] 전복 1kg(13~15미)</td>\n",
       "      <td>65900</td>\n",
       "      <td>65900.0</td>\n",
       "      <td>0.0</td>\n",
       "    </tr>\n",
       "    <tr>\n",
       "      <th>298843</th>\n",
       "      <td>2019-04-30</td>\n",
       "      <td>1029223867</td>\n",
       "      <td>C012050</td>\n",
       "      <td>여자하의</td>\n",
       "      <td>(옵션1 : 블랙-1) 804S 줄지 슬림 스커트 DCM1927 여성패션스커트 패션...</td>\n",
       "      <td>33360</td>\n",
       "      <td>NaN</td>\n",
       "      <td>NaN</td>\n",
       "    </tr>\n",
       "    <tr>\n",
       "      <th>298844</th>\n",
       "      <td>2019-04-30</td>\n",
       "      <td>1917998337</td>\n",
       "      <td>C013020</td>\n",
       "      <td>티셔츠</td>\n",
       "      <td>(색상 : 흰색 | 사이즈 : FREE) MTS-358 싱포 맨투맨 남성맨투맨티셔츠...</td>\n",
       "      <td>15420</td>\n",
       "      <td>NaN</td>\n",
       "      <td>NaN</td>\n",
       "    </tr>\n",
       "    <tr>\n",
       "      <th>298845</th>\n",
       "      <td>2019-04-30</td>\n",
       "      <td>815310680</td>\n",
       "      <td>C014010</td>\n",
       "      <td>아동복</td>\n",
       "      <td>[플레이키즈][플레이키즈프로][130-170] NSW 테크폴리스 여아 후디 (AMF...</td>\n",
       "      <td>89000</td>\n",
       "      <td>NaN</td>\n",
       "      <td>NaN</td>\n",
       "    </tr>\n",
       "    <tr>\n",
       "      <th>298846</th>\n",
       "      <td>2019-04-30</td>\n",
       "      <td>1747545991</td>\n",
       "      <td>C012030</td>\n",
       "      <td>여자상의</td>\n",
       "      <td>(더아이잗컬렉션) 프릴끈 장식 블라우스 CJ4A0BL42/ 아이잗컬렉션</td>\n",
       "      <td>169000</td>\n",
       "      <td>NaN</td>\n",
       "      <td>NaN</td>\n",
       "    </tr>\n",
       "    <tr>\n",
       "      <th>298847</th>\n",
       "      <td>2019-04-30</td>\n",
       "      <td>672400750</td>\n",
       "      <td>C011020</td>\n",
       "      <td>남자상의</td>\n",
       "      <td>(color : Mblue | size : L_100) 핸리넥 데님 블루 셔츠 _N...</td>\n",
       "      <td>37580</td>\n",
       "      <td>NaN</td>\n",
       "      <td>NaN</td>\n",
       "    </tr>\n",
       "    <tr>\n",
       "      <th>298848</th>\n",
       "      <td>2019-04-30</td>\n",
       "      <td>732785486</td>\n",
       "      <td>A019040</td>\n",
       "      <td>소금</td>\n",
       "      <td>함초 자연소금3kg</td>\n",
       "      <td>19100</td>\n",
       "      <td>19100.0</td>\n",
       "      <td>0.0</td>\n",
       "    </tr>\n",
       "    <tr>\n",
       "      <th>298849</th>\n",
       "      <td>2019-04-30</td>\n",
       "      <td>2118547344</td>\n",
       "      <td>C013040</td>\n",
       "      <td>청바지</td>\n",
       "      <td>[포에버21]디스트로이드 슬림핏 청바지/FOREVER21/청바지/일자핏</td>\n",
       "      <td>37000</td>\n",
       "      <td>NaN</td>\n",
       "      <td>NaN</td>\n",
       "    </tr>\n",
       "  </tbody>\n",
       "</table>\n",
       "<p>7972751 rows × 8 columns</p>\n",
       "</div>"
      ],
      "text/plain": [
       "                 0           1        2      3  \\\n",
       "0       2019-04-01  2142932948  C011020   남자상의   \n",
       "1       2019-04-01  1812194343  C013020    티셔츠   \n",
       "2       2019-04-01   954865871  C014010    아동복   \n",
       "3       2019-04-01   853175004  A021010     커피   \n",
       "4       2019-04-01   826899644  A019050     간장   \n",
       "5       2019-04-01  1095655438  L012010    면도기   \n",
       "6       2019-04-01   912133680  C011050   남자내의   \n",
       "7       2019-04-01   176168123  C013010     점퍼   \n",
       "8       2019-04-01   342609665  C011040   남자하의   \n",
       "9       2019-04-01   928928755  C021030    운동화   \n",
       "10      2019-04-01   814924610  E061100  습기제거제   \n",
       "11      2019-04-01  1983249606  C013020    티셔츠   \n",
       "12      2019-04-01   878389843  C012010   여자외의   \n",
       "13      2019-04-01  1126405207  C011040   남자하의   \n",
       "14      2019-04-01  1549553626  E061100  습기제거제   \n",
       "15      2019-04-01  1904504950  A017300     미역   \n",
       "16      2019-04-01  1073659289  C013010     점퍼   \n",
       "17      2019-04-01  1152942597  C014010    아동복   \n",
       "18      2019-04-01   943429570  C011020   남자상의   \n",
       "19      2019-04-01   420987991  A016160  과일가공품   \n",
       "20      2019-04-01  1651601070  C012020    원피스   \n",
       "21      2019-04-01  1066134397  C012010   여자외의   \n",
       "22      2019-04-01  1543762550  C014010    아동복   \n",
       "23      2019-04-01  1773531765  C013010     점퍼   \n",
       "24      2019-04-01   277908766  A019090     카레   \n",
       "25      2019-04-01     4343006  C013020    티셔츠   \n",
       "26      2019-04-01  1816679970  C012010   여자외의   \n",
       "27      2019-04-01   930687441  C011040   남자하의   \n",
       "28      2019-04-01  1919980648  I053050    필기구   \n",
       "29      2019-04-01  1025273168  A019180   즉석식품   \n",
       "...            ...         ...      ...    ...   \n",
       "298820  2019-04-30  1511051984  C013020    티셔츠   \n",
       "298821  2019-04-30  2009086191  C012010   여자외의   \n",
       "298822  2019-04-30   348004141  C012010   여자외의   \n",
       "298823  2019-04-30   539666943  C014010    아동복   \n",
       "298824  2019-04-30  1530685344  L012040     치약   \n",
       "298825  2019-04-30   979302868  C013010     점퍼   \n",
       "298826  2019-04-30  1599670444  C021020     구두   \n",
       "298827  2019-04-30   780380817  C011040   남자하의   \n",
       "298828  2019-04-30   817474478  C012010   여자외의   \n",
       "298829  2019-04-30  1123426508  C013020    티셔츠   \n",
       "298830  2019-04-30   966245842  C013020    티셔츠   \n",
       "298831  2019-04-30  1926058617  C013020    티셔츠   \n",
       "298832  2019-04-30  1995938056  C011020   남자상의   \n",
       "298833  2019-04-30  1484669859  C013010     점퍼   \n",
       "298834  2019-04-30  1779929690  C013010     점퍼   \n",
       "298835  2019-04-30  1485126001  C011020   남자상의   \n",
       "298836  2019-04-30   329101001  C014010    아동복   \n",
       "298837  2019-04-30   776844370  C012050   여자하의   \n",
       "298838  2019-04-30   921326545  C012050   여자하의   \n",
       "298839  2019-04-30  1589175955  C013010     점퍼   \n",
       "298840  2019-04-30  2006950378  C011040   남자하의   \n",
       "298841  2019-04-30  1734495884  L012060     샴푸   \n",
       "298842  2019-04-30  1927456115  A013090     전복   \n",
       "298843  2019-04-30  1029223867  C012050   여자하의   \n",
       "298844  2019-04-30  1917998337  C013020    티셔츠   \n",
       "298845  2019-04-30   815310680  C014010    아동복   \n",
       "298846  2019-04-30  1747545991  C012030   여자상의   \n",
       "298847  2019-04-30   672400750  C011020   남자상의   \n",
       "298848  2019-04-30   732785486  A019040     소금   \n",
       "298849  2019-04-30  2118547344  C013040    청바지   \n",
       "\n",
       "                                                        4       5        6  \\\n",
       "0       (사이즈 : RFCB2021 shirts 110) 슬림핏)링클프리 고급모달 블루 반...   44540      NaN   \n",
       "1                          폴햄 공용슬럽브이넥반팔티셔츠(차콜) PHZ2TR3840    9900      NaN   \n",
       "2                             프렌치캣Q92DKJ040 연보라 프릴 바람막이JP   76000      NaN   \n",
       "3       [맥널티] 아이브루 케냐AA 30T+10T 인스턴트커피믹스 원두커피 케냐AA 인스턴...   16260      NaN   \n",
       "4       채선해 어간장 세트1(대멸치350g+어간장650ml) 어간장선물세트 실속선물세트 직...   37970      NaN   \n",
       "5        도루코페이스6면도날-4P SX-A1040 면도 얼굴면도기 도루코 도루코면도기 미용면도기   20450      NaN   \n",
       "6                       Dossy 남성 드로즈 빅사이즈 110 120 남성드로즈팬티   16700      NaN   \n",
       "7                                   씨저스 퀼팅점퍼 1F2-1JE01-24  143000      NaN   \n",
       "8                                     스키니핏팬츠_1X511EP706NA    9900      NaN   \n",
       "9                             투벨크로 아동단화 운동화 아동화 아동운동화 어린이   27700      NaN   \n",
       "10                          [F] 첼로제습제 20g 10개 - 데시칸-B 친환경    2400   2280.0   \n",
       "11                  네이비 로고배색 면혼방 반팔카라티셔츠 HZTS9B003N2/ 헤지스  129000      NaN   \n",
       "12                          케네스레이디 체크소매배색트렌치코트 EWTCJB0200  269000      NaN   \n",
       "13                                 랜더스 바람막이 자켓(JK125) 코발트   29300      NaN   \n",
       "14                         홈트너 옷장용제습제(120g) 습기제거제 제습제 10개   15210      NaN   \n",
       "15                      (2)미역(자른 차오름 1KG 국산)X5개/건미역 미역 말린  114520      NaN   \n",
       "16            [써스데이아일랜드]배색 프린트 소매 숏 점퍼 (T194MJP232W)(경기점)  249000      NaN   \n",
       "17                            프렌치캣 Q92DCJ070 WH프릴 스카시 C.D   63000      NaN   \n",
       "18                     [JEEP]남여공용 소매 배색 7부 티셔츠(JH2TSU064)   18000      NaN   \n",
       "19                             [홈플러스]simplus_냉동체리칠레산_500G    5990      NaN   \n",
       "20                       로즈민소매원피스 1025139 DRESS 쉬폰 레이스원피스   93370      NaN   \n",
       "21         [르오트] (TV홈쇼핑방송/무료배송) 쿨링시크 냉감 밴딩 팬츠-사이즈 55∼88다양    5900      NaN   \n",
       "22                         [ 빈 ] BT21TS05GN남아 포켓배색 그린 티셔츠   48000      NaN   \n",
       "23                            [올리비아하슬러]OH8MJP104 네크 셔링 점퍼   79900      NaN   \n",
       "24      [청정원] 병아리콩 빈달루 커리소스 360g 빈달루카레소스 병커리 인도식커리 커리소...   18170      NaN   \n",
       "25                       [반에이크]루즈핏 후드 티셔츠(VA94TSQ349Z_DG)   39800      NaN   \n",
       "26                               SOUP 벨트 숏 트렌치 코트 SV4BB90   87000      NaN   \n",
       "27                                   지오다노 슬림핏 치노팬츠 117922   15000      NaN   \n",
       "28                            [바보사랑]쿠츠와 제트스트림3 푸마 3색펜 0.5    9000   9000.0   \n",
       "29                                            두마리후라이드반반치킨   14990  14990.0   \n",
       "...                                                   ...     ...      ...   \n",
       "298820         [행텐] 남성 5부 포켓 티셔츠 (10170-031-461-05) NC아울렛   19800      NaN   \n",
       "298821  [크로커다일레이디스][크로커다일레이디] 코트 CL9MCT102_BL (P000577...  129500      NaN   \n",
       "298822                    [에꼴][18년 겨울]소매퍼 울코트(C91WCA001Z)  383200      NaN   \n",
       "298823                  [모다아울렛][페리미츠]쿨맥스 옐로우티셔츠 P1825T533    9300      NaN   \n",
       "298824                               클리오 도라에몽 민트치약 80g x1    3500   3500.0   \n",
       "298825                   [모다아울렛][앤듀](앤듀)홑겹 항공점퍼O185Z1001P   49000      NaN   \n",
       "298826                          [스미스마켓] 모스키노 페이던트 구두 여성구두   77000      NaN   \n",
       "298827              CP컴퍼니 19SS 06CMSS051A 103 렌즈 트레이닝 반바지  185480      NaN   \n",
       "298828                                베이직 더블자켓 SV1JK37/ 숲   99500      NaN   \n",
       "298829                   [캉골][AK분당점][캉골]키치 심볼 티셔츠 2592 네온   52000      NaN   \n",
       "298830        헤지스골프 남성 블랙 컬러블록 반팔카라티셔츠 HUTS9B316BK/ 헤지스골프  142200      NaN   \n",
       "298831        [마인드브릿지]마인드브릿지 CP스판섭섭만세와펜포켓세미오버티셔츠 MTTS3163   39900      NaN   \n",
       "298832  디스퀘어드2 셔츠(소매데님)프린팅 남방 중고 구제 캐주얼 배색 봄 가을 기본 남성용...   48000      NaN   \n",
       "298833        [흄(HUM)]W몰 HUM 남여공용 코치자켓 바람막이점퍼 FHMECUV702P   10000      NaN   \n",
       "298834  남성야상 남성점퍼 남자 야상점퍼 자켓 잠바 바람막이 숏 롱 간절기용 겨울용 탈부착 ...   92980      NaN   \n",
       "298835  (color : NAVY | size : L_100) 체크 패턴 배색 데님 네이비 ...   37580      NaN   \n",
       "298836                                   [젤리스푼]플라워롱티셔츠상하복   17900      NaN   \n",
       "298837    [오가게/아이우먼]아이우먼 밴딩 롤업 슬림핏진 MD4929M904 빅사이즈/ 아이우먼   46550      NaN   \n",
       "298838                        [르샵] 일자핏 허리밴딩 면바지(LJ2PT607)   71100      NaN   \n",
       "298839                    [SOUP]뒷판 자수 바람막이 후드 점퍼(SV4UJ90)   99000      NaN   \n",
       "298840  (사이즈 : M) JDP-068 베이직컬 하프팬츠-그레이 남성구제청바지 데님반바지 ...   30420      NaN   \n",
       "298841  자양윤모 샴푸 샴푸 2종(지성두피용) 머리샴푸 머릿결관리 손상모발샴푸 머릿결샴푸 헤어관리   35620      NaN   \n",
       "298842                              [남해바다] 전복 1kg(13~15미)   65900  65900.0   \n",
       "298843  (옵션1 : 블랙-1) 804S 줄지 슬림 스커트 DCM1927 여성패션스커트 패션...   33360      NaN   \n",
       "298844  (색상 : 흰색 | 사이즈 : FREE) MTS-358 싱포 맨투맨 남성맨투맨티셔츠...   15420      NaN   \n",
       "298845  [플레이키즈][플레이키즈프로][130-170] NSW 테크폴리스 여아 후디 (AMF...   89000      NaN   \n",
       "298846            (더아이잗컬렉션) 프릴끈 장식 블라우스 CJ4A0BL42/ 아이잗컬렉션  169000      NaN   \n",
       "298847  (color : Mblue | size : L_100) 핸리넥 데님 블루 셔츠 _N...   37580      NaN   \n",
       "298848                                         함초 자연소금3kg   19100  19100.0   \n",
       "298849            [포에버21]디스트로이드 슬림핏 청바지/FOREVER21/청바지/일자핏   37000      NaN   \n",
       "\n",
       "            7  \n",
       "0         NaN  \n",
       "1         NaN  \n",
       "2         NaN  \n",
       "3         NaN  \n",
       "4         NaN  \n",
       "5         NaN  \n",
       "6         NaN  \n",
       "7         NaN  \n",
       "8         NaN  \n",
       "9         NaN  \n",
       "10     -120.0  \n",
       "11        NaN  \n",
       "12        NaN  \n",
       "13        NaN  \n",
       "14        NaN  \n",
       "15        NaN  \n",
       "16        NaN  \n",
       "17        NaN  \n",
       "18        NaN  \n",
       "19        NaN  \n",
       "20        NaN  \n",
       "21        NaN  \n",
       "22        NaN  \n",
       "23        NaN  \n",
       "24        NaN  \n",
       "25        NaN  \n",
       "26        NaN  \n",
       "27        NaN  \n",
       "28        0.0  \n",
       "29        0.0  \n",
       "...       ...  \n",
       "298820    NaN  \n",
       "298821    NaN  \n",
       "298822    NaN  \n",
       "298823    NaN  \n",
       "298824    0.0  \n",
       "298825    NaN  \n",
       "298826    NaN  \n",
       "298827    NaN  \n",
       "298828    NaN  \n",
       "298829    NaN  \n",
       "298830    NaN  \n",
       "298831    NaN  \n",
       "298832    NaN  \n",
       "298833    NaN  \n",
       "298834    NaN  \n",
       "298835    NaN  \n",
       "298836    NaN  \n",
       "298837    NaN  \n",
       "298838    NaN  \n",
       "298839    NaN  \n",
       "298840    NaN  \n",
       "298841    NaN  \n",
       "298842    0.0  \n",
       "298843    NaN  \n",
       "298844    NaN  \n",
       "298845    NaN  \n",
       "298846    NaN  \n",
       "298847    NaN  \n",
       "298848    0.0  \n",
       "298849    NaN  \n",
       "\n",
       "[7972751 rows x 8 columns]"
      ]
     },
     "execution_count": 196,
     "metadata": {},
     "output_type": "execute_result"
    }
   ],
   "source": [
    "df1"
   ]
  },
  {
   "cell_type": "code",
   "execution_count": 227,
   "metadata": {},
   "outputs": [
    {
     "data": {
      "text/plain": [
       "'C:\\\\Users\\\\Funzo\\\\python gicho\\\\datasets\\\\201904\\\\2019-04-01.csv'"
      ]
     },
     "execution_count": 227,
     "metadata": {},
     "output_type": "execute_result"
    }
   ],
   "source": [
    "file1"
   ]
  },
  {
   "cell_type": "code",
   "execution_count": 229,
   "metadata": {},
   "outputs": [
    {
     "name": "stdout",
     "output_type": "stream",
     "text": [
      "<class 'pandas.core.frame.DataFrame'>\n",
      "Int64Index: 7972751 entries, 0 to 298849\n",
      "Data columns (total 8 columns):\n",
      "0    object\n",
      "1    int64\n",
      "2    object\n",
      "3    object\n",
      "4    object\n",
      "5    int64\n",
      "6    float64\n",
      "7    float64\n",
      "dtypes: float64(2), int64(2), object(4)\n",
      "memory usage: 547.4+ MB\n"
     ]
    }
   ],
   "source": [
    "df1.info()"
   ]
  },
  {
   "cell_type": "code",
   "execution_count": 230,
   "metadata": {},
   "outputs": [
    {
     "data": {
      "text/html": [
       "<div>\n",
       "<style scoped>\n",
       "    .dataframe tbody tr th:only-of-type {\n",
       "        vertical-align: middle;\n",
       "    }\n",
       "\n",
       "    .dataframe tbody tr th {\n",
       "        vertical-align: top;\n",
       "    }\n",
       "\n",
       "    .dataframe thead th {\n",
       "        text-align: right;\n",
       "    }\n",
       "</style>\n",
       "<table border=\"1\" class=\"dataframe\">\n",
       "  <thead>\n",
       "    <tr style=\"text-align: right;\">\n",
       "      <th></th>\n",
       "      <th>0</th>\n",
       "      <th>1</th>\n",
       "      <th>2</th>\n",
       "      <th>3</th>\n",
       "      <th>4</th>\n",
       "      <th>5</th>\n",
       "      <th>6</th>\n",
       "      <th>7</th>\n",
       "    </tr>\n",
       "  </thead>\n",
       "  <tbody>\n",
       "    <tr>\n",
       "      <th>0</th>\n",
       "      <td>2019-04-01</td>\n",
       "      <td>2142932948</td>\n",
       "      <td>C011020</td>\n",
       "      <td>남자상의</td>\n",
       "      <td>(사이즈 : RFCB2021 shirts 110) 슬림핏)링클프리 고급모달 블루 반...</td>\n",
       "      <td>44540</td>\n",
       "      <td>NaN</td>\n",
       "      <td>NaN</td>\n",
       "    </tr>\n",
       "    <tr>\n",
       "      <th>1</th>\n",
       "      <td>2019-04-01</td>\n",
       "      <td>1812194343</td>\n",
       "      <td>C013020</td>\n",
       "      <td>티셔츠</td>\n",
       "      <td>폴햄 공용슬럽브이넥반팔티셔츠(차콜) PHZ2TR3840</td>\n",
       "      <td>9900</td>\n",
       "      <td>NaN</td>\n",
       "      <td>NaN</td>\n",
       "    </tr>\n",
       "    <tr>\n",
       "      <th>2</th>\n",
       "      <td>2019-04-01</td>\n",
       "      <td>954865871</td>\n",
       "      <td>C014010</td>\n",
       "      <td>아동복</td>\n",
       "      <td>프렌치캣Q92DKJ040 연보라 프릴 바람막이JP</td>\n",
       "      <td>76000</td>\n",
       "      <td>NaN</td>\n",
       "      <td>NaN</td>\n",
       "    </tr>\n",
       "    <tr>\n",
       "      <th>3</th>\n",
       "      <td>2019-04-01</td>\n",
       "      <td>853175004</td>\n",
       "      <td>A021010</td>\n",
       "      <td>커피</td>\n",
       "      <td>[맥널티] 아이브루 케냐AA 30T+10T 인스턴트커피믹스 원두커피 케냐AA 인스턴...</td>\n",
       "      <td>16260</td>\n",
       "      <td>NaN</td>\n",
       "      <td>NaN</td>\n",
       "    </tr>\n",
       "    <tr>\n",
       "      <th>4</th>\n",
       "      <td>2019-04-01</td>\n",
       "      <td>826899644</td>\n",
       "      <td>A019050</td>\n",
       "      <td>간장</td>\n",
       "      <td>채선해 어간장 세트1(대멸치350g+어간장650ml) 어간장선물세트 실속선물세트 직...</td>\n",
       "      <td>37970</td>\n",
       "      <td>NaN</td>\n",
       "      <td>NaN</td>\n",
       "    </tr>\n",
       "  </tbody>\n",
       "</table>\n",
       "</div>"
      ],
      "text/plain": [
       "            0           1        2     3  \\\n",
       "0  2019-04-01  2142932948  C011020  남자상의   \n",
       "1  2019-04-01  1812194343  C013020   티셔츠   \n",
       "2  2019-04-01   954865871  C014010   아동복   \n",
       "3  2019-04-01   853175004  A021010    커피   \n",
       "4  2019-04-01   826899644  A019050    간장   \n",
       "\n",
       "                                                   4      5   6   7  \n",
       "0  (사이즈 : RFCB2021 shirts 110) 슬림핏)링클프리 고급모달 블루 반...  44540 NaN NaN  \n",
       "1                     폴햄 공용슬럽브이넥반팔티셔츠(차콜) PHZ2TR3840   9900 NaN NaN  \n",
       "2                        프렌치캣Q92DKJ040 연보라 프릴 바람막이JP  76000 NaN NaN  \n",
       "3  [맥널티] 아이브루 케냐AA 30T+10T 인스턴트커피믹스 원두커피 케냐AA 인스턴...  16260 NaN NaN  \n",
       "4  채선해 어간장 세트1(대멸치350g+어간장650ml) 어간장선물세트 실속선물세트 직...  37970 NaN NaN  "
      ]
     },
     "execution_count": 230,
     "metadata": {},
     "output_type": "execute_result"
    }
   ],
   "source": [
    "df1.head()"
   ]
  },
  {
   "cell_type": "code",
   "execution_count": 231,
   "metadata": {},
   "outputs": [
    {
     "data": {
      "text/html": [
       "<div>\n",
       "<style scoped>\n",
       "    .dataframe tbody tr th:only-of-type {\n",
       "        vertical-align: middle;\n",
       "    }\n",
       "\n",
       "    .dataframe tbody tr th {\n",
       "        vertical-align: top;\n",
       "    }\n",
       "\n",
       "    .dataframe thead th {\n",
       "        text-align: right;\n",
       "    }\n",
       "</style>\n",
       "<table border=\"1\" class=\"dataframe\">\n",
       "  <thead>\n",
       "    <tr style=\"text-align: right;\">\n",
       "      <th></th>\n",
       "      <th>0</th>\n",
       "      <th>1</th>\n",
       "      <th>2</th>\n",
       "      <th>3</th>\n",
       "      <th>4</th>\n",
       "      <th>5</th>\n",
       "      <th>6</th>\n",
       "      <th>7</th>\n",
       "    </tr>\n",
       "  </thead>\n",
       "  <tbody>\n",
       "    <tr>\n",
       "      <th>298845</th>\n",
       "      <td>2019-04-30</td>\n",
       "      <td>815310680</td>\n",
       "      <td>C014010</td>\n",
       "      <td>아동복</td>\n",
       "      <td>[플레이키즈][플레이키즈프로][130-170] NSW 테크폴리스 여아 후디 (AMF...</td>\n",
       "      <td>89000</td>\n",
       "      <td>NaN</td>\n",
       "      <td>NaN</td>\n",
       "    </tr>\n",
       "    <tr>\n",
       "      <th>298846</th>\n",
       "      <td>2019-04-30</td>\n",
       "      <td>1747545991</td>\n",
       "      <td>C012030</td>\n",
       "      <td>여자상의</td>\n",
       "      <td>(더아이잗컬렉션) 프릴끈 장식 블라우스 CJ4A0BL42/ 아이잗컬렉션</td>\n",
       "      <td>169000</td>\n",
       "      <td>NaN</td>\n",
       "      <td>NaN</td>\n",
       "    </tr>\n",
       "    <tr>\n",
       "      <th>298847</th>\n",
       "      <td>2019-04-30</td>\n",
       "      <td>672400750</td>\n",
       "      <td>C011020</td>\n",
       "      <td>남자상의</td>\n",
       "      <td>(color : Mblue | size : L_100) 핸리넥 데님 블루 셔츠 _N...</td>\n",
       "      <td>37580</td>\n",
       "      <td>NaN</td>\n",
       "      <td>NaN</td>\n",
       "    </tr>\n",
       "    <tr>\n",
       "      <th>298848</th>\n",
       "      <td>2019-04-30</td>\n",
       "      <td>732785486</td>\n",
       "      <td>A019040</td>\n",
       "      <td>소금</td>\n",
       "      <td>함초 자연소금3kg</td>\n",
       "      <td>19100</td>\n",
       "      <td>19100.0</td>\n",
       "      <td>0.0</td>\n",
       "    </tr>\n",
       "    <tr>\n",
       "      <th>298849</th>\n",
       "      <td>2019-04-30</td>\n",
       "      <td>2118547344</td>\n",
       "      <td>C013040</td>\n",
       "      <td>청바지</td>\n",
       "      <td>[포에버21]디스트로이드 슬림핏 청바지/FOREVER21/청바지/일자핏</td>\n",
       "      <td>37000</td>\n",
       "      <td>NaN</td>\n",
       "      <td>NaN</td>\n",
       "    </tr>\n",
       "  </tbody>\n",
       "</table>\n",
       "</div>"
      ],
      "text/plain": [
       "                 0           1        2     3  \\\n",
       "298845  2019-04-30   815310680  C014010   아동복   \n",
       "298846  2019-04-30  1747545991  C012030  여자상의   \n",
       "298847  2019-04-30   672400750  C011020  남자상의   \n",
       "298848  2019-04-30   732785486  A019040    소금   \n",
       "298849  2019-04-30  2118547344  C013040   청바지   \n",
       "\n",
       "                                                        4       5        6  \\\n",
       "298845  [플레이키즈][플레이키즈프로][130-170] NSW 테크폴리스 여아 후디 (AMF...   89000      NaN   \n",
       "298846            (더아이잗컬렉션) 프릴끈 장식 블라우스 CJ4A0BL42/ 아이잗컬렉션  169000      NaN   \n",
       "298847  (color : Mblue | size : L_100) 핸리넥 데님 블루 셔츠 _N...   37580      NaN   \n",
       "298848                                         함초 자연소금3kg   19100  19100.0   \n",
       "298849            [포에버21]디스트로이드 슬림핏 청바지/FOREVER21/청바지/일자핏   37000      NaN   \n",
       "\n",
       "          7  \n",
       "298845  NaN  \n",
       "298846  NaN  \n",
       "298847  NaN  \n",
       "298848  0.0  \n",
       "298849  NaN  "
      ]
     },
     "execution_count": 231,
     "metadata": {},
     "output_type": "execute_result"
    }
   ],
   "source": [
    "df1.tail()"
   ]
  },
  {
   "cell_type": "code",
   "execution_count": 220,
   "metadata": {},
   "outputs": [
    {
     "data": {
      "text/plain": [
       "7972751"
      ]
     },
     "execution_count": 220,
     "metadata": {},
     "output_type": "execute_result"
    }
   ],
   "source": [
    "len(df1)"
   ]
  },
  {
   "cell_type": "code",
   "execution_count": 219,
   "metadata": {},
   "outputs": [
    {
     "data": {
      "text/plain": [
       "374346"
      ]
     },
     "execution_count": 219,
     "metadata": {},
     "output_type": "execute_result"
    }
   ],
   "source": [
    "len(df1[df1[3]=='남자상의'])"
   ]
  },
  {
   "cell_type": "code",
   "execution_count": 213,
   "metadata": {},
   "outputs": [],
   "source": [
    "man_top = df1[df1[3]=='남자상의']\n",
    "man_top.to_csv(\"man_top.csv\",encoding = \"cp949\")"
   ]
  },
  {
   "cell_type": "code",
   "execution_count": 226,
   "metadata": {},
   "outputs": [
    {
     "name": "stdout",
     "output_type": "stream",
     "text": [
      "2019-04-01\n",
      "2019-04-02\n",
      "2019-04-03\n",
      "2019-04-04\n",
      "2019-04-05\n",
      "2019-04-06\n",
      "2019-04-07\n",
      "2019-04-08\n",
      "2019-04-09\n",
      "2019-04-10\n"
     ]
    }
   ],
   "source": [
    "#정답코드 만들기 전 날짜인덱스 만들어보기\n",
    "for x in pd.date_range('2019-04-01', periods = 10, freq = 'D'):\n",
    "    print(x.strftime('%Y-%m-%d'))"
   ]
  },
  {
   "cell_type": "code",
   "execution_count": null,
   "metadata": {},
   "outputs": [],
   "source": [
    "#이거 실행하면 또 통합본 만듦\n",
    "#이게 더 메모리 절약할듯...\n",
    "initial_file = os.path.join(DATASET_PATH, \"2019-04-01.csv\")\n",
    "\n",
    "o_df = pd.read_csv(initial_file, header = None, error_bad_lines = False)\n",
    "for x in pd.date_range('2019-04-01', periods = 29, freq = 'D'):\n",
    "    date=(x.strftime('%Y-%m-%d'))\n",
    "    filename=\"{}.csv\".format(date)\n",
    "    \n",
    "    filepath = os.path.join(DATASET_PATH, filename)\n",
    "    df=pd.read_csv(filepath, header=None, error_bad_lines = False)\n",
    "    o_df = o_df.append(df)"
   ]
  },
  {
   "cell_type": "code",
   "execution_count": 228,
   "metadata": {},
   "outputs": [
    {
     "name": "stderr",
     "output_type": "stream",
     "text": [
      "b'Skipping line 36560: expected 8 fields, saw 11\\n'\n"
     ]
    },
    {
     "name": "stdout",
     "output_type": "stream",
     "text": [
      "<class 'pandas.core.frame.DataFrame'>\n",
      "RangeIndex: 208747 entries, 0 to 208746\n",
      "Data columns (total 8 columns):\n",
      "0    208747 non-null object\n",
      "1    208747 non-null int64\n",
      "2    208747 non-null object\n",
      "3    208747 non-null object\n",
      "4    208747 non-null object\n",
      "5    208747 non-null int64\n",
      "6    26633 non-null float64\n",
      "7    26633 non-null float64\n",
      "dtypes: float64(2), int64(2), object(4)\n",
      "memory usage: 12.7+ MB\n"
     ]
    }
   ],
   "source": [
    "#위 코드 중 윗부분 실험\n",
    "\n",
    "initial_file = os.path.join(DATASET_PATH, \"2019-04-01.csv\")\n",
    "\n",
    "o_df = pd.read_csv(initial_file, header = None, error_bad_lines = False)\n",
    "o_df.info()"
   ]
  },
  {
   "cell_type": "code",
   "execution_count": null,
   "metadata": {},
   "outputs": [],
   "source": []
  }
 ],
 "metadata": {
  "kernelspec": {
   "display_name": "Python 3",
   "language": "python",
   "name": "python3"
  },
  "language_info": {
   "codemirror_mode": {
    "name": "ipython",
    "version": 3
   },
   "file_extension": ".py",
   "mimetype": "text/x-python",
   "name": "python",
   "nbconvert_exporter": "python",
   "pygments_lexer": "ipython3",
   "version": "3.7.3"
  }
 },
 "nbformat": 4,
 "nbformat_minor": 2
}
