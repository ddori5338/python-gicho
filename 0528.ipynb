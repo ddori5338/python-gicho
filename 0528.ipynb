{
 "cells": [
  {
   "cell_type": "code",
   "execution_count": 15,
   "metadata": {},
   "outputs": [
    {
     "name": "stdout",
     "output_type": "stream",
     "text": [
      "5를 입력하면 반복이 중단됩니다 : 5\n",
      "중단\n"
     ]
    }
   ],
   "source": [
    "i=0\n",
    "while i != 5:\n",
    "    i = int(input('5를 입력하면 반복이 중단됩니다 : '))\n",
    "\n",
    "print('중단')"
   ]
  },
  {
   "cell_type": "code",
   "execution_count": 12,
   "metadata": {},
   "outputs": [
    {
     "name": "stdout",
     "output_type": "stream",
     "text": [
      "중단\n"
     ]
    }
   ],
   "source": [
    "print('중단')"
   ]
  },
  {
   "cell_type": "markdown",
   "metadata": {},
   "source": [
    "# 연습문제 5"
   ]
  },
  {
   "cell_type": "code",
   "execution_count": 5,
   "metadata": {},
   "outputs": [
    {
     "name": "stdout",
     "output_type": "stream",
     "text": [
      "숫자를 입력하세요: s\n",
      "0\n"
     ]
    }
   ],
   "source": [
    "num = '0'\n",
    "total = 0\n",
    "\n",
    "while num.upper()!='S':\n",
    "    total += int(num)\n",
    "    num = input('숫자를 입력하세요: ')\n",
    "    \n",
    "print(total)"
   ]
  },
  {
   "cell_type": "code",
   "execution_count": 16,
   "metadata": {},
   "outputs": [
    {
     "name": "stdout",
     "output_type": "stream",
     "text": [
      "숫자를 입력하세요: s\n",
      "0\n"
     ]
    }
   ],
   "source": [
    "num = 0\n",
    "total = 0\n",
    "\n",
    "while str(num).lower()!='s':\n",
    "    total += int(num)\n",
    "    num = input('숫자를 입력하세요: ')\n",
    "    \n",
    "print(total)"
   ]
  },
  {
   "cell_type": "code",
   "execution_count": 5,
   "metadata": {},
   "outputs": [
    {
     "name": "stdout",
     "output_type": "stream",
     "text": [
      "숫자를 입력하세요: 5\n",
      "숫자를 입력하세요: 4\n",
      "숫자를 입력하세요: s\n",
      "9\n"
     ]
    }
   ],
   "source": [
    "num = 0\n",
    "total = 0\n",
    "\n",
    "while not(num=='S' or num=='s'):\n",
    "    total += int(num)\n",
    "    num = input('숫자를 입력하세요: ')\n",
    "    \n",
    "print(total)"
   ]
  },
  {
   "cell_type": "code",
   "execution_count": 10,
   "metadata": {},
   "outputs": [
    {
     "name": "stdout",
     "output_type": "stream",
     "text": [
      "숫자를 입력하세요: 5\n",
      "숫자를 입력하세요: 4\n",
      "숫자를 입력하세요: s\n",
      "9\n"
     ]
    }
   ],
   "source": [
    "num = 0\n",
    "total = 0\n",
    "\n",
    "while num!='s' and num!='S':\n",
    "    total += int(num)\n",
    "    num = (input('숫자를 입력하세요: '))\n",
    "    \n",
    "print(total)"
   ]
  },
  {
   "cell_type": "code",
   "execution_count": 8,
   "metadata": {},
   "outputs": [
    {
     "name": "stdout",
     "output_type": "stream",
     "text": [
      "0\n",
      "1\n",
      "2\n",
      "3\n",
      "4\n",
      "중단되었습니다\n"
     ]
    }
   ],
   "source": [
    "i = 0\n",
    "while i<5:\n",
    "    print(i)\n",
    "    i+=1\n",
    "else:\n",
    "    print('중단되었습니다')\n",
    "#while에도 else문을 쓸 수 있지만 보통 잘 쓰이진 않는다."
   ]
  },
  {
   "cell_type": "markdown",
   "metadata": {},
   "source": [
    "# 연습문제6 - 가위바위보 게임"
   ]
  },
  {
   "cell_type": "code",
   "execution_count": 54,
   "metadata": {},
   "outputs": [
    {
     "name": "stdout",
     "output_type": "stream",
     "text": [
      "0.7921437015240522\n",
      "2\n",
      "가위(1), 바위(2), 보(3) 을 입력해주세요! :\n",
      "게임종료 (전체:3 ,승리:1)\n",
      "유저 : 보, 컴퓨터 : 보\n"
     ]
    }
   ],
   "source": [
    "import random\n",
    "print(random.random())\n",
    "print(random.randint(1,3))\n",
    "print('가위(1), 바위(2), 보(3) 을 입력해주세요! :')\n",
    "print('게임종료 (전체:3 ,승리:1)')\n",
    "print('유저 : 보, 컴퓨터 : 보')"
   ]
  },
  {
   "cell_type": "code",
   "execution_count": 3,
   "metadata": {},
   "outputs": [
    {
     "name": "stdout",
     "output_type": "stream",
     "text": [
      "가위(1), 바위(2), 보(3) 을 입력해주세요! :1\n",
      "유저 : 가위, 컴퓨터 : 가위\n",
      "가위(1), 바위(2), 보(3) 을 입력해주세요! :2\n",
      "유저 : 바위, 컴퓨터 : 바위\n",
      "가위(1), 바위(2), 보(3) 을 입력해주세요! :3\n",
      "유저 : 보, 컴퓨터 : 가위\n",
      "가위(1), 바위(2), 보(3) 을 입력해주세요! :4\n",
      "게임종료 (전체 : 3, 승리 : 0, 비김 : 2)\n"
     ]
    }
   ],
   "source": [
    "game_count = 0\n",
    "\n",
    "win = 0\n",
    "lose = 0\n",
    "draw = 0\n",
    "\n",
    "while 1:\n",
    "    \n",
    "    #선택지 결정\n",
    "    user = int(input('가위(1), 바위(2), 보(3) 을 입력해주세요! :'))\n",
    "    com = random.randint(1,3)\n",
    "    \n",
    "    #유저가 1,2,3을 입력하지 않으면 게임 중단\n",
    "    if user not in [1,2,3]:\n",
    "        break\n",
    "    \n",
    "    #승패 결정\n",
    "    if (user == 1 and com == 2) or(user == 2 and com == 3) or (user == 3 and com == 1) :\n",
    "        lose += 1\n",
    "    if (user == 2 and com == 1) or (user == 3 and com == 2) or (user == 1 and com == 3):\n",
    "        win += 1\n",
    "    if (user == com):\n",
    "        draw += 1\n",
    "   \n",
    "    #문자변환\n",
    "    if user == 3:\n",
    "        user = '보'\n",
    "    elif user == 2:\n",
    "        user = '바위'\n",
    "    elif user == 1:\n",
    "        user = '가위'\n",
    "        \n",
    "    if com == 3:\n",
    "        com = '보'\n",
    "    elif com == 2:\n",
    "        com = '바위'\n",
    "    elif com == 1:\n",
    "        com = '가위'\n",
    "    \n",
    "    #승부출력\n",
    "    print('유저 : {0}, 컴퓨터 : {1}'.format(user, com))\n",
    "    \n",
    "    #게임횟수 카운트\n",
    "    game_count+=1\n",
    "\n",
    "print('게임종료 (전체 : {0}, 승리 : {1}, 비김 : {2})'.format(game_count, win, draw))"
   ]
  },
  {
   "cell_type": "code",
   "execution_count": null,
   "metadata": {},
   "outputs": [],
   "source": [
    "game_count = 0\n",
    "\n",
    "win = 0\n",
    "lose = 0\n",
    "draw = 0\n",
    "\n",
    "while user in [1,2,3]:\n",
    "    \n",
    "    #선택지 결정\n",
    "    user = int(input('가위(1), 바위(2), 보(3) 을 입력해주세요! :'))\n",
    "    com = random.randint(1,3)\n",
    "    \n",
    "    #승패 결정\n",
    "    if (user == 1 and com == 2) or(user == 2 and com == 3) or (user == 3 and com == 1) :\n",
    "        lose += 1\n",
    "    if (user == 2 and com == 1) or (user == 3 and com == 2) or (user == 1 and com == 3):\n",
    "        win += 1\n",
    "    if (user == com):\n",
    "        draw += 1\n",
    "   \n",
    "    \n",
    "    #문자변환\n",
    "    if user == 3:\n",
    "        user = '보'\n",
    "    elif user == 2:\n",
    "        user = '바위'\n",
    "    elif user == 1:\n",
    "        user = '가위'\n",
    "        \n",
    "    if com == 3:\n",
    "        com = '보'\n",
    "    elif com == 2:\n",
    "        com = '바위'\n",
    "    elif com == 1:\n",
    "        com = '가위'\n",
    "    \n",
    "    #승부출력\n",
    "    print('유저 : {0}, 컴퓨터 : {1}'.format(user, com))\n",
    "    \n",
    "    #게임횟수 카운트\n",
    "    game_count+=1\n",
    "\n",
    "print('게임종료 (전체 : {0}, 승리 : {1}, 비김 : {2})'.format(game_count, win, draw))"
   ]
  },
  {
   "cell_type": "markdown",
   "metadata": {},
   "source": [
    "# 연습문제 7"
   ]
  },
  {
   "cell_type": "code",
   "execution_count": 47,
   "metadata": {
    "scrolled": true
   },
   "outputs": [
    {
     "ename": "IndexError",
     "evalue": "list assignment index out of range",
     "output_type": "error",
     "traceback": [
      "\u001b[1;31m---------------------------------------------------------------------------\u001b[0m",
      "\u001b[1;31mIndexError\u001b[0m                                Traceback (most recent call last)",
      "\u001b[1;32m<ipython-input-47-83d503e938df>\u001b[0m in \u001b[0;36m<module>\u001b[1;34m\u001b[0m\n\u001b[0;32m      2\u001b[0m \u001b[0ml1\u001b[0m \u001b[1;33m=\u001b[0m \u001b[1;33m[\u001b[0m\u001b[1;33m]\u001b[0m\u001b[1;33m\u001b[0m\u001b[1;33m\u001b[0m\u001b[0m\n\u001b[0;32m      3\u001b[0m \u001b[1;32mfor\u001b[0m \u001b[0mi\u001b[0m \u001b[1;32min\u001b[0m \u001b[0mrange\u001b[0m\u001b[1;33m(\u001b[0m\u001b[1;36m101\u001b[0m\u001b[1;33m)\u001b[0m\u001b[1;33m:\u001b[0m\u001b[1;33m\u001b[0m\u001b[1;33m\u001b[0m\u001b[0m\n\u001b[1;32m----> 4\u001b[1;33m     \u001b[0ml1\u001b[0m\u001b[1;33m[\u001b[0m\u001b[0mi\u001b[0m\u001b[1;33m]\u001b[0m \u001b[1;33m=\u001b[0m \u001b[0mrandom\u001b[0m\u001b[1;33m.\u001b[0m\u001b[0mrandint\u001b[0m\u001b[1;33m(\u001b[0m\u001b[1;36m1\u001b[0m\u001b[1;33m,\u001b[0m\u001b[1;36m1000\u001b[0m\u001b[1;33m)\u001b[0m\u001b[1;33m\u001b[0m\u001b[1;33m\u001b[0m\u001b[0m\n\u001b[0m\u001b[0;32m      5\u001b[0m \u001b[0mprint\u001b[0m\u001b[1;33m(\u001b[0m\u001b[0mmax\u001b[0m\u001b[1;33m(\u001b[0m\u001b[0ml1\u001b[0m\u001b[1;33m)\u001b[0m\u001b[1;33m)\u001b[0m\u001b[1;33m\u001b[0m\u001b[1;33m\u001b[0m\u001b[0m\n",
      "\u001b[1;31mIndexError\u001b[0m: list assignment index out of range"
     ]
    }
   ],
   "source": [
    "import random\n",
    "l1 = []\n",
    "for i in range(101):\n",
    "    l1[i] = random.randint(1,1000)\n",
    "print(sorted(l1)[-1])"
   ]
  },
  {
   "cell_type": "code",
   "execution_count": 56,
   "metadata": {},
   "outputs": [
    {
     "name": "stdout",
     "output_type": "stream",
     "text": [
      "991\n"
     ]
    }
   ],
   "source": [
    "a=[]\n",
    "for x in range(100):\n",
    "    a.append(random.randint(1,1000))\n",
    "\n",
    "max_a = a[0]\n",
    "for i in a:\n",
    "    if max_a<i:\n",
    "        max_a=i\n",
    "print(max_a)"
   ]
  },
  {
   "cell_type": "code",
   "execution_count": 56,
   "metadata": {},
   "outputs": [
    {
     "name": "stdout",
     "output_type": "stream",
     "text": [
      "995\n"
     ]
    }
   ],
   "source": [
    "a=[]\n",
    "for x in range(100):\n",
    "    a.append(random.randint(1,1000))\n",
    "\n",
    "print(sorted(a)[-1])"
   ]
  },
  {
   "cell_type": "code",
   "execution_count": 57,
   "metadata": {},
   "outputs": [
    {
     "name": "stdout",
     "output_type": "stream",
     "text": [
      "54049\n"
     ]
    }
   ],
   "source": [
    "a=[]\n",
    "for x in range(100):\n",
    "    a.append(random.randint(1,1000))\n",
    "a_sum = 0\n",
    "for i in a:\n",
    "    a_sum += i\n",
    "print(a_sum)"
   ]
  },
  {
   "cell_type": "markdown",
   "metadata": {},
   "source": [
    "## 리스트 컴프리핸션"
   ]
  },
  {
   "cell_type": "code",
   "execution_count": 61,
   "metadata": {},
   "outputs": [
    {
     "data": {
      "text/plain": [
       "[0, 2, 4, 6, 8]"
      ]
     },
     "execution_count": 61,
     "metadata": {},
     "output_type": "execute_result"
    }
   ],
   "source": [
    "a = [i for i in range(10) if i % 2 == 0]\n",
    "a"
   ]
  },
  {
   "cell_type": "code",
   "execution_count": 63,
   "metadata": {},
   "outputs": [
    {
     "data": {
      "text/plain": [
       "[0, 2, 4, 6, 8]"
      ]
     },
     "execution_count": 63,
     "metadata": {},
     "output_type": "execute_result"
    }
   ],
   "source": [
    "a=[]\n",
    "for i in range(10):\n",
    "    if i%2 == 0:\n",
    "        a.append(i)\n",
    "a\n",
    "#위 청크와 같음."
   ]
  },
  {
   "cell_type": "code",
   "execution_count": 66,
   "metadata": {},
   "outputs": [
    {
     "name": "stdout",
     "output_type": "stream",
     "text": [
      "[10, 20, 30, 40, 50, 60, 70, 80, 90, 12, 24, 36, 48, 60, 72, 84, 96, 108, 14, 28, 42, 56, 70, 84, 98, 112, 126, 16, 32, 48, 64, 80, 96, 112, 128, 144, 18, 36, 54, 72, 90, 108, 126, 144, 162]\n"
     ]
    }
   ],
   "source": [
    "a = [i*j for i in range(10,20) if i%2==0 for j in range(1,10)]\n",
    "print(a)"
   ]
  },
  {
   "cell_type": "code",
   "execution_count": 68,
   "metadata": {},
   "outputs": [
    {
     "name": "stdout",
     "output_type": "stream",
     "text": [
      "[10, 20, 30, 40, 50, 60, 70, 80, 90, 12, 24, 36, 48, 60, 72, 84, 96, 108, 14, 28, 42, 56, 70, 84, 98, 112, 126, 16, 32, 48, 64, 80, 96, 112, 128, 144, 18, 36, 54, 72, 90, 108, 126, 144, 162]\n"
     ]
    }
   ],
   "source": [
    "a=[]\n",
    "for i in range(10,20):\n",
    "    if i%2==0:\n",
    "        for j in range(1,10):\n",
    "            a.append(i*j)\n",
    "print(a)"
   ]
  },
  {
   "cell_type": "markdown",
   "metadata": {},
   "source": [
    "### 리스트 투 딕트"
   ]
  },
  {
   "cell_type": "code",
   "execution_count": 9,
   "metadata": {},
   "outputs": [
    {
     "name": "stdout",
     "output_type": "stream",
     "text": [
      "{'name': 'tom', 'age': 20}\n",
      "<class 'dict'>\n"
     ]
    }
   ],
   "source": [
    "keys = ['name','age']\n",
    "users = ['tom', 20]\n",
    "user_dict = {keys[i]:users[i] for i in range(len(keys))}\n",
    "print(user_dict)\n",
    "\n",
    "print(type(user_dict))"
   ]
  },
  {
   "cell_type": "code",
   "execution_count": 10,
   "metadata": {},
   "outputs": [
    {
     "name": "stdout",
     "output_type": "stream",
     "text": [
      "{'name': 'tom', 'age': 20}\n"
     ]
    }
   ],
   "source": [
    "user_dict = {key:users[idx] for idx, key in enumerate(keys)}\n",
    "print(user_dict)\n",
    "#여기 헷갈리지 않게 주의"
   ]
  },
  {
   "cell_type": "markdown",
   "metadata": {},
   "source": [
    "# zip"
   ]
  },
  {
   "cell_type": "code",
   "execution_count": 13,
   "metadata": {},
   "outputs": [
    {
     "name": "stdout",
     "output_type": "stream",
     "text": [
      "<zip object at 0x000001E3C6E0A608>\n",
      "{'name': 'tom', 'age': 20}\n"
     ]
    }
   ],
   "source": [
    "user_dict2 = zip(keys, users)\n",
    "print(user_dict2)\n",
    "\n",
    "print(dict(user_dict2))"
   ]
  },
  {
   "cell_type": "code",
   "execution_count": 79,
   "metadata": {},
   "outputs": [
    {
     "name": "stdout",
     "output_type": "stream",
     "text": [
      "[('name', 'tom'), ('age', 20)]\n"
     ]
    }
   ],
   "source": [
    "user_list = list(zip(keys, users))\n",
    "print(user_list)"
   ]
  },
  {
   "cell_type": "code",
   "execution_count": 83,
   "metadata": {},
   "outputs": [
    {
     "name": "stdout",
     "output_type": "stream",
     "text": [
      "[1, 2, 3, 4, 5]\n",
      "(1, 2, 3, 4, 5)\n"
     ]
    }
   ],
   "source": [
    "l1 = [1,2,3]\n",
    "t1 = (1,2,3)\n",
    "\n",
    "l1+=[4,5 ]\n",
    "t1+=(4,5 )\n",
    "\n",
    "print(l1)\n",
    "print(t1)\n",
    "\n",
    "#튜플은 수정이 안된다. 더해서 새로운 튜플을 만든것임. 수정은 안되는데 연산은 가능. 연산을 한 것은 새로운 튜플을 만드는 것."
   ]
  },
  {
   "cell_type": "markdown",
   "metadata": {},
   "source": [
    "# 연습문제 9"
   ]
  },
  {
   "cell_type": "code",
   "execution_count": 86,
   "metadata": {},
   "outputs": [
    {
     "data": {
      "text/plain": [
       "['school', 'science', 'mountn']"
      ]
     },
     "execution_count": 86,
     "metadata": {},
     "output_type": "execute_result"
    }
   ],
   "source": [
    "word = ['school', 'game', \"piano\", 'science', 'hotel', 'mountn']\n",
    "#리스트 컴프리핸션을 이용하여 글자수가 6이상인 단어를 모아 새로운 리스트 생성\n",
    "\n",
    "a=[i for i in word if len(i)>=6 ]\n",
    "a"
   ]
  },
  {
   "cell_type": "code",
   "execution_count": 94,
   "metadata": {},
   "outputs": [
    {
     "data": {
      "text/plain": [
       "[6, 4, 5, 7, 5, 8]"
      ]
     },
     "execution_count": 94,
     "metadata": {},
     "output_type": "execute_result"
    }
   ],
   "source": [
    "word = ['school', 'game', \"piano\", 'science', 'hotel', 'mountian']\n",
    "a=[len(i) for i in word]\n",
    "a"
   ]
  },
  {
   "cell_type": "code",
   "execution_count": 95,
   "metadata": {},
   "outputs": [
    {
     "data": {
      "text/plain": [
       "[6, 4, 5, 7, 5, 8]"
      ]
     },
     "execution_count": 95,
     "metadata": {},
     "output_type": "execute_result"
    }
   ],
   "source": [
    "a=[]\n",
    "for i in word:\n",
    "    a.append(len(i))\n",
    "a"
   ]
  },
  {
   "cell_type": "markdown",
   "metadata": {},
   "source": [
    "# 연습문제 9-1"
   ]
  },
  {
   "cell_type": "code",
   "execution_count": 138,
   "metadata": {},
   "outputs": [
    {
     "name": "stdout",
     "output_type": "stream",
     "text": [
      "[[20, 60], [120, 200], [300, 420]]\n"
     ]
    }
   ],
   "source": [
    "a = [[10,20], [30,40],[50,60]]\n",
    "b = [[2,3], [4,5],[6,7]]\n",
    "\n",
    "#이중 리스트 해체\n",
    "c=[]\n",
    "for x,y in a:\n",
    "    c.extend([x,y])\n",
    "d=[]\n",
    "for x,y in b:\n",
    "    d.extend([x,y])\n",
    "\n",
    "#리스트 간의 곱셈\n",
    "e=[]\n",
    "if len(c)==len(d):\n",
    "    for i in range(len(c)):\n",
    "        e.append(c[i]*d[i])\n",
    "\n",
    "#이중 리스트 구축\n",
    "f=[]\n",
    "n=0\n",
    "for i in range(3):\n",
    "    line=[]\n",
    "    for j in range(2):\n",
    "        line.append(e[n])\n",
    "        n+=1\n",
    "    f.append(line)\n",
    "print(f)"
   ]
  },
  {
   "cell_type": "code",
   "execution_count": 139,
   "metadata": {},
   "outputs": [],
   "source": [
    "# a=list([input('첫번째 2x3 리스트를 입력하십시오 : ')])\n",
    "# b=list([input('두번째 2x3 리스트를 입력하십시오 : ')])\n",
    "\n",
    "# c=[]\n",
    "# for x,y in a:\n",
    "#     c.extend([x,y])\n",
    "# d=[]\n",
    "# for x,y in b:\n",
    "#     d.extend([x,y])\n",
    "\n",
    "# e=[]\n",
    "# if len(c)==len(d):\n",
    "#     for i in range(len(c)):\n",
    "#         e.append(c[i]*d[i])\n",
    "    \n",
    "# print(e)"
   ]
  },
  {
   "cell_type": "code",
   "execution_count": 140,
   "metadata": {},
   "outputs": [
    {
     "name": "stdout",
     "output_type": "stream",
     "text": [
      "[[20, 60], [120, 200], [300, 420]]\n"
     ]
    }
   ],
   "source": [
    "c=[]\n",
    "for i in range(len(a)):\n",
    "    line=[]\n",
    "    for j in range(len(a[i])):\n",
    "        line.append(a[i][j]*b[i][j])\n",
    "    c.append(line)\n",
    "print(c)\n",
    "#간결한 버전"
   ]
  },
  {
   "cell_type": "code",
   "execution_count": 141,
   "metadata": {},
   "outputs": [],
   "source": [
    "# c=[]\n",
    "# for i,j in a:\n",
    "#     for f,g in b:\n",
    "#         c.append(list([(i*f),(j*g)]))\n",
    "# print(c)"
   ]
  },
  {
   "cell_type": "code",
   "execution_count": 142,
   "metadata": {},
   "outputs": [
    {
     "name": "stdout",
     "output_type": "stream",
     "text": [
      "[[20, 60], [120, 200], [300, 420]]\n"
     ]
    }
   ],
   "source": [
    "c=[]\n",
    "for i in range(len(a)):\n",
    "    \n",
    "    small_a = a[i]\n",
    "    s_a_0 = a[i][0]\n",
    "    s_a_1 = a[i][1]\n",
    "    \n",
    "    small_b = b[i]\n",
    "    s_b_0 = b[i][0]\n",
    "    s_b_1 = b[i][1]\n",
    "    \n",
    "    c.append([s_a_0*s_b_0, s_a_1*s_b_1])\n",
    "print(c)\n",
    "#강사님 버전"
   ]
  },
  {
   "cell_type": "code",
   "execution_count": 143,
   "metadata": {},
   "outputs": [
    {
     "name": "stdout",
     "output_type": "stream",
     "text": [
      "[[20, 60], [120, 200], [300, 420]]\n"
     ]
    }
   ],
   "source": [
    "c = [ [a[i][j]*b[i][j] for j in range(len(a[i]))] for i in range(len(a))]\n",
    "print(c)"
   ]
  },
  {
   "cell_type": "markdown",
   "metadata": {},
   "source": [
    "# 연습문제 10"
   ]
  },
  {
   "cell_type": "code",
   "execution_count": 132,
   "metadata": {},
   "outputs": [
    {
     "name": "stdout",
     "output_type": "stream",
     "text": [
      "[[1, 2], [3, 4], [5, 6]]\n"
     ]
    }
   ],
   "source": [
    "n=1\n",
    "a=[]\n",
    "for i in range(3):\n",
    "    line=[]\n",
    "    for j in range(2):\n",
    "        line.append(n)\n",
    "        n+=1\n",
    "    a.append(line)\n",
    "print(a)"
   ]
  },
  {
   "cell_type": "markdown",
   "metadata": {},
   "source": [
    "# break, continue"
   ]
  },
  {
   "cell_type": "code",
   "execution_count": 144,
   "metadata": {},
   "outputs": [
    {
     "name": "stdout",
     "output_type": "stream",
     "text": [
      "0\n",
      "1\n",
      "2\n",
      "3\n"
     ]
    }
   ],
   "source": [
    "for i in range(5):\n",
    "    print(i)\n",
    "    if i == 3:\n",
    "        break"
   ]
  },
  {
   "cell_type": "code",
   "execution_count": 145,
   "metadata": {},
   "outputs": [
    {
     "name": "stdout",
     "output_type": "stream",
     "text": [
      "0\n",
      "1\n",
      "2\n",
      "4\n"
     ]
    }
   ],
   "source": [
    "for i in range(5):\n",
    "    if i==3:\n",
    "        continue\n",
    "    print(i)"
   ]
  },
  {
   "cell_type": "markdown",
   "metadata": {},
   "source": [
    "# 연습문제 11"
   ]
  },
  {
   "cell_type": "code",
   "execution_count": 146,
   "metadata": {},
   "outputs": [
    {
     "name": "stdout",
     "output_type": "stream",
     "text": [
      "숫자를 입력하십시오 : 5\n",
      "hi\n",
      "hi\n",
      "hi\n",
      "hi\n",
      "hi\n"
     ]
    }
   ],
   "source": [
    "a=0\n",
    "num = int(input('숫자를 입력하십시오 : '))\n",
    "while 1:\n",
    "    print('hi')\n",
    "    a+=1\n",
    "    if a==num:\n",
    "        break"
   ]
  },
  {
   "cell_type": "code",
   "execution_count": 150,
   "metadata": {},
   "outputs": [
    {
     "name": "stdout",
     "output_type": "stream",
     "text": [
      "숫자를 입력하십시오 : 6\n",
      "2\n",
      "4\n",
      "6\n"
     ]
    }
   ],
   "source": [
    "num = int(input('숫자를 입력하십시오 : '))\n",
    "l1 = [i for i in range(1,num+1)]\n",
    "for i in l1: #그냥 in 뒤에 range(num+1) 쳐도 동일.\n",
    "    if i%2==1:\n",
    "        continue\n",
    "    print(i)"
   ]
  },
  {
   "cell_type": "markdown",
   "metadata": {},
   "source": [
    "# 입출력"
   ]
  },
  {
   "cell_type": "code",
   "execution_count": 152,
   "metadata": {},
   "outputs": [
    {
     "name": "stdout",
     "output_type": "stream",
     "text": [
      "helloasdfasdfasdfasdfasdfworld\n"
     ]
    }
   ],
   "source": [
    "print('hello','world',sep='asdfasdfasdfasdfasdf')"
   ]
  },
  {
   "cell_type": "code",
   "execution_count": 154,
   "metadata": {},
   "outputs": [
    {
     "name": "stdout",
     "output_type": "stream",
     "text": [
      "나는 나다\n"
     ]
    }
   ],
   "source": [
    "print('나는 %s다'%'나')"
   ]
  },
  {
   "cell_type": "code",
   "execution_count": 155,
   "metadata": {},
   "outputs": [
    {
     "name": "stdout",
     "output_type": "stream",
     "text": [
      "나는 나다\n"
     ]
    }
   ],
   "source": [
    "print('나는 {}다'.format('나'))"
   ]
  },
  {
   "cell_type": "code",
   "execution_count": 157,
   "metadata": {},
   "outputs": [
    {
     "name": "stdout",
     "output_type": "stream",
     "text": [
      "암거나1\n"
     ]
    },
    {
     "data": {
      "text/plain": [
       "'1'"
      ]
     },
     "execution_count": 157,
     "metadata": {},
     "output_type": "execute_result"
    }
   ],
   "source": [
    "input('암거나')"
   ]
  },
  {
   "cell_type": "markdown",
   "metadata": {},
   "source": [
    "## 파일 입출력"
   ]
  },
  {
   "cell_type": "code",
   "execution_count": 166,
   "metadata": {},
   "outputs": [],
   "source": [
    "file = open(\"my_file.txt\", 'w')\n",
    "file.write(\"mine\")\n",
    "file.close()"
   ]
  },
  {
   "cell_type": "code",
   "execution_count": 168,
   "metadata": {},
   "outputs": [
    {
     "name": "stdout",
     "output_type": "stream",
     "text": [
      "mine\n"
     ]
    }
   ],
   "source": [
    "file = open(\"my_file.txt\", 'r')\n",
    "read_str = file.read()\n",
    "print(read_str)\n",
    "file.close()"
   ]
  },
  {
   "cell_type": "code",
   "execution_count": 169,
   "metadata": {},
   "outputs": [],
   "source": [
    "target_str = \"\"\"안녕\n",
    "반갑\n",
    "나는 나다\n",
    "\"\"\"\n",
    "file = open(\"my_second_file.txt\", 'w')\n",
    "file.write(target_str)\n",
    "file.close()"
   ]
  },
  {
   "cell_type": "code",
   "execution_count": 170,
   "metadata": {},
   "outputs": [],
   "source": [
    "# file = open(\"<파일명>\", 'wt') #t를 생략해도 같다. 디폴트이기 때문.\n",
    "\n",
    "# file = open(\"<파일명>\", 'wb')\n"
   ]
  },
  {
   "cell_type": "code",
   "execution_count": 171,
   "metadata": {},
   "outputs": [],
   "source": [
    "# file = open(\"<파일명>\", 'w+')\n",
    "# file = open(\"<파일명>\", 'r+')\n",
    "# file = open(\"<파일명>\", 'a+')\n",
    "# # +가 붙으면 읽을 수도 있고 쓸 수도 있다."
   ]
  },
  {
   "cell_type": "code",
   "execution_count": 179,
   "metadata": {},
   "outputs": [],
   "source": [
    "file = open(\"my_file.txt\", 'w')\n",
    "file.write(\"파일수정\")\n",
    "file.close()"
   ]
  },
  {
   "cell_type": "code",
   "execution_count": 180,
   "metadata": {},
   "outputs": [
    {
     "name": "stdout",
     "output_type": "stream",
     "text": [
      "파일수정\n"
     ]
    }
   ],
   "source": [
    "file = open(\"my_file.txt\", 'r')\n",
    "txt_file = file.read()\n",
    "print(txt_file)\n",
    "file.close()"
   ]
  },
  {
   "cell_type": "markdown",
   "metadata": {},
   "source": [
    "## +모드는 나중에 추가 설명"
   ]
  },
  {
   "cell_type": "code",
   "execution_count": 182,
   "metadata": {},
   "outputs": [
    {
     "name": "stdout",
     "output_type": "stream",
     "text": [
      "\n"
     ]
    }
   ],
   "source": [
    "file = open(\"my_file.txt\", 'w+')\n",
    "file.write(\"파일 쓰기 연습입니다.\")\n",
    "\n",
    "txt_file = file.read()\n",
    "print(txt_file)\n",
    "file.close()"
   ]
  },
  {
   "cell_type": "code",
   "execution_count": 184,
   "metadata": {},
   "outputs": [
    {
     "name": "stdout",
     "output_type": "stream",
     "text": [
      "\n"
     ]
    }
   ],
   "source": [
    "f = open(\"my_file.txt\", 'r+')\n",
    "f.write(\"파일 쓰기 연습입니다.2\")\n",
    "txt_file = f.read()\n",
    "print(txt_file)\n",
    "\n",
    "f.close()"
   ]
  },
  {
   "cell_type": "markdown",
   "metadata": {},
   "source": [
    "### with"
   ]
  },
  {
   "cell_type": "code",
   "execution_count": 186,
   "metadata": {},
   "outputs": [],
   "source": [
    "with open(\"my_file2.txt\", 'w') as f: # f=open(\"my_file2.txt\",'w') 와 동일\n",
    "    f.write(\"파일입니다. \\n재미있는 파이썬\")"
   ]
  },
  {
   "cell_type": "code",
   "execution_count": 188,
   "metadata": {},
   "outputs": [
    {
     "name": "stdout",
     "output_type": "stream",
     "text": [
      "파일입니다. \n",
      "재미있는 파이썬\n"
     ]
    }
   ],
   "source": [
    "with open(\"my_file2.txt\", 'r') as f:\n",
    "    read = f.read()\n",
    "    \n",
    "    print(read)"
   ]
  },
  {
   "cell_type": "markdown",
   "metadata": {},
   "source": [
    "## readline, readlines"
   ]
  },
  {
   "cell_type": "code",
   "execution_count": 189,
   "metadata": {},
   "outputs": [
    {
     "name": "stdout",
     "output_type": "stream",
     "text": [
      "파일입니다. \n",
      "\n"
     ]
    }
   ],
   "source": [
    "with open(\"my_file2.txt\", 'r') as f:\n",
    "    line = f.readline()\n",
    "    print(line)"
   ]
  },
  {
   "cell_type": "code",
   "execution_count": 7,
   "metadata": {},
   "outputs": [
    {
     "name": "stdout",
     "output_type": "stream",
     "text": [
      "파일입니다. \n",
      "\n",
      "재미있는 파이썬\n",
      "<class 'str'>\n"
     ]
    }
   ],
   "source": [
    "with open(\"my_file2.txt\", 'r') as f:\n",
    "    line = f.readline()\n",
    "    while line:\n",
    "        print(line)\n",
    "        line = f.readline()"
   ]
  },
  {
   "cell_type": "code",
   "execution_count": 199,
   "metadata": {},
   "outputs": [
    {
     "name": "stdout",
     "output_type": "stream",
     "text": [
      "<class 'list'>\n",
      "['파일입니다. \\n', '재미있는 파이썬']\n"
     ]
    }
   ],
   "source": [
    "with open(\"my_file2.txt\", 'r') as f:\n",
    "    lines = f.readlines()\n",
    "print(type(lines))\n",
    "print(lines)"
   ]
  },
  {
   "cell_type": "code",
   "execution_count": 193,
   "metadata": {},
   "outputs": [
    {
     "name": "stdout",
     "output_type": "stream",
     "text": [
      "파일입니다. \n",
      "재미있는 파이썬\n"
     ]
    }
   ],
   "source": [
    "str_var = \"\".join(lines)\n",
    "print(str_var)"
   ]
  },
  {
   "cell_type": "code",
   "execution_count": 194,
   "metadata": {},
   "outputs": [],
   "source": [
    "with open(\"my_write_example.txt\", 'w') as f:\n",
    "    f.writelines(lines)"
   ]
  }
 ],
 "metadata": {
  "kernelspec": {
   "display_name": "Python 3",
   "language": "python",
   "name": "python3"
  },
  "language_info": {
   "codemirror_mode": {
    "name": "ipython",
    "version": 3
   },
   "file_extension": ".py",
   "mimetype": "text/x-python",
   "name": "python",
   "nbconvert_exporter": "python",
   "pygments_lexer": "ipython3",
   "version": "3.7.3"
  }
 },
 "nbformat": 4,
 "nbformat_minor": 2
}
